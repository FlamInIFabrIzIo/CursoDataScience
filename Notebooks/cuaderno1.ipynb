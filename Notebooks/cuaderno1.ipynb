{
 "cells": [
  {
   "cell_type": "markdown",
   "id": "95e6f49d-94e1-418f-bff8-e5df4e5575b3",
   "metadata": {
    "tags": []
   },
   "source": [
    "## 1. Variables"
   ]
  },
  {
   "cell_type": "markdown",
   "id": "d8dd37ea-6749-4695-8b9f-ded141fe889d",
   "metadata": {},
   "source": [
    "Sumar 10+ 30"
   ]
  },
  {
   "cell_type": "code",
   "execution_count": 1,
   "id": "d1661814-37e0-4975-ac92-fb77651a6b49",
   "metadata": {
    "tags": []
   },
   "outputs": [
    {
     "data": {
      "text/plain": [
       "40"
      ]
     },
     "execution_count": 1,
     "metadata": {},
     "output_type": "execute_result"
    }
   ],
   "source": [
    "10+30"
   ]
  },
  {
   "cell_type": "markdown",
   "id": "48fe2cd1-1c7e-4ed6-be72-d3b489e97198",
   "metadata": {
    "tags": []
   },
   "source": [
    "Declara la variable \"sueldo\", debe valer 16000"
   ]
  },
  {
   "cell_type": "code",
   "execution_count": 2,
   "id": "e364bce9-0877-4d16-8087-10f44d16d3dd",
   "metadata": {
    "tags": []
   },
   "outputs": [],
   "source": [
    "sueldo= 16000"
   ]
  },
  {
   "cell_type": "markdown",
   "id": "a5e52d65-574a-4eff-9428-07ed9cb02dbf",
   "metadata": {},
   "source": [
    "Mostrar la variable sueldo"
   ]
  },
  {
   "cell_type": "code",
   "execution_count": 3,
   "id": "730bc6a8-cf71-4ba5-a971-2c268314d11e",
   "metadata": {
    "tags": []
   },
   "outputs": [
    {
     "data": {
      "text/plain": [
       "16000"
      ]
     },
     "execution_count": 3,
     "metadata": {},
     "output_type": "execute_result"
    }
   ],
   "source": [
    "sueldo"
   ]
  },
  {
   "cell_type": "markdown",
   "id": "974d386a-9bb5-40ce-b4c7-8b71cc7311d4",
   "metadata": {},
   "source": [
    "Declarar la variable \"bono\", debe valer 4000"
   ]
  },
  {
   "cell_type": "code",
   "execution_count": 4,
   "id": "b188e3a9-ca4f-47f1-b678-001eed67d8e9",
   "metadata": {
    "tags": []
   },
   "outputs": [],
   "source": [
    "bono=4000"
   ]
  },
  {
   "cell_type": "markdown",
   "id": "3b46908c-0f68-4c84-84ee-203ad1429274",
   "metadata": {},
   "source": [
    "Declarar la variable total, debe ser la suma de sueldo y bono"
   ]
  },
  {
   "cell_type": "code",
   "execution_count": 5,
   "id": "906243ad-3994-483d-b9c8-8dd97bbbb06a",
   "metadata": {
    "tags": []
   },
   "outputs": [
    {
     "data": {
      "text/plain": [
       "20000"
      ]
     },
     "execution_count": 5,
     "metadata": {},
     "output_type": "execute_result"
    }
   ],
   "source": [
    "total= sueldo + bono\n",
    "total"
   ]
  },
  {
   "cell_type": "markdown",
   "id": "972cca46-67b6-47a1-8435-00f0b227258f",
   "metadata": {
    "tags": []
   },
   "source": [
    "Declarar la variable \"neto\", debe ser el resultado de restar 2000 al sueldo total"
   ]
  },
  {
   "cell_type": "code",
   "execution_count": 6,
   "id": "b4f2dfcb-be2e-44a3-bc60-536138bddf4c",
   "metadata": {
    "tags": []
   },
   "outputs": [],
   "source": [
    "neto = total - 2000"
   ]
  },
  {
   "cell_type": "markdown",
   "id": "4df59d0e-be9c-41cc-aa7e-141ed452aacb",
   "metadata": {
    "tags": []
   },
   "source": [
    "Declarar la variable \"anual\", debe ser el resultado de multiplicar neto por 12"
   ]
  },
  {
   "cell_type": "code",
   "execution_count": 7,
   "id": "503bbcaa-778d-4720-9878-16224ec64e5c",
   "metadata": {
    "tags": []
   },
   "outputs": [
    {
     "data": {
      "text/plain": [
       "216000"
      ]
     },
     "execution_count": 7,
     "metadata": {},
     "output_type": "execute_result"
    }
   ],
   "source": [
    "anual= neto*12\n",
    "anual"
   ]
  },
  {
   "cell_type": "markdown",
   "id": "250f2a2b-06c9-4ac8-b82c-422e1009390e",
   "metadata": {
    "tags": []
   },
   "source": [
    "Declarar la variable \"diario\", debe ser el resultado de dividir neto entre 30"
   ]
  },
  {
   "cell_type": "code",
   "execution_count": 8,
   "id": "7ac394d6-5a0c-4f34-ad86-279fad732771",
   "metadata": {
    "tags": []
   },
   "outputs": [
    {
     "data": {
      "text/plain": [
       "600.0"
      ]
     },
     "execution_count": 8,
     "metadata": {},
     "output_type": "execute_result"
    }
   ],
   "source": [
    "diario = neto / 30\n",
    "diario"
   ]
  },
  {
   "cell_type": "markdown",
   "id": "7a14559a-732d-48c3-a58e-cb0757251df0",
   "metadata": {
    "tags": []
   },
   "source": [
    "Usar el operador \"<\" para calcular si el sueldo diario es menor a 700"
   ]
  },
  {
   "cell_type": "code",
   "execution_count": 9,
   "id": "33197b59-3187-4ad4-ba28-cc341696a405",
   "metadata": {
    "tags": []
   },
   "outputs": [
    {
     "data": {
      "text/plain": [
       "True"
      ]
     },
     "execution_count": 9,
     "metadata": {},
     "output_type": "execute_result"
    }
   ],
   "source": [
    "diario < 700"
   ]
  },
  {
   "cell_type": "markdown",
   "id": "2a41875a-27be-4639-93cd-fd5ec11d3c45",
   "metadata": {},
   "source": [
    "Usar el operador \">\" para calcular si el sueldo diario es mayor a 1000"
   ]
  },
  {
   "cell_type": "code",
   "execution_count": 10,
   "id": "3eae77db-a1e3-4cc3-9ce4-33fd7d931cea",
   "metadata": {
    "tags": []
   },
   "outputs": [
    {
     "data": {
      "text/plain": [
       "False"
      ]
     },
     "execution_count": 10,
     "metadata": {},
     "output_type": "execute_result"
    }
   ],
   "source": [
    "diario > 1000"
   ]
  },
  {
   "cell_type": "markdown",
   "id": "c1c1a66b-f3f5-49d0-8c52-87e375430c53",
   "metadata": {},
   "source": [
    "## 2. Cadenas "
   ]
  },
  {
   "cell_type": "markdown",
   "id": "17772919-efb5-4471-9483-a1cbf7d7e33a",
   "metadata": {},
   "source": [
    "Declarar la variable \"hola\", debe contener \"hola mundo\""
   ]
  },
  {
   "cell_type": "code",
   "execution_count": 11,
   "id": "0b31b38e-dd5f-4992-b86e-25b41b586cce",
   "metadata": {
    "tags": []
   },
   "outputs": [],
   "source": [
    "hola =\"hola mundo\""
   ]
  },
  {
   "cell_type": "markdown",
   "id": "9b724430-0a39-4695-b9ca-ed85db2ce485",
   "metadata": {},
   "source": [
    "Mostrar la variable hola usando la funcion print"
   ]
  },
  {
   "cell_type": "code",
   "execution_count": 12,
   "id": "9e943874-40e2-4a46-8164-8c2bf35b19f5",
   "metadata": {
    "tags": []
   },
   "outputs": [
    {
     "name": "stdout",
     "output_type": "stream",
     "text": [
      "hola mundo\n"
     ]
    }
   ],
   "source": [
    "print(hola)"
   ]
  },
  {
   "cell_type": "markdown",
   "id": "e6cc4783-cdb6-4918-a8ee-6cd6dee84bc0",
   "metadata": {
    "tags": []
   },
   "source": [
    "Mostrar un texto usando saltos de líneas"
   ]
  },
  {
   "cell_type": "code",
   "execution_count": 13,
   "id": "72674494-40f3-4b60-bd67-799a537b9fa8",
   "metadata": {
    "tags": []
   },
   "outputs": [
    {
     "name": "stdout",
     "output_type": "stream",
     "text": [
      "Esta es una oración\n",
      "con saltos\n",
      "de línea\n"
     ]
    }
   ],
   "source": [
    "print(\"Esta es una oración\\ncon saltos\\nde línea\")"
   ]
  },
  {
   "cell_type": "markdown",
   "id": "0cd3c424-8da0-4b9c-abed-15cf0d3b4290",
   "metadata": {},
   "source": [
    "Declarar la variable nombre"
   ]
  },
  {
   "cell_type": "code",
   "execution_count": 14,
   "id": "5384f1af-70b1-4774-86bf-e7d79086f372",
   "metadata": {
    "tags": []
   },
   "outputs": [],
   "source": [
    "nombre= \"Dan Contreras\""
   ]
  },
  {
   "cell_type": "markdown",
   "id": "ade358ae-e3cb-4ad2-9dce-5f1d4800d889",
   "metadata": {},
   "source": [
    "Usar print y la variable \"nombre\" para mostrar \"Hola Dan\""
   ]
  },
  {
   "cell_type": "code",
   "execution_count": 15,
   "id": "49e3ee32-2dd7-4956-86aa-c0fea805e494",
   "metadata": {
    "tags": []
   },
   "outputs": [
    {
     "name": "stdout",
     "output_type": "stream",
     "text": [
      "Hola Dan Contreras\n"
     ]
    }
   ],
   "source": [
    "print(\"Hola \" + nombre)"
   ]
  },
  {
   "cell_type": "markdown",
   "id": "fbecf8f8-b7c6-4d9d-be48-5a868f583bd6",
   "metadata": {},
   "source": [
    "Volver a mostrar el texto anterior, usando formatted string literals"
   ]
  },
  {
   "cell_type": "code",
   "execution_count": 16,
   "id": "2b1bb6d0-7ac4-4f9c-95df-429201c4cb5a",
   "metadata": {
    "tags": []
   },
   "outputs": [
    {
     "name": "stdout",
     "output_type": "stream",
     "text": [
      "Hola Dan Contreras\n"
     ]
    }
   ],
   "source": [
    "print(f\"Hola {nombre}\")"
   ]
  },
  {
   "cell_type": "markdown",
   "id": "3035e7b1-fb42-41a5-af22-f1df07f0cbee",
   "metadata": {},
   "source": [
    "Repetir la cadena \"nombre\" 4 veces"
   ]
  },
  {
   "cell_type": "code",
   "execution_count": 17,
   "id": "a28cba42-dc08-4803-85cf-186d861d18e7",
   "metadata": {
    "tags": []
   },
   "outputs": [
    {
     "data": {
      "text/plain": [
       "'Dan ContrerasDan ContrerasDan ContrerasDan Contreras'"
      ]
     },
     "execution_count": 17,
     "metadata": {},
     "output_type": "execute_result"
    }
   ],
   "source": [
    "nombre * 4"
   ]
  },
  {
   "cell_type": "markdown",
   "id": "e6d83210-9770-4f9d-a375-4c48545d46f0",
   "metadata": {
    "tags": []
   },
   "source": [
    "Convertir la variable \"nombre\" a mayúsculas"
   ]
  },
  {
   "cell_type": "code",
   "execution_count": 18,
   "id": "facc64d0-f7da-47c4-857c-1a1d185c5e06",
   "metadata": {
    "tags": []
   },
   "outputs": [
    {
     "data": {
      "text/plain": [
       "'DAN CONTRERAS'"
      ]
     },
     "execution_count": 18,
     "metadata": {},
     "output_type": "execute_result"
    }
   ],
   "source": [
    "nombre.upper()"
   ]
  },
  {
   "cell_type": "markdown",
   "id": "9bcc87a4-da94-4deb-81d5-b454711ced6e",
   "metadata": {
    "tags": []
   },
   "source": [
    "Calcular la cantidad de letras en la variable \"nombre\""
   ]
  },
  {
   "cell_type": "code",
   "execution_count": 19,
   "id": "26eedcd5-98ce-4a1a-933f-8c18602ea180",
   "metadata": {
    "tags": []
   },
   "outputs": [
    {
     "data": {
      "text/plain": [
       "13"
      ]
     },
     "execution_count": 19,
     "metadata": {},
     "output_type": "execute_result"
    }
   ],
   "source": [
    "len(nombre)"
   ]
  },
  {
   "cell_type": "markdown",
   "id": "0b712be8-15fd-4331-8202-7b325473f010",
   "metadata": {
    "tags": []
   },
   "source": [
    "Usar \"input\" y \"len\" para calcular el tamaño de la cadena dada por el usuario"
   ]
  },
  {
   "cell_type": "code",
   "execution_count": 20,
   "id": "061acc45-3beb-49cd-a397-64275303d7fe",
   "metadata": {
    "tags": []
   },
   "outputs": [
    {
     "data": {
      "text/plain": [
       "0"
      ]
     },
     "execution_count": 20,
     "metadata": {},
     "output_type": "execute_result"
    }
   ],
   "source": [
    "nombre = input(\"Introduzca su nombre\")\n",
    "len(nombre)"
   ]
  },
  {
   "cell_type": "markdown",
   "id": "393f596f-2634-4e07-bc27-ba4d9fe29fba",
   "metadata": {},
   "source": [
    "## 3. Listas"
   ]
  },
  {
   "cell_type": "markdown",
   "id": "a8d998ee-98e9-4439-8ebd-cf43f0f343d2",
   "metadata": {},
   "source": [
    "Crear una lista con nombres"
   ]
  },
  {
   "cell_type": "code",
   "execution_count": 21,
   "id": "91adfe60-59f3-4f7c-b26c-47626e5aa55f",
   "metadata": {
    "tags": []
   },
   "outputs": [],
   "source": [
    "nombres = [\"Pedro\", \"Cecilia\", \"Maria\", \"Miguel\"]"
   ]
  },
  {
   "cell_type": "markdown",
   "id": "aa72da71-1fe4-4995-a5f4-11798daf32c7",
   "metadata": {},
   "source": [
    "Mostrar el segundo nombre:"
   ]
  },
  {
   "cell_type": "code",
   "execution_count": 22,
   "id": "fe29a762-3069-4590-88fe-10a42cd768a6",
   "metadata": {
    "tags": []
   },
   "outputs": [
    {
     "data": {
      "text/plain": [
       "'Cecilia'"
      ]
     },
     "execution_count": 22,
     "metadata": {},
     "output_type": "execute_result"
    }
   ],
   "source": [
    "nombres[1]"
   ]
  },
  {
   "cell_type": "markdown",
   "id": "ffd24bbc-5e7c-4a0c-8490-2ad0a6079c91",
   "metadata": {},
   "source": [
    "Mostrar todos los nombres a partir del segundo"
   ]
  },
  {
   "cell_type": "code",
   "execution_count": 23,
   "id": "afcbabd2-02ca-4e48-b99b-e316088e3f2d",
   "metadata": {
    "tags": []
   },
   "outputs": [
    {
     "data": {
      "text/plain": [
       "['Cecilia', 'Maria', 'Miguel']"
      ]
     },
     "execution_count": 23,
     "metadata": {},
     "output_type": "execute_result"
    }
   ],
   "source": [
    "nombres[1:]"
   ]
  },
  {
   "cell_type": "markdown",
   "id": "252b6647-6f17-489f-862d-7f13029709f2",
   "metadata": {},
   "source": [
    "Mostrar los primeros 3 nombres"
   ]
  },
  {
   "cell_type": "code",
   "execution_count": 24,
   "id": "91466a55-74d4-4fab-8b98-c70b7e1c249d",
   "metadata": {
    "tags": []
   },
   "outputs": [
    {
     "data": {
      "text/plain": [
       "['Pedro', 'Cecilia', 'Maria']"
      ]
     },
     "execution_count": 24,
     "metadata": {},
     "output_type": "execute_result"
    }
   ],
   "source": [
    "nombres[:3]"
   ]
  },
  {
   "cell_type": "markdown",
   "id": "3dd4f997-1b7d-4e84-a643-6d2ec1cbc714",
   "metadata": {
    "tags": []
   },
   "source": [
    "Buscar el indice de \"Maria\""
   ]
  },
  {
   "cell_type": "code",
   "execution_count": 25,
   "id": "25d0a349-0176-4b0a-9621-d0c3c2c46eb9",
   "metadata": {
    "tags": []
   },
   "outputs": [
    {
     "data": {
      "text/plain": [
       "2"
      ]
     },
     "execution_count": 25,
     "metadata": {},
     "output_type": "execute_result"
    }
   ],
   "source": [
    "nombres.index(\"Maria\")"
   ]
  },
  {
   "cell_type": "markdown",
   "id": "c30b478c-21b8-4608-bebb-021534b74810",
   "metadata": {},
   "source": [
    "Agregar un nombre a la lista"
   ]
  },
  {
   "cell_type": "code",
   "execution_count": 26,
   "id": "2ee3bddf-33f6-499c-bf53-ef9df02c0307",
   "metadata": {
    "tags": []
   },
   "outputs": [],
   "source": [
    "nombres.append(\"Juan\")"
   ]
  },
  {
   "cell_type": "markdown",
   "id": "6a42c9b8-1563-4c2e-b219-90f8fd4cff53",
   "metadata": {},
   "source": [
    "Eliminar el cuarto nombre de la lista"
   ]
  },
  {
   "cell_type": "code",
   "execution_count": 27,
   "id": "bd1797f4-8319-4aa1-a5d2-34e05ca7fb1b",
   "metadata": {
    "tags": []
   },
   "outputs": [
    {
     "data": {
      "text/plain": [
       "['Pedro', 'Cecilia', 'Maria', 'Juan']"
      ]
     },
     "execution_count": 27,
     "metadata": {},
     "output_type": "execute_result"
    }
   ],
   "source": [
    "nombres.pop(3)\n",
    "nombres"
   ]
  },
  {
   "cell_type": "markdown",
   "id": "8b7683bf-88f6-41b1-9f2d-b1e2aa5219a2",
   "metadata": {},
   "source": [
    "Actualizar el tercer elemento en la lista, el nombre debe ser \"Gabriela\""
   ]
  },
  {
   "cell_type": "code",
   "execution_count": 28,
   "id": "21c09aa4-6ff0-42cc-8c0d-f3907ce6dc75",
   "metadata": {
    "tags": []
   },
   "outputs": [
    {
     "data": {
      "text/plain": [
       "['Pedro', 'Cecilia', 'Gabriela', 'Juan']"
      ]
     },
     "execution_count": 28,
     "metadata": {},
     "output_type": "execute_result"
    }
   ],
   "source": [
    "nombres[2]=\"Gabriela\"\n",
    "nombres"
   ]
  },
  {
   "cell_type": "markdown",
   "id": "aa0e0247-d4ed-464c-b4d3-6395bec14e7a",
   "metadata": {},
   "source": [
    "Crea una lista de listas en Python, donde cada sublista contenga tres elementos: el nombre del estudiante, la edad y el promedio."
   ]
  },
  {
   "cell_type": "code",
   "execution_count": 29,
   "id": "a1b904b1-ea82-43c9-98c0-74b218d3290f",
   "metadata": {
    "tags": []
   },
   "outputs": [],
   "source": [
    "alumnos=[\n",
    "    [\"Adriana\", 13, 9.3],\n",
    "    [\"Elías\", 12, 9.2]\n",
    "]"
   ]
  },
  {
   "cell_type": "markdown",
   "id": "6cd5501e-020c-45b8-b7cc-70e78e98d193",
   "metadata": {},
   "source": [
    "Mostrar el nombre y promedio del segundo estudiante en una cadena de texto, ej. \"El alumno [Nombre] tiene un promedio de [Promedio]\""
   ]
  },
  {
   "cell_type": "code",
   "execution_count": 30,
   "id": "95b4b783-f530-499e-a2e4-8d953f9556fb",
   "metadata": {
    "tags": []
   },
   "outputs": [
    {
     "data": {
      "text/plain": [
       "'El alumno Elías tiene un promedio de 9.2'"
      ]
     },
     "execution_count": 30,
     "metadata": {},
     "output_type": "execute_result"
    }
   ],
   "source": [
    "f\"El alumno {alumnos[1][0]} tiene un promedio de {alumnos[1][2]}\""
   ]
  },
  {
   "cell_type": "markdown",
   "id": "13722cfe-ac79-442a-80dd-5d5f3d8794b0",
   "metadata": {},
   "source": [
    "## 4. Diccionarios"
   ]
  },
  {
   "cell_type": "markdown",
   "id": "d560eec7-fa50-4ebb-b4a2-f94c8632f909",
   "metadata": {
    "tags": []
   },
   "source": [
    "Crear un diccionario con la siguiente información sobre un libro: \"Autor\", \"Año de lanzamiento\", \"Páginas\", \"Costo\", \"EdiciónLim\", \"E-libro\""
   ]
  },
  {
   "cell_type": "code",
   "execution_count": 31,
   "id": "c45842eb-0300-4e77-b8d0-2b9b5f103240",
   "metadata": {
    "tags": []
   },
   "outputs": [
    {
     "data": {
      "text/plain": [
       "{'Nombre': 'Pinocho',\n",
       " 'Autor': 'Carlo Collodi',\n",
       " 'AñoLanzamiento': 1882,\n",
       " 'Páginas': 863,\n",
       " 'EdicLim': True,\n",
       " 'E-Libro': False}"
      ]
     },
     "execution_count": 31,
     "metadata": {},
     "output_type": "execute_result"
    }
   ],
   "source": [
    "libro={\n",
    "    \"Nombre\":\"Pinocho\",\n",
    "    \"Autor\":\"Carlo Collodi\" ,\n",
    "    \"AñoLanzamiento\": 1882,\n",
    "    \"Páginas\": 863,\n",
    "    \"EdicLim\": True,\n",
    "    \"E-Libro\": False\n",
    "}\n",
    "libro"
   ]
  },
  {
   "cell_type": "markdown",
   "id": "09d4a579-9497-4775-a250-6c20c95fdf2b",
   "metadata": {},
   "source": [
    "Acceder al autor del libro anterior"
   ]
  },
  {
   "cell_type": "code",
   "execution_count": 32,
   "id": "02982814-e223-466f-a75e-aaf85eed44a2",
   "metadata": {
    "tags": []
   },
   "outputs": [
    {
     "data": {
      "text/plain": [
       "'Carlo Collodi'"
      ]
     },
     "execution_count": 32,
     "metadata": {},
     "output_type": "execute_result"
    }
   ],
   "source": [
    "libro[\"Autor\"]"
   ]
  },
  {
   "cell_type": "markdown",
   "id": "80db6644-3e60-48a4-8373-1b49c8dd5b4d",
   "metadata": {},
   "source": [
    "Agregar el campo \"Género\", debe ser igual a \"Novela\""
   ]
  },
  {
   "cell_type": "code",
   "execution_count": 33,
   "id": "4a5e4646-5ae8-41c7-b810-50b280d01d0c",
   "metadata": {
    "tags": []
   },
   "outputs": [
    {
     "data": {
      "text/plain": [
       "{'Nombre': 'Pinocho',\n",
       " 'Autor': 'Carlo Collodi',\n",
       " 'AñoLanzamiento': 1882,\n",
       " 'Páginas': 863,\n",
       " 'EdicLim': True,\n",
       " 'E-Libro': False,\n",
       " 'Género': 'Novela'}"
      ]
     },
     "execution_count": 33,
     "metadata": {},
     "output_type": "execute_result"
    }
   ],
   "source": [
    "libro[\"Género\"] = \"Novela\"\n",
    "libro"
   ]
  },
  {
   "cell_type": "markdown",
   "id": "2a1e8e23-9d12-4480-8e21-c004c68235bb",
   "metadata": {},
   "source": [
    "Eliminar la clave-valor \"Páginas\""
   ]
  },
  {
   "cell_type": "code",
   "execution_count": 34,
   "id": "4be828c0-82f4-4f39-b7a2-e4ca63e511ac",
   "metadata": {
    "tags": []
   },
   "outputs": [],
   "source": [
    "del libro[\"Páginas\"]"
   ]
  },
  {
   "cell_type": "code",
   "execution_count": 35,
   "id": "3a1aafc4-ff17-4fb1-b129-3d653c084971",
   "metadata": {
    "tags": []
   },
   "outputs": [
    {
     "data": {
      "text/plain": [
       "{'Nombre': 'Pinocho',\n",
       " 'Autor': 'Carlo Collodi',\n",
       " 'AñoLanzamiento': 1882,\n",
       " 'EdicLim': True,\n",
       " 'E-Libro': False,\n",
       " 'Género': 'Novela'}"
      ]
     },
     "execution_count": 35,
     "metadata": {},
     "output_type": "execute_result"
    }
   ],
   "source": [
    "libro"
   ]
  },
  {
   "cell_type": "markdown",
   "id": "9ea27f17-e347-4308-bc57-5756ba65b4bb",
   "metadata": {},
   "source": [
    "Comprobar si existe la clave-valor \"Autor\""
   ]
  },
  {
   "cell_type": "code",
   "execution_count": 36,
   "id": "a18afc98-5ea4-4561-9c47-be12df4dd39a",
   "metadata": {
    "tags": []
   },
   "outputs": [
    {
     "data": {
      "text/plain": [
       "True"
      ]
     },
     "execution_count": 36,
     "metadata": {},
     "output_type": "execute_result"
    }
   ],
   "source": [
    "\"Autor\" in libro"
   ]
  },
  {
   "cell_type": "markdown",
   "id": "fe087fb0-a3d9-430b-bd97-6c1ef395f0f2",
   "metadata": {},
   "source": [
    "Obtener el nombre de todas las llaves en el diccionario \"libro\""
   ]
  },
  {
   "cell_type": "code",
   "execution_count": 37,
   "id": "0cabf4fa-d2cf-4495-9798-3af7a3d49e71",
   "metadata": {
    "tags": []
   },
   "outputs": [
    {
     "data": {
      "text/plain": [
       "dict_keys(['Nombre', 'Autor', 'AñoLanzamiento', 'EdicLim', 'E-Libro', 'Género'])"
      ]
     },
     "execution_count": 37,
     "metadata": {},
     "output_type": "execute_result"
    }
   ],
   "source": [
    "libro.keys()"
   ]
  },
  {
   "cell_type": "markdown",
   "id": "e2d97f53-0724-4cad-a907-b568241e41bf",
   "metadata": {},
   "source": [
    "Obtener todos los valores en el diccionario \"libro\""
   ]
  },
  {
   "cell_type": "code",
   "execution_count": 38,
   "id": "d44c0720-5f9b-4dcc-97cd-c81495003e4d",
   "metadata": {
    "tags": []
   },
   "outputs": [
    {
     "data": {
      "text/plain": [
       "dict_values(['Pinocho', 'Carlo Collodi', 1882, True, False, 'Novela'])"
      ]
     },
     "execution_count": 38,
     "metadata": {},
     "output_type": "execute_result"
    }
   ],
   "source": [
    "libro.values()"
   ]
  },
  {
   "cell_type": "markdown",
   "id": "f87e798e-1d7e-4bba-a8aa-8036bf773929",
   "metadata": {},
   "source": [
    "## 5. Bucle For"
   ]
  },
  {
   "cell_type": "markdown",
   "id": "ebea20a0-3d83-4d95-92df-79f5fc0ead5b",
   "metadata": {},
   "source": [
    "Imprimir los primeros 5 numeros pares:"
   ]
  },
  {
   "cell_type": "code",
   "execution_count": 39,
   "id": "1ccbd18c-c908-41dd-83dc-07099668270f",
   "metadata": {
    "tags": []
   },
   "outputs": [
    {
     "name": "stdout",
     "output_type": "stream",
     "text": [
      "0\n",
      "2\n",
      "4\n",
      "6\n",
      "8\n"
     ]
    }
   ],
   "source": [
    "for numero in range(5):\n",
    "    print(numero*2)"
   ]
  },
  {
   "cell_type": "markdown",
   "id": "aacc2185-ec5a-4705-8623-41367e20360f",
   "metadata": {},
   "source": [
    "Imprimir los siguientes nombres"
   ]
  },
  {
   "cell_type": "code",
   "execution_count": 40,
   "id": "fe83f105-7925-40a6-a885-b9c8268f6800",
   "metadata": {
    "tags": []
   },
   "outputs": [],
   "source": [
    "nombres = [\"Pedro\", \"Cecilia\", \"Maria\", \"Miguel\"]"
   ]
  },
  {
   "cell_type": "code",
   "execution_count": 41,
   "id": "4e06fdf0-cc28-497a-8519-f37265642e8e",
   "metadata": {
    "tags": []
   },
   "outputs": [
    {
     "name": "stdout",
     "output_type": "stream",
     "text": [
      "Pedro\n",
      "Cecilia\n",
      "Maria\n",
      "Miguel\n"
     ]
    }
   ],
   "source": [
    "for nombre in nombres:\n",
    "    print(nombre)"
   ]
  },
  {
   "cell_type": "markdown",
   "id": "30c82ea2-5e78-4074-b787-773ad274929f",
   "metadata": {},
   "source": [
    "Mostrar el nombre y el indice de cada valor en una sola cadena de texto (Ej. \"El nombre Pedro tiene el índice 0\")"
   ]
  },
  {
   "cell_type": "code",
   "execution_count": 42,
   "id": "41a623fa-1c96-44be-9170-2f25eff3cff5",
   "metadata": {
    "tags": []
   },
   "outputs": [
    {
     "name": "stdout",
     "output_type": "stream",
     "text": [
      "El nombre Pedro tiene el índice 0\n",
      "El nombre Cecilia tiene el índice 1\n",
      "El nombre Maria tiene el índice 2\n",
      "El nombre Miguel tiene el índice 3\n"
     ]
    }
   ],
   "source": [
    "for index,nombre in enumerate(nombres):\n",
    "    print(f\"El nombre {nombre} tiene el índice {index}\")"
   ]
  },
  {
   "cell_type": "markdown",
   "id": "814725bc-059e-418c-b7c0-ef14f39801fe",
   "metadata": {},
   "source": [
    "Utiliza una lista de comprensión para crear una nueva lista que contenga cadenas de texto con el formato \"La persona [índice] se llama [nombre]\""
   ]
  },
  {
   "cell_type": "code",
   "execution_count": 43,
   "id": "e515484c-cca6-4a19-9193-1eb0c78697c2",
   "metadata": {
    "tags": []
   },
   "outputs": [
    {
     "data": {
      "text/plain": [
       "['La persona 0 se llama Pedro',\n",
       " 'La persona 1 se llama Cecilia',\n",
       " 'La persona 2 se llama Maria',\n",
       " 'La persona 3 se llama Miguel']"
      ]
     },
     "execution_count": 43,
     "metadata": {},
     "output_type": "execute_result"
    }
   ],
   "source": [
    "[f\"La persona {index} se llama {nombre}\" for index,nombre in enumerate(nombres)]"
   ]
  },
  {
   "cell_type": "markdown",
   "id": "460035cf-7812-4616-a7e4-58d921d9c503",
   "metadata": {},
   "source": [
    "Usar la siguiente lista de diccionarios para imprimir los datos de cada médico"
   ]
  },
  {
   "cell_type": "code",
   "execution_count": 44,
   "id": "d3f48197-c88d-432f-a6c4-9f693669ad20",
   "metadata": {
    "tags": []
   },
   "outputs": [],
   "source": [
    "doctores = [\n",
    "    {\n",
    "        \"nombre\": \"Dr. Juan Pérez\",\n",
    "        \"especialidad\": \"Cardiología\",\n",
    "        \"antiguedad\": 15\n",
    "    },\n",
    "    {\n",
    "        \"nombre\": \"Dr. Pedro López\",\n",
    "        \"especialidad\": \"Dermatología\",\n",
    "        \"antiguedad\": 10  \n",
    "    },\n",
    "    {\n",
    "        \"nombre\": \"Dr. Carlos Ramírez\",\n",
    "        \"especialidad\": \"Neurología\",\n",
    "        \"antiguedad\": 20  \n",
    "    }\n",
    "]"
   ]
  },
  {
   "cell_type": "code",
   "execution_count": 45,
   "id": "2b159563-9b1b-4b94-a2af-dec5792ea1f5",
   "metadata": {
    "tags": []
   },
   "outputs": [
    {
     "name": "stdout",
     "output_type": "stream",
     "text": [
      "El doctor Dr. Juan Pérez tiene 15 años de experiencia\n",
      "El doctor Dr. Pedro López tiene 10 años de experiencia\n",
      "El doctor Dr. Carlos Ramírez tiene 20 años de experiencia\n"
     ]
    }
   ],
   "source": [
    "for doctor in doctores:\n",
    "    print(f\"El doctor {doctor['nombre']} tiene {doctor['antiguedad']} años de experiencia\")"
   ]
  },
  {
   "cell_type": "markdown",
   "id": "3b5dc406-e6f4-49aa-822d-57c4ff8ad446",
   "metadata": {
    "tags": []
   },
   "source": [
    "## Condicionales"
   ]
  },
  {
   "cell_type": "markdown",
   "id": "7106fd95-2ca2-4f2d-90b6-5a458a213d17",
   "metadata": {
    "tags": []
   },
   "source": [
    "Usar \"if\" para verificar si la edad dada es mayor o igual a 18, en caso de ser cierto, mostrar \"Es mayor de edad\""
   ]
  },
  {
   "cell_type": "code",
   "execution_count": 46,
   "id": "59ea963d-3978-4183-9a5b-f565f67c19a1",
   "metadata": {
    "tags": []
   },
   "outputs": [
    {
     "data": {
      "text/plain": [
       "True"
      ]
     },
     "execution_count": 46,
     "metadata": {},
     "output_type": "execute_result"
    }
   ],
   "source": [
    "edad = 23\n",
    "edad > 18"
   ]
  },
  {
   "cell_type": "code",
   "execution_count": 47,
   "id": "0e564a5a-5201-4c7b-b707-93f6e32c2574",
   "metadata": {
    "tags": []
   },
   "outputs": [
    {
     "name": "stdout",
     "output_type": "stream",
     "text": [
      "Es mayor de edad\n"
     ]
    }
   ],
   "source": [
    "if edad > 18:\n",
    "    print(\"Es mayor de edad\")"
   ]
  },
  {
   "cell_type": "markdown",
   "id": "0a0f04b1-5a5e-4ae6-bf3c-ecf0d7785bd1",
   "metadata": {},
   "source": [
    "Usar \"if\" para verificar si la edad dada es mayor o igual a 18:\n",
    "- En caso de ser cierto, mostrar \"Es mayor de edad\"\n",
    "- En caso de ser falso, mostrar \"Es menor de edad\""
   ]
  },
  {
   "cell_type": "code",
   "execution_count": 48,
   "id": "fbb07413-3789-47f4-9655-50569617c3ae",
   "metadata": {
    "tags": []
   },
   "outputs": [],
   "source": [
    "edad = 16"
   ]
  },
  {
   "cell_type": "code",
   "execution_count": 49,
   "id": "2e0f38d5-91e3-444d-8711-babbc661bc92",
   "metadata": {
    "tags": []
   },
   "outputs": [
    {
     "name": "stdout",
     "output_type": "stream",
     "text": [
      "Es menor de edad\n"
     ]
    }
   ],
   "source": [
    "if edad >= 18:\n",
    "    print(\"Es mayor de edad\")\n",
    "elif edad < 18:\n",
    "    print(\"Es menor de edad\")"
   ]
  },
  {
   "cell_type": "markdown",
   "id": "ad092c88-af83-46b2-8735-6b324dfc3779",
   "metadata": {
    "tags": []
   },
   "source": [
    "Usar \"input\" para pedir una contraseña al usuario, posteriormente, aceptarla si tiene un tamaño mayor a 8 y menor a 20 caracteres"
   ]
  },
  {
   "cell_type": "code",
   "execution_count": 50,
   "id": "01f5af33-a697-4430-ae84-817198913257",
   "metadata": {
    "tags": []
   },
   "outputs": [
    {
     "name": "stdout",
     "output_type": "stream",
     "text": [
      "La contraseña es demasiado corta\n"
     ]
    }
   ],
   "source": [
    "password= input(\"Ingrese una contraseña:\")\n",
    "if len(password) < 8:\n",
    "    print(\"La contraseña es demasiado corta\")\n",
    "elif len(password) >= 20:\n",
    "    print(\"La contraseña es demasiado larga\")\n",
    "else:\n",
    "    print(\"Contraseña aceptado\")"
   ]
  },
  {
   "cell_type": "markdown",
   "id": "32000c05-6c3d-4302-af27-29ad4879ec90",
   "metadata": {
    "tags": []
   },
   "source": [
    "Encontrar el numero mayor en la siguiente lista:"
   ]
  },
  {
   "cell_type": "code",
   "execution_count": 51,
   "id": "5659d292-4c50-415e-88c4-c641e7fa57c3",
   "metadata": {
    "tags": []
   },
   "outputs": [],
   "source": [
    "números = [3,11,23,12,34,7]"
   ]
  },
  {
   "cell_type": "code",
   "execution_count": 52,
   "id": "5f1f0c23-7dd8-459d-918d-bacc291e99db",
   "metadata": {
    "tags": []
   },
   "outputs": [
    {
     "data": {
      "text/plain": [
       "34"
      ]
     },
     "execution_count": 52,
     "metadata": {},
     "output_type": "execute_result"
    }
   ],
   "source": [
    "mayor = None\n",
    "for número in números:\n",
    "    if mayor ==None:\n",
    "        mayor = número\n",
    "    elif número>mayor:\n",
    "        mayor=número\n",
    "mayor"
   ]
  },
  {
   "cell_type": "markdown",
   "id": "75277cf4-5156-4b03-834c-ca05cda57420",
   "metadata": {
    "tags": []
   },
   "source": [
    "Validar que el correo empiece con dr_ y termine con @medical.com"
   ]
  },
  {
   "cell_type": "code",
   "execution_count": 53,
   "id": "e860ed32-78ac-457a-9e36-6e93eafe3f9b",
   "metadata": {
    "tags": []
   },
   "outputs": [],
   "source": [
    "mail = \"dr_gabriel@medical.com\""
   ]
  },
  {
   "cell_type": "code",
   "execution_count": 54,
   "id": "65d4ac51-8a2e-420a-890d-825ac67c49eb",
   "metadata": {
    "tags": []
   },
   "outputs": [
    {
     "name": "stdout",
     "output_type": "stream",
     "text": [
      "El mail del doctor 'dr_gabriel@medical.com' cumple con ambas condiciones.\n"
     ]
    }
   ],
   "source": [
    "if mail.startswith(\"dr_\") and mail.endswith(\"@medical.com\"):\n",
    "    print(f\"El mail del doctor '{mail}' cumple con ambas condiciones.\")"
   ]
  },
  {
   "cell_type": "markdown",
   "id": "43c90449-3f0d-4ae6-8bd9-6564e681e1ae",
   "metadata": {},
   "source": [
    "Validar que el correo termine con \"@medical.com\" o \"@hospital.com\""
   ]
  },
  {
   "cell_type": "code",
   "execution_count": 55,
   "id": "442624f3-55f2-4125-b211-7debc4ee4c41",
   "metadata": {
    "tags": []
   },
   "outputs": [],
   "source": [
    "mail = \"dra_isabel@hospital.com\""
   ]
  },
  {
   "cell_type": "code",
   "execution_count": 56,
   "id": "50815e3e-7ac1-4c00-bb21-b9fba8ccfb04",
   "metadata": {
    "tags": []
   },
   "outputs": [
    {
     "name": "stdout",
     "output_type": "stream",
     "text": [
      "El mail del doctor 'dra_isabel@hospital.com' cumple con ambas condiciones.\n"
     ]
    }
   ],
   "source": [
    "if mail.endswith(\"@medical.com\") or mail.endswith(\"@hospital.com\"):\n",
    "    print(f\"El mail del doctor '{mail}' cumple con ambas condiciones.\")"
   ]
  },
  {
   "cell_type": "markdown",
   "id": "a873ea66-5e45-4cb8-be3d-66bdaaa7ad0a",
   "metadata": {},
   "source": [
    "## Funciones"
   ]
  },
  {
   "cell_type": "markdown",
   "id": "10165780-d59c-4c41-b439-e18b36272b78",
   "metadata": {},
   "source": [
    "Define una función que solicite al usuario su nombre y luego imprima un mensaje de bienvenida"
   ]
  },
  {
   "cell_type": "code",
   "execution_count": 57,
   "id": "6f39712f-1532-4510-aa80-fbf171172264",
   "metadata": {
    "tags": []
   },
   "outputs": [
    {
     "name": "stdout",
     "output_type": "stream",
     "text": [
      "Hola, ! Bienvenido al curso de Python.\n"
     ]
    }
   ],
   "source": [
    "def saludar():\n",
    "    nombre = input(\"¿Cuál es tu nombre? \")\n",
    "    print(f\"Hola, {nombre}! Bienvenido al curso de Python.\")\n",
    "    \n",
    "saludar()"
   ]
  },
  {
   "cell_type": "markdown",
   "id": "e4428ce1-a7ad-4330-aa7c-4b0299ea93aa",
   "metadata": {},
   "source": [
    "Define una función que calcule y devuelva el área de un círculo dado su radio"
   ]
  },
  {
   "cell_type": "code",
   "execution_count": 58,
   "id": "4fc594cb-d34b-4034-bbdb-3d1c981f5ab5",
   "metadata": {
    "tags": []
   },
   "outputs": [
    {
     "data": {
      "text/plain": [
       "28.274333882308138"
      ]
     },
     "execution_count": 58,
     "metadata": {},
     "output_type": "execute_result"
    }
   ],
   "source": [
    "import math\n",
    "\n",
    "def calcular_area_circulo(radio):\n",
    "    area = math.pi * radio ** 2\n",
    "    return area\n",
    "\n",
    "calcular_area_circulo(3)"
   ]
  },
  {
   "cell_type": "markdown",
   "id": "1cc07cc8-619f-4989-a104-1a3fab1bbb4e",
   "metadata": {},
   "source": [
    "Define una función que calcule y devuelva el precio total de un producto dado su precio base y un impuesto (por defecto del 16%)"
   ]
  },
  {
   "cell_type": "code",
   "execution_count": 59,
   "id": "a4898d6d-ff13-444c-8ad9-18faca1d2572",
   "metadata": {},
   "outputs": [
    {
     "name": "stdout",
     "output_type": "stream",
     "text": [
      "121.0\n",
      "118.0\n"
     ]
    }
   ],
   "source": [
    "def calcular_precio_total(precio, impuesto=0.21):\n",
    "    total = precio + (precio * impuesto)\n",
    "    return total\n",
    "\n",
    "print(calcular_precio_total(100))       \n",
    "print(calcular_precio_total(100, 0.18))"
   ]
  },
  {
   "cell_type": "markdown",
   "id": "65975c95-516a-49b2-a7d4-9d7b806e12d4",
   "metadata": {},
   "source": [
    "Define una función que reciba un número variable de argumentos y devuelva el promedio de dichos números."
   ]
  },
  {
   "cell_type": "code",
   "execution_count": 60,
   "id": "547b4f55-2f2e-4a8d-b199-cfabcc43364b",
   "metadata": {},
   "outputs": [
    {
     "name": "stdout",
     "output_type": "stream",
     "text": [
      "2.0\n",
      "6.0\n",
      "10.0\n"
     ]
    }
   ],
   "source": [
    "def calcular_promedio(*numeros):\n",
    "    if len(numeros) == 0:\n",
    "        return 0  \n",
    "    total = sum(numeros)\n",
    "    promedio = total / len(numeros)\n",
    "    return promedio\n",
    "\n",
    "print(calcular_promedio(1, 2, 3))           \n",
    "print(calcular_promedio(4, 5, 6, 7, 8))    \n",
    "print(calcular_promedio(10))                "
   ]
  },
  {
   "cell_type": "markdown",
   "id": "84a28c67-2474-4e0a-9414-21dcc72820a8",
   "metadata": {},
   "source": [
    "## Numpy"
   ]
  },
  {
   "cell_type": "code",
   "execution_count": 61,
   "id": "355f99f4-c0b8-40ce-b13e-07b2c2d8fcaf",
   "metadata": {
    "tags": []
   },
   "outputs": [],
   "source": [
    "import numpy as np"
   ]
  },
  {
   "cell_type": "markdown",
   "id": "e9a0927d-4670-4c47-91fc-a1308548fe36",
   "metadata": {
    "tags": []
   },
   "source": [
    "Crear un array con los precios de una cafetería"
   ]
  },
  {
   "cell_type": "code",
   "execution_count": 62,
   "id": "3a8f0888-c6ae-436a-9465-6789031b43b5",
   "metadata": {
    "tags": []
   },
   "outputs": [],
   "source": [
    "precios=[2.50, 3.00, 3.75, 4.50, 5.00]"
   ]
  },
  {
   "cell_type": "markdown",
   "id": "c2ef00b4-2a5d-4cb3-aa7d-3df02d750922",
   "metadata": {},
   "source": [
    "Crear un array de NumPy utilizando los datos de la variable \"precios\" "
   ]
  },
  {
   "cell_type": "code",
   "execution_count": 63,
   "id": "43bedc29-a647-4f68-a67d-3d4b5b836a71",
   "metadata": {
    "tags": []
   },
   "outputs": [
    {
     "data": {
      "text/plain": [
       "array([2.5 , 3.  , 3.75, 4.5 , 5.  ])"
      ]
     },
     "execution_count": 63,
     "metadata": {},
     "output_type": "execute_result"
    }
   ],
   "source": [
    "precios = np.array(precios)\n",
    "precios"
   ]
  },
  {
   "cell_type": "markdown",
   "id": "3107a9d2-63a2-47a4-b5dc-5cb9d20c5bc0",
   "metadata": {},
   "source": [
    "Sumar 3 unidades a cada elemento del array \"precios\"."
   ]
  },
  {
   "cell_type": "code",
   "execution_count": 64,
   "id": "ebeef584-f592-41bc-b455-b777ddd6c128",
   "metadata": {
    "tags": []
   },
   "outputs": [
    {
     "data": {
      "text/plain": [
       "array([5.5 , 6.  , 6.75, 7.5 , 8.  ])"
      ]
     },
     "execution_count": 64,
     "metadata": {},
     "output_type": "execute_result"
    }
   ],
   "source": [
    "precios +3"
   ]
  },
  {
   "cell_type": "markdown",
   "id": "764b404e-3ad2-4284-afb2-6ea2dac92550",
   "metadata": {},
   "source": [
    "Seleccionar el segundo valor en la lista"
   ]
  },
  {
   "cell_type": "code",
   "execution_count": 65,
   "id": "779f014e-f1fe-4c4f-81a8-70c2797b8734",
   "metadata": {
    "tags": []
   },
   "outputs": [
    {
     "data": {
      "text/plain": [
       "3.0"
      ]
     },
     "execution_count": 65,
     "metadata": {},
     "output_type": "execute_result"
    }
   ],
   "source": [
    "precios[1]"
   ]
  },
  {
   "cell_type": "markdown",
   "id": "a13dd496-3124-4e98-aded-2a1ed0f50c32",
   "metadata": {},
   "source": [
    "Agregar el precio 6.0 al array de numpy"
   ]
  },
  {
   "cell_type": "code",
   "execution_count": 66,
   "id": "6c064998-54d9-4b28-9077-5066a3020e21",
   "metadata": {
    "tags": []
   },
   "outputs": [
    {
     "data": {
      "text/plain": [
       "array([2.5 , 3.  , 3.75, 4.5 , 5.  , 6.  ])"
      ]
     },
     "execution_count": 66,
     "metadata": {},
     "output_type": "execute_result"
    }
   ],
   "source": [
    "precios=np.append(precios,6)\n",
    "precios"
   ]
  },
  {
   "cell_type": "markdown",
   "id": "bc7d555a-e0d2-44b6-9e47-2d954feccb50",
   "metadata": {},
   "source": [
    "Borrar el elemento con índice 2"
   ]
  },
  {
   "cell_type": "code",
   "execution_count": 67,
   "id": "c25fad02-6d16-48f2-8255-073ee6de3b37",
   "metadata": {
    "tags": []
   },
   "outputs": [
    {
     "data": {
      "text/plain": [
       "array([2.5, 3. , 4.5, 5. , 6. ])"
      ]
     },
     "execution_count": 67,
     "metadata": {},
     "output_type": "execute_result"
    }
   ],
   "source": [
    "precios= np.delete(precios,2)\n",
    "precios"
   ]
  },
  {
   "cell_type": "markdown",
   "id": "e44d1900-585e-466c-9e9f-e7b1450673b5",
   "metadata": {},
   "source": [
    "Filtrar y mostrar los elementos del array \"precios\" que sean menores a 5."
   ]
  },
  {
   "cell_type": "code",
   "execution_count": 68,
   "id": "b1af12ce-c0f8-4b77-9b26-7a9d1e18da60",
   "metadata": {
    "tags": []
   },
   "outputs": [
    {
     "data": {
      "text/plain": [
       "array([2.5, 3. , 4.5])"
      ]
     },
     "execution_count": 68,
     "metadata": {},
     "output_type": "execute_result"
    }
   ],
   "source": [
    "precios[precios<5]"
   ]
  },
  {
   "cell_type": "markdown",
   "id": "1d15de22-3161-4351-bdec-0311f29d2ad3",
   "metadata": {},
   "source": [
    "Obtener el valor mínimo, el valor máximo, el promedio y la desviación estándar de los elementos en el array \"precios\""
   ]
  },
  {
   "cell_type": "code",
   "execution_count": 69,
   "id": "ec188f61-d9fe-4a93-91a6-557bc3a933f9",
   "metadata": {
    "tags": []
   },
   "outputs": [
    {
     "data": {
      "text/plain": [
       "2.5"
      ]
     },
     "execution_count": 69,
     "metadata": {},
     "output_type": "execute_result"
    }
   ],
   "source": [
    "precios.min()"
   ]
  },
  {
   "cell_type": "code",
   "execution_count": 70,
   "id": "2f026e47-2785-418c-83c7-0a0a2e69aed8",
   "metadata": {
    "tags": []
   },
   "outputs": [
    {
     "data": {
      "text/plain": [
       "6.0"
      ]
     },
     "execution_count": 70,
     "metadata": {},
     "output_type": "execute_result"
    }
   ],
   "source": [
    "precios.max()"
   ]
  },
  {
   "cell_type": "code",
   "execution_count": 71,
   "id": "9a08051a-a070-442b-a3b8-d485a52aaf66",
   "metadata": {
    "tags": []
   },
   "outputs": [
    {
     "data": {
      "text/plain": [
       "4.2"
      ]
     },
     "execution_count": 71,
     "metadata": {},
     "output_type": "execute_result"
    }
   ],
   "source": [
    "precios.mean()"
   ]
  },
  {
   "cell_type": "code",
   "execution_count": 72,
   "id": "dab16bfb-2a6b-433f-8703-767569a7f027",
   "metadata": {
    "tags": []
   },
   "outputs": [
    {
     "data": {
      "text/plain": [
       "1.2884098726725126"
      ]
     },
     "execution_count": 72,
     "metadata": {},
     "output_type": "execute_result"
    }
   ],
   "source": [
    "precios.std()"
   ]
  },
  {
   "cell_type": "markdown",
   "id": "6ad0091f-933f-488e-9a2c-9ee7b215fb33",
   "metadata": {},
   "source": [
    "Crear un array de NumPy utilizando los datos de la variable \"calif_esp\" y asignarlo a la variable \"calif_arr\""
   ]
  },
  {
   "cell_type": "code",
   "execution_count": 73,
   "id": "fe36a8f6-99d7-4733-addf-b5f4ebc4aedd",
   "metadata": {
    "tags": []
   },
   "outputs": [],
   "source": [
    "calif_esp=[\n",
    "    [85, 90, 78], \n",
    "    [88, 92, 80], \n",
    "    [87, 91, 83], \n",
    "    [84, 85, 82]  \n",
    "]"
   ]
  },
  {
   "cell_type": "code",
   "execution_count": 74,
   "id": "8394d0bb-b012-4f21-9372-0c5beeca97da",
   "metadata": {
    "tags": []
   },
   "outputs": [],
   "source": [
    "calif_arr=np.array(calif_esp)"
   ]
  },
  {
   "cell_type": "markdown",
   "id": "f4d1a64f-c586-4abe-9c91-bec4d5274560",
   "metadata": {},
   "source": [
    "Obtener la forma (shape) del array \"calif_arr\""
   ]
  },
  {
   "cell_type": "code",
   "execution_count": 75,
   "id": "036913e1-8810-4f4a-8178-c0496c62ee98",
   "metadata": {
    "tags": []
   },
   "outputs": [
    {
     "data": {
      "text/plain": [
       "(4, 3)"
      ]
     },
     "execution_count": 75,
     "metadata": {},
     "output_type": "execute_result"
    }
   ],
   "source": [
    "calif_arr.shape"
   ]
  },
  {
   "cell_type": "markdown",
   "id": "2174a13c-c074-43db-b131-e707deaacb29",
   "metadata": {},
   "source": [
    "Obtener el número de dimensiones (ndim) del array \"calif_arr\"."
   ]
  },
  {
   "cell_type": "code",
   "execution_count": 76,
   "id": "9a9c1243-3131-40c3-90e0-7897c3dea51b",
   "metadata": {
    "tags": []
   },
   "outputs": [
    {
     "data": {
      "text/plain": [
       "2"
      ]
     },
     "execution_count": 76,
     "metadata": {},
     "output_type": "execute_result"
    }
   ],
   "source": [
    "calif_arr.ndim"
   ]
  },
  {
   "cell_type": "markdown",
   "id": "e4cf6d10-f302-42e8-8608-eb82f1a57623",
   "metadata": {},
   "source": [
    "Obtener el número total de elementos (size) en el array \"calif_arr\"."
   ]
  },
  {
   "cell_type": "code",
   "execution_count": 77,
   "id": "61d1ce5b-dade-4a1d-8e80-4787994d55ce",
   "metadata": {
    "tags": []
   },
   "outputs": [
    {
     "data": {
      "text/plain": [
       "12"
      ]
     },
     "execution_count": 77,
     "metadata": {},
     "output_type": "execute_result"
    }
   ],
   "source": [
    "calif_arr.size"
   ]
  },
  {
   "cell_type": "markdown",
   "id": "4b39584a-2b75-455a-8020-340e168549d1",
   "metadata": {},
   "source": [
    "Reorganizar el array \"calif_arr\" para que tenga una forma de 2 filas y 6 columnas utilizando el método \"reshape\""
   ]
  },
  {
   "cell_type": "code",
   "execution_count": 78,
   "id": "ff889dc2-9826-438e-bd4d-ba0ce70d09be",
   "metadata": {
    "tags": []
   },
   "outputs": [
    {
     "data": {
      "text/plain": [
       "array([[85, 90, 78, 88, 92, 80],\n",
       "       [87, 91, 83, 84, 85, 82]])"
      ]
     },
     "execution_count": 78,
     "metadata": {},
     "output_type": "execute_result"
    }
   ],
   "source": [
    "calif_arr.reshape((2,6))"
   ]
  },
  {
   "cell_type": "markdown",
   "id": "6cf43659-fc75-45b8-8b40-1d3e49f1c484",
   "metadata": {},
   "source": [
    "Crear una matriz de NumPy llena de ceros con dimensiones de 2 filas y 5 columnas utilizando \"zeros\""
   ]
  },
  {
   "cell_type": "code",
   "execution_count": 79,
   "id": "68e685df-abef-445d-834c-79be33593af3",
   "metadata": {
    "tags": []
   },
   "outputs": [
    {
     "data": {
      "text/plain": [
       "array([[0., 0., 0., 0., 0.],\n",
       "       [0., 0., 0., 0., 0.]])"
      ]
     },
     "execution_count": 79,
     "metadata": {},
     "output_type": "execute_result"
    }
   ],
   "source": [
    "np.zeros((2,5))"
   ]
  },
  {
   "cell_type": "markdown",
   "id": "9885bda0-ffdd-4193-9315-566bac044d2b",
   "metadata": {},
   "source": [
    "Crear un array de NumPy que contenga números en un rango desde 0 hasta 15 (exclusivo), con una distancia de 3 unidades, utilizando \"arange\""
   ]
  },
  {
   "cell_type": "code",
   "execution_count": 80,
   "id": "0fbf8bde-4216-4d36-abf2-8998095da247",
   "metadata": {
    "tags": []
   },
   "outputs": [
    {
     "data": {
      "text/plain": [
       "array([ 0,  3,  6,  9, 12])"
      ]
     },
     "execution_count": 80,
     "metadata": {},
     "output_type": "execute_result"
    }
   ],
   "source": [
    "np.arange(0,15,3)"
   ]
  },
  {
   "cell_type": "markdown",
   "id": "1bd8c842-b669-42a3-a15f-7f7ad0f7ad87",
   "metadata": {},
   "source": [
    "Crear un array de NumPy que contenga 6 valores equidistantes en el intervalo de 0 a 10 (incluyendo el inicio y final), utilizando \"linspace\""
   ]
  },
  {
   "cell_type": "code",
   "execution_count": 81,
   "id": "2d64389e-1620-4d27-bf27-c780f850ba07",
   "metadata": {
    "tags": []
   },
   "outputs": [
    {
     "data": {
      "text/plain": [
       "array([ 0.,  2.,  4.,  6.,  8., 10.])"
      ]
     },
     "execution_count": 81,
     "metadata": {},
     "output_type": "execute_result"
    }
   ],
   "source": [
    "np.linspace(0,10,6)"
   ]
  },
  {
   "cell_type": "markdown",
   "id": "5c439a26-f43f-4d19-8346-e16281be9874",
   "metadata": {},
   "source": [
    "Crear un generador de números aleatorios (rg) con la semilla igual a 2"
   ]
  },
  {
   "cell_type": "code",
   "execution_count": 82,
   "id": "cbb0a03b-24eb-4ddb-9313-f4d2bb5b86d7",
   "metadata": {
    "tags": []
   },
   "outputs": [],
   "source": [
    "rg=np.random.default_rng(2)"
   ]
  },
  {
   "cell_type": "markdown",
   "id": "7e51f520-0725-4a3a-9ab6-62a9cf756d1f",
   "metadata": {},
   "source": [
    "Generar un array de 300 números aleatorios entre 0 y 1 utilizando el generador de números aleatorios rg creado previamente"
   ]
  },
  {
   "cell_type": "code",
   "execution_count": 83,
   "id": "a3a2d459-15a3-455e-abb6-a2e6f96378d8",
   "metadata": {
    "tags": []
   },
   "outputs": [],
   "source": [
    "random=rg.random(300)"
   ]
  },
  {
   "cell_type": "markdown",
   "id": "2b58d495-1885-48ac-92eb-94f31a736bc0",
   "metadata": {},
   "source": [
    "Crear un histograma utilizando matplotlib para visualizar la distribución de los datos"
   ]
  },
  {
   "cell_type": "code",
   "execution_count": 84,
   "id": "9f5f1926-ad7b-47c6-8a5a-3b6d7e03a75f",
   "metadata": {
    "tags": []
   },
   "outputs": [
    {
     "data": {
      "image/png": "[encoded data removed]",
      "text/plain": [
       "<Figure size 640x480 with 1 Axes>"
      ]
     },
     "metadata": {},
     "output_type": "display_data"
    }
   ],
   "source": [
    "import matplotlib.pyplot as plt\n",
    "plt.hist(random);"
   ]
  },
  {
   "cell_type": "markdown",
   "id": "53981499-c49a-46f0-9019-34510ffd3625",
   "metadata": {},
   "source": [
    "Generar un array de 400 números aleatorios distribuidos normalmente con media 20 y desviación estándar 10 utilizando el generador de números aleatorios \"rg\""
   ]
  },
  {
   "cell_type": "code",
   "execution_count": 85,
   "id": "9087edc7-dc7a-4335-97c4-385e4c47abec",
   "metadata": {
    "tags": []
   },
   "outputs": [],
   "source": [
    "normal= rg.normal(20,10,400)"
   ]
  },
  {
   "cell_type": "markdown",
   "id": "05129468-e062-4d4e-b405-9e0b9ef8cf6c",
   "metadata": {},
   "source": [
    "Crear un histograma utilizando matplotlib con los datos aleatorios anteriores, siguiendo la distribución normal, dividido en 20 bins"
   ]
  },
  {
   "cell_type": "code",
   "execution_count": 86,
   "id": "45e7f4ec-2a7e-4a03-a80f-da32fc4a45e2",
   "metadata": {},
   "outputs": [
    {
     "data": {
      "image/png": "[encoded data removed]",
      "text/plain": [
       "<Figure size 640x480 with 1 Axes>"
      ]
     },
     "metadata": {},
     "output_type": "display_data"
    }
   ],
   "source": [
    "plt.hist(normal, bins=20);"
   ]
  },
  {
   "cell_type": "markdown",
   "id": "e0b95686-6fa1-402a-a810-d1538260cf18",
   "metadata": {},
   "source": [
    "## Pandas"
   ]
  },
  {
   "cell_type": "code",
   "execution_count": 87,
   "id": "229cb0fa-cd8e-4caa-b439-4a20b3245a20",
   "metadata": {},
   "outputs": [],
   "source": [
    "import pandas as pd"
   ]
  },
  {
   "cell_type": "markdown",
   "id": "f7bf1730-4310-46e9-96af-f304494ff348",
   "metadata": {},
   "source": [
    "Crear una Serie de pandas llamada amigos que use la lista \"edades\" como valores y la lista \"nombres\" como índices:"
   ]
  },
  {
   "cell_type": "code",
   "execution_count": 88,
   "id": "cfaedd14-3bf8-47cf-9ae4-e369b32d9400",
   "metadata": {
    "tags": []
   },
   "outputs": [],
   "source": [
    "nombres= ['Juan', 'Ana', 'Pedro', 'Maria', 'Luis']\n",
    "edades=[25, 30, 35, 40, 45]"
   ]
  },
  {
   "cell_type": "code",
   "execution_count": 89,
   "id": "b31fcaec-8938-4a23-abf7-b51cf70631d5",
   "metadata": {
    "tags": []
   },
   "outputs": [
    {
     "data": {
      "text/plain": [
       "Juan     25\n",
       "Ana      30\n",
       "Pedro    35\n",
       "Maria    40\n",
       "Luis     45\n",
       "dtype: int64"
      ]
     },
     "execution_count": 89,
     "metadata": {},
     "output_type": "execute_result"
    }
   ],
   "source": [
    "amigos = pd.Series(edades, index=nombres)\n",
    "amigos"
   ]
  },
  {
   "cell_type": "markdown",
   "id": "5edcc4fb-5cea-47fb-b1de-75936629e64c",
   "metadata": {},
   "source": [
    "Acceder al valor asociado con el índice \"Juan\" en la Serie amigos"
   ]
  },
  {
   "cell_type": "code",
   "execution_count": 90,
   "id": "910a459d-e557-4b27-a1d7-6e8994cc0483",
   "metadata": {
    "tags": []
   },
   "outputs": [
    {
     "data": {
      "text/plain": [
       "25"
      ]
     },
     "execution_count": 90,
     "metadata": {},
     "output_type": "execute_result"
    }
   ],
   "source": [
    "amigos[\"Juan\"]"
   ]
  },
  {
   "cell_type": "markdown",
   "id": "abc77b25-2d33-4b54-a29f-a332445dfbe3",
   "metadata": {},
   "source": [
    "Obtener todos los valores de la Serie amigos:"
   ]
  },
  {
   "cell_type": "code",
   "execution_count": 91,
   "id": "26766918-fcda-4d86-9e46-e603836a513d",
   "metadata": {
    "tags": []
   },
   "outputs": [
    {
     "data": {
      "text/plain": [
       "array([25, 30, 35, 40, 45], dtype=int64)"
      ]
     },
     "execution_count": 91,
     "metadata": {},
     "output_type": "execute_result"
    }
   ],
   "source": [
    "amigos.values"
   ]
  },
  {
   "cell_type": "markdown",
   "id": "604882ef-6265-4eec-8db5-785ca898631e",
   "metadata": {
    "tags": []
   },
   "source": [
    "Obtener todos los índices de la Serie amigos:"
   ]
  },
  {
   "cell_type": "code",
   "execution_count": 92,
   "id": "9264fe7d-f2c6-4722-a562-c9c098563dbe",
   "metadata": {
    "tags": []
   },
   "outputs": [
    {
     "data": {
      "text/plain": [
       "Index(['Juan', 'Ana', 'Pedro', 'Maria', 'Luis'], dtype='object')"
      ]
     },
     "execution_count": 92,
     "metadata": {},
     "output_type": "execute_result"
    }
   ],
   "source": [
    "amigos.index"
   ]
  },
  {
   "cell_type": "markdown",
   "id": "9843c02a-defc-4488-81b9-4fdae92b0af3",
   "metadata": {},
   "source": [
    "Mostrar los primeros dos elementos de la Serie \"amigos\""
   ]
  },
  {
   "cell_type": "code",
   "execution_count": 93,
   "id": "0a3e0bf5-1125-45aa-81f2-943b50aac273",
   "metadata": {
    "tags": []
   },
   "outputs": [
    {
     "data": {
      "text/plain": [
       "Juan    25\n",
       "Ana     30\n",
       "dtype: int64"
      ]
     },
     "execution_count": 93,
     "metadata": {},
     "output_type": "execute_result"
    }
   ],
   "source": [
    "amigos.head(2)"
   ]
  },
  {
   "cell_type": "markdown",
   "id": "3585789d-8928-4898-8a43-ee8a8e80402a",
   "metadata": {},
   "source": [
    "Mostrar los últimos dos elementos de la Serie amigos:"
   ]
  },
  {
   "cell_type": "code",
   "execution_count": 94,
   "id": "086c6a37-912f-4d98-acce-7d74c167bc19",
   "metadata": {
    "tags": []
   },
   "outputs": [
    {
     "data": {
      "text/plain": [
       "Maria    40\n",
       "Luis     45\n",
       "dtype: int64"
      ]
     },
     "execution_count": 94,
     "metadata": {},
     "output_type": "execute_result"
    }
   ],
   "source": [
    "amigos.tail(2)"
   ]
  },
  {
   "cell_type": "markdown",
   "id": "320aed20-c573-4147-9e04-324c2556faf5",
   "metadata": {},
   "source": [
    "Ordenar los valores de la Serie amigos en orden ascendente"
   ]
  },
  {
   "cell_type": "code",
   "execution_count": 95,
   "id": "5dbc202f-31cf-4763-a7bc-c893b7fdf945",
   "metadata": {
    "tags": []
   },
   "outputs": [
    {
     "data": {
      "text/plain": [
       "Juan     25\n",
       "Ana      30\n",
       "Pedro    35\n",
       "Maria    40\n",
       "Luis     45\n",
       "dtype: int64"
      ]
     },
     "execution_count": 95,
     "metadata": {},
     "output_type": "execute_result"
    }
   ],
   "source": [
    "amigos.sort_values()"
   ]
  },
  {
   "cell_type": "markdown",
   "id": "4c2ee295-5140-4c06-86c4-4cbfa3e6f8ab",
   "metadata": {},
   "source": [
    "Convertir la lista de strings \"fechas_str\" en un objeto Series de pandas de tipo datetime, y asignarlo a la variable cumpleaños"
   ]
  },
  {
   "cell_type": "code",
   "execution_count": 96,
   "id": "cea7e275-ec9a-4164-9229-f79391216d76",
   "metadata": {
    "tags": []
   },
   "outputs": [],
   "source": [
    "fechas_str = [\"1998-10-01\", \"2000-05-15\", \"1995-08-20\", \"1992-04-30\", \"1987-11-12\"]"
   ]
  },
  {
   "cell_type": "code",
   "execution_count": 97,
   "id": "9f671cab-a6db-4ac7-995b-e0630a002e96",
   "metadata": {
    "tags": []
   },
   "outputs": [
    {
     "data": {
      "text/plain": [
       "DatetimeIndex(['1998-10-01', '2000-05-15', '1995-08-20', '1992-04-30',\n",
       "               '1987-11-12'],\n",
       "              dtype='datetime64[ns]', freq=None)"
      ]
     },
     "execution_count": 97,
     "metadata": {},
     "output_type": "execute_result"
    }
   ],
   "source": [
    "cumpleaños = pd.to_datetime(fechas_str)\n",
    "cumpleaños"
   ]
  },
  {
   "cell_type": "markdown",
   "id": "2b534370-fe6f-4452-bd6e-2ab864e4f387",
   "metadata": {},
   "source": [
    "Obtener el día del mes para cada fecha en la Serie \"cumpleaños\""
   ]
  },
  {
   "cell_type": "code",
   "execution_count": 98,
   "id": "e6d16c37-61ed-4cd2-ba38-262b97901990",
   "metadata": {
    "tags": []
   },
   "outputs": [
    {
     "data": {
      "text/plain": [
       "Index([1, 15, 20, 30, 12], dtype='int32')"
      ]
     },
     "execution_count": 98,
     "metadata": {},
     "output_type": "execute_result"
    }
   ],
   "source": [
    "cumpleaños.day"
   ]
  },
  {
   "cell_type": "markdown",
   "id": "0f71708a-6ca4-4a5a-b1fe-c291b04856f9",
   "metadata": {},
   "source": [
    "Obtener el mes para cada fecha en la Serie \"cumpleaños\""
   ]
  },
  {
   "cell_type": "code",
   "execution_count": 99,
   "id": "91c23bef-c50f-474f-8f0f-2074fba4899d",
   "metadata": {
    "tags": []
   },
   "outputs": [
    {
     "data": {
      "text/plain": [
       "Index([10, 5, 8, 4, 11], dtype='int32')"
      ]
     },
     "execution_count": 99,
     "metadata": {},
     "output_type": "execute_result"
    }
   ],
   "source": [
    "cumpleaños.month"
   ]
  },
  {
   "cell_type": "markdown",
   "id": "b457235d-152b-4e99-a9d3-5f630b4140e3",
   "metadata": {},
   "source": [
    "Obtener el día de la semana para cada fecha en la Serie cumpleaños"
   ]
  },
  {
   "cell_type": "code",
   "execution_count": 100,
   "id": "7a091580-49b6-466e-9e32-5a9ccf93badb",
   "metadata": {
    "tags": []
   },
   "outputs": [
    {
     "data": {
      "text/plain": [
       "Index([3, 0, 6, 3, 3], dtype='int32')"
      ]
     },
     "execution_count": 100,
     "metadata": {},
     "output_type": "execute_result"
    }
   ],
   "source": [
    "cumpleaños.dayofweek"
   ]
  },
  {
   "cell_type": "markdown",
   "id": "2bcc4a7d-2ac0-458d-92d1-ec470027b8d3",
   "metadata": {},
   "source": [
    "Formatear cada fecha en la Serie cumpleaños al formato \"mm/dd/yy\""
   ]
  },
  {
   "cell_type": "code",
   "execution_count": 101,
   "id": "4d9eae98-088d-4673-b277-61338cde654d",
   "metadata": {
    "tags": []
   },
   "outputs": [
    {
     "data": {
      "text/plain": [
       "Index(['10/01/98', '05/15/00', '08/20/95', '04/30/92', '11/12/87'], dtype='object')"
      ]
     },
     "execution_count": 101,
     "metadata": {},
     "output_type": "execute_result"
    }
   ],
   "source": [
    "cumpleaños.strftime(\"%m/%d/%y\")"
   ]
  },
  {
   "cell_type": "markdown",
   "id": "8a6fbe27-cfb0-42e5-ae8d-004b67a81a8a",
   "metadata": {
    "tags": []
   },
   "source": [
    "Crear un DataFrame de pandas utilizando la lista de diccionarios futbolistas, estableciendo la columna \"id\" como índice:"
   ]
  },
  {
   "cell_type": "code",
   "execution_count": 102,
   "id": "acf38fa8-1b1a-4818-befb-575b8c823b70",
   "metadata": {
    "tags": []
   },
   "outputs": [],
   "source": [
    "futbolistas = [\n",
    "    {\"id\": 1, \"nombre\": \"Juan Pérez\", \"horas_entrenamiento\": 20, \"posición\": \"Delantero\", \"liga\": 1},\n",
    "    {\"id\": 2, \"nombre\": \"Carlos Ruiz\", \"horas_entrenamiento\": 18, \"posición\": \"Defensa\", \"liga\": 1},\n",
    "    {\"id\": 3, \"nombre\": \"Luis Gómez\", \"horas_entrenamiento\": 22, \"posición\": \"Centrocampista\", \"liga\": 1},\n",
    "    {\"id\": 4, \"nombre\": \"Miguel Fernández\", \"horas_entrenamiento\": 19, \"posición\": \"Portero\", \"liga\": 1},\n",
    "    {\"id\": 5, \"nombre\": \"Andrés Martínez\", \"horas_entrenamiento\": 21, \"posición\": \"Delantero\", \"liga\": 1},\n",
    "    {\"id\": 6, \"nombre\": \"Pedro Sánchez\", \"horas_entrenamiento\": 20, \"posición\": \"Centrocampista\", \"liga\": 2},\n",
    "    {\"id\": 7, \"nombre\": \"José López\", \"horas_entrenamiento\": 17, \"posición\": \"Defensa\", \"liga\": 2},\n",
    "    {\"id\": 8, \"nombre\": \"Fernando Díaz\", \"horas_entrenamiento\": 23, \"posición\": \"Delantero\", \"liga\": 2},\n",
    "    {\"id\": 9, \"nombre\": \"David Herrera\", \"horas_entrenamiento\": 16, \"posición\": \"Portero\", \"liga\": 2},\n",
    "    {\"id\": 10, \"nombre\": \"Rafael González\", \"horas_entrenamiento\": 19, \"posición\": \"Defensa\", \"liga\": 2},\n",
    "    {\"id\": 11, \"nombre\": \"Alberto Ramírez\", \"horas_entrenamiento\": 21, \"posición\": \"Delantero\", \"liga\": 3},\n",
    "    {\"id\": 12, \"nombre\": \"Gabriel Muñoz\", \"horas_entrenamiento\": 18, \"posición\": \"Centrocampista\", \"liga\": 3},\n",
    "    {\"id\": 13, \"nombre\": \"Mario Castillo\", \"horas_entrenamiento\": 20, \"posición\": \"Defensa\", \"liga\": 3},\n",
    "    {\"id\": 14, \"nombre\": \"Enrique Jiménez\", \"horas_entrenamiento\": 17, \"posición\": \"Portero\", \"liga\": 3},\n",
    "    {\"id\": 15, \"nombre\": \"Jorge Romero\", \"horas_entrenamiento\": 22, \"posición\": \"Delantero\", \"liga\": 4},\n",
    "    {\"id\": 16, \"nombre\": \"Ricardo Hernández\", \"horas_entrenamiento\": 19, \"posición\": \"Defensa\", \"liga\": 4},\n",
    "    {\"id\": 17, \"nombre\": \"Diego Vega\", \"horas_entrenamiento\": 20, \"posición\": \"Centrocampista\", \"liga\": 4},\n",
    "    {\"id\": 18, \"nombre\": \"Adrián Navarro\", \"horas_entrenamiento\": 21, \"posición\": \"Portero\", \"liga\": 4},\n",
    "    {\"id\": 19, \"nombre\": \"Pablo Flores\", \"horas_entrenamiento\": 23, \"posición\": \"Delantero\", \"liga\": 1},\n",
    "    {\"id\": 20, \"nombre\": \"Santiago Torres\", \"horas_entrenamiento\": 16, \"posición\": \"Defensa\", \"liga\": 1}\n",
    "]"
   ]
  },
  {
   "cell_type": "code",
   "execution_count": 103,
   "id": "085ddbc7-5368-489e-963d-f49fca6d0de4",
   "metadata": {
    "tags": []
   },
   "outputs": [],
   "source": [
    "futbolistas= pd.DataFrame(futbolistas).set_index(\"id\")"
   ]
  },
  {
   "cell_type": "markdown",
   "id": "9fdadd0d-67ba-4018-bfaa-a145f93ac7bb",
   "metadata": {},
   "source": [
    "Seleccionar las columnas \"nombre\" y \"posición\" del DataFrame \"futbolistas\""
   ]
  },
  {
   "cell_type": "code",
   "execution_count": 104,
   "id": "ab30d5e7-b528-4bf1-b060-2c6cd5985d08",
   "metadata": {
    "tags": []
   },
   "outputs": [
    {
     "data": {
      "text/html": [
       "<div>\n",
       "<style scoped>\n",
       "    .dataframe tbody tr th:only-of-type {\n",
       "        vertical-align: middle;\n",
       "    }\n",
       "\n",
       "    .dataframe tbody tr th {\n",
       "        vertical-align: top;\n",
       "    }\n",
       "\n",
       "    .dataframe thead th {\n",
       "        text-align: right;\n",
       "    }\n",
       "</style>\n",
       "<table border=\"1\" class=\"dataframe\">\n",
       "  <thead>\n",
       "    <tr style=\"text-align: right;\">\n",
       "      <th></th>\n",
       "      <th>nombre</th>\n",
       "      <th>posición</th>\n",
       "    </tr>\n",
       "    <tr>\n",
       "      <th>id</th>\n",
       "      <th></th>\n",
       "      <th></th>\n",
       "    </tr>\n",
       "  </thead>\n",
       "  <tbody>\n",
       "    <tr>\n",
       "      <th>1</th>\n",
       "      <td>Juan Pérez</td>\n",
       "      <td>Delantero</td>\n",
       "    </tr>\n",
       "    <tr>\n",
       "      <th>2</th>\n",
       "      <td>Carlos Ruiz</td>\n",
       "      <td>Defensa</td>\n",
       "    </tr>\n",
       "    <tr>\n",
       "      <th>3</th>\n",
       "      <td>Luis Gómez</td>\n",
       "      <td>Centrocampista</td>\n",
       "    </tr>\n",
       "    <tr>\n",
       "      <th>4</th>\n",
       "      <td>Miguel Fernández</td>\n",
       "      <td>Portero</td>\n",
       "    </tr>\n",
       "    <tr>\n",
       "      <th>5</th>\n",
       "      <td>Andrés Martínez</td>\n",
       "      <td>Delantero</td>\n",
       "    </tr>\n",
       "    <tr>\n",
       "      <th>6</th>\n",
       "      <td>Pedro Sánchez</td>\n",
       "      <td>Centrocampista</td>\n",
       "    </tr>\n",
       "    <tr>\n",
       "      <th>7</th>\n",
       "      <td>José López</td>\n",
       "      <td>Defensa</td>\n",
       "    </tr>\n",
       "    <tr>\n",
       "      <th>8</th>\n",
       "      <td>Fernando Díaz</td>\n",
       "      <td>Delantero</td>\n",
       "    </tr>\n",
       "    <tr>\n",
       "      <th>9</th>\n",
       "      <td>David Herrera</td>\n",
       "      <td>Portero</td>\n",
       "    </tr>\n",
       "    <tr>\n",
       "      <th>10</th>\n",
       "      <td>Rafael González</td>\n",
       "      <td>Defensa</td>\n",
       "    </tr>\n",
       "    <tr>\n",
       "      <th>11</th>\n",
       "      <td>Alberto Ramírez</td>\n",
       "      <td>Delantero</td>\n",
       "    </tr>\n",
       "    <tr>\n",
       "      <th>12</th>\n",
       "      <td>Gabriel Muñoz</td>\n",
       "      <td>Centrocampista</td>\n",
       "    </tr>\n",
       "    <tr>\n",
       "      <th>13</th>\n",
       "      <td>Mario Castillo</td>\n",
       "      <td>Defensa</td>\n",
       "    </tr>\n",
       "    <tr>\n",
       "      <th>14</th>\n",
       "      <td>Enrique Jiménez</td>\n",
       "      <td>Portero</td>\n",
       "    </tr>\n",
       "    <tr>\n",
       "      <th>15</th>\n",
       "      <td>Jorge Romero</td>\n",
       "      <td>Delantero</td>\n",
       "    </tr>\n",
       "    <tr>\n",
       "      <th>16</th>\n",
       "      <td>Ricardo Hernández</td>\n",
       "      <td>Defensa</td>\n",
       "    </tr>\n",
       "    <tr>\n",
       "      <th>17</th>\n",
       "      <td>Diego Vega</td>\n",
       "      <td>Centrocampista</td>\n",
       "    </tr>\n",
       "    <tr>\n",
       "      <th>18</th>\n",
       "      <td>Adrián Navarro</td>\n",
       "      <td>Portero</td>\n",
       "    </tr>\n",
       "    <tr>\n",
       "      <th>19</th>\n",
       "      <td>Pablo Flores</td>\n",
       "      <td>Delantero</td>\n",
       "    </tr>\n",
       "    <tr>\n",
       "      <th>20</th>\n",
       "      <td>Santiago Torres</td>\n",
       "      <td>Defensa</td>\n",
       "    </tr>\n",
       "  </tbody>\n",
       "</table>\n",
       "</div>"
      ],
      "text/plain": [
       "               nombre        posición\n",
       "id                                   \n",
       "1          Juan Pérez       Delantero\n",
       "2         Carlos Ruiz         Defensa\n",
       "3          Luis Gómez  Centrocampista\n",
       "4    Miguel Fernández         Portero\n",
       "5     Andrés Martínez       Delantero\n",
       "6       Pedro Sánchez  Centrocampista\n",
       "7          José López         Defensa\n",
       "8       Fernando Díaz       Delantero\n",
       "9       David Herrera         Portero\n",
       "10    Rafael González         Defensa\n",
       "11    Alberto Ramírez       Delantero\n",
       "12      Gabriel Muñoz  Centrocampista\n",
       "13     Mario Castillo         Defensa\n",
       "14    Enrique Jiménez         Portero\n",
       "15       Jorge Romero       Delantero\n",
       "16  Ricardo Hernández         Defensa\n",
       "17         Diego Vega  Centrocampista\n",
       "18     Adrián Navarro         Portero\n",
       "19       Pablo Flores       Delantero\n",
       "20    Santiago Torres         Defensa"
      ]
     },
     "execution_count": 104,
     "metadata": {},
     "output_type": "execute_result"
    }
   ],
   "source": [
    "futbolistas[[\"nombre\",\"posición\"]]"
   ]
  },
  {
   "cell_type": "markdown",
   "id": "7dab2767-722f-4cc9-8c6c-d0711d44f70d",
   "metadata": {},
   "source": [
    "Seleccionar las filas con índices 1 y 2, y las columnas \"nombre\" y \"horas_entrenamiento\" del DataFrame \"futbolistas\""
   ]
  },
  {
   "cell_type": "code",
   "execution_count": 105,
   "id": "9f914157-fa0b-4187-bb82-f7a7791c8955",
   "metadata": {
    "tags": []
   },
   "outputs": [
    {
     "data": {
      "text/html": [
       "<div>\n",
       "<style scoped>\n",
       "    .dataframe tbody tr th:only-of-type {\n",
       "        vertical-align: middle;\n",
       "    }\n",
       "\n",
       "    .dataframe tbody tr th {\n",
       "        vertical-align: top;\n",
       "    }\n",
       "\n",
       "    .dataframe thead th {\n",
       "        text-align: right;\n",
       "    }\n",
       "</style>\n",
       "<table border=\"1\" class=\"dataframe\">\n",
       "  <thead>\n",
       "    <tr style=\"text-align: right;\">\n",
       "      <th></th>\n",
       "      <th>nombre</th>\n",
       "      <th>horas_entrenamiento</th>\n",
       "    </tr>\n",
       "    <tr>\n",
       "      <th>id</th>\n",
       "      <th></th>\n",
       "      <th></th>\n",
       "    </tr>\n",
       "  </thead>\n",
       "  <tbody>\n",
       "    <tr>\n",
       "      <th>1</th>\n",
       "      <td>Juan Pérez</td>\n",
       "      <td>20</td>\n",
       "    </tr>\n",
       "    <tr>\n",
       "      <th>2</th>\n",
       "      <td>Carlos Ruiz</td>\n",
       "      <td>18</td>\n",
       "    </tr>\n",
       "  </tbody>\n",
       "</table>\n",
       "</div>"
      ],
      "text/plain": [
       "         nombre  horas_entrenamiento\n",
       "id                                  \n",
       "1    Juan Pérez                   20\n",
       "2   Carlos Ruiz                   18"
      ]
     },
     "execution_count": 105,
     "metadata": {},
     "output_type": "execute_result"
    }
   ],
   "source": [
    "futbolistas.loc[[1,2],[\"nombre\",\"horas_entrenamiento\"]]"
   ]
  },
  {
   "cell_type": "markdown",
   "id": "f7970df8-eec0-46a6-bd4a-2cb9d0d25504",
   "metadata": {},
   "source": [
    "Seleccionar las filas en las posiciones 1, 3 y 4, y las columnas en las posiciones 0 y 2 del DataFrame \"futbolistas\""
   ]
  },
  {
   "cell_type": "code",
   "execution_count": 106,
   "id": "bf6912ff-fbd9-4c1c-b896-b1ed379d0395",
   "metadata": {
    "tags": []
   },
   "outputs": [
    {
     "data": {
      "text/html": [
       "<div>\n",
       "<style scoped>\n",
       "    .dataframe tbody tr th:only-of-type {\n",
       "        vertical-align: middle;\n",
       "    }\n",
       "\n",
       "    .dataframe tbody tr th {\n",
       "        vertical-align: top;\n",
       "    }\n",
       "\n",
       "    .dataframe thead th {\n",
       "        text-align: right;\n",
       "    }\n",
       "</style>\n",
       "<table border=\"1\" class=\"dataframe\">\n",
       "  <thead>\n",
       "    <tr style=\"text-align: right;\">\n",
       "      <th></th>\n",
       "      <th>nombre</th>\n",
       "      <th>posición</th>\n",
       "    </tr>\n",
       "    <tr>\n",
       "      <th>id</th>\n",
       "      <th></th>\n",
       "      <th></th>\n",
       "    </tr>\n",
       "  </thead>\n",
       "  <tbody>\n",
       "    <tr>\n",
       "      <th>2</th>\n",
       "      <td>Carlos Ruiz</td>\n",
       "      <td>Defensa</td>\n",
       "    </tr>\n",
       "    <tr>\n",
       "      <th>4</th>\n",
       "      <td>Miguel Fernández</td>\n",
       "      <td>Portero</td>\n",
       "    </tr>\n",
       "    <tr>\n",
       "      <th>5</th>\n",
       "      <td>Andrés Martínez</td>\n",
       "      <td>Delantero</td>\n",
       "    </tr>\n",
       "  </tbody>\n",
       "</table>\n",
       "</div>"
      ],
      "text/plain": [
       "              nombre   posición\n",
       "id                             \n",
       "2        Carlos Ruiz    Defensa\n",
       "4   Miguel Fernández    Portero\n",
       "5    Andrés Martínez  Delantero"
      ]
     },
     "execution_count": 106,
     "metadata": {},
     "output_type": "execute_result"
    }
   ],
   "source": [
    "futbolistas.iloc[[1,3,4],[0,2]]"
   ]
  },
  {
   "cell_type": "markdown",
   "id": "fa99de4f-2a59-4d0e-b09e-7738fdc2e643",
   "metadata": {},
   "source": [
    "Calcular el promedio de las horas de entrenamiento agrupado por la columna \"posición\" en el DataFrame \"futbolistas\""
   ]
  },
  {
   "cell_type": "code",
   "execution_count": 107,
   "id": "56957590-50ad-4b5c-ae20-ff10108c8a3e",
   "metadata": {
    "tags": []
   },
   "outputs": [
    {
     "data": {
      "text/plain": [
       "posición\n",
       "Centrocampista    20.000000\n",
       "Defensa           18.166667\n",
       "Delantero         21.666667\n",
       "Portero           18.250000\n",
       "Name: horas_entrenamiento, dtype: float64"
      ]
     },
     "execution_count": 107,
     "metadata": {},
     "output_type": "execute_result"
    }
   ],
   "source": [
    "futbolistas.groupby(\"posición\")[\"horas_entrenamiento\"].mean()"
   ]
  },
  {
   "cell_type": "markdown",
   "id": "a32b15f8-5168-4abf-a4f9-6c1191d7f68f",
   "metadata": {},
   "source": [
    "Crear una tabla pivote en el DataFrame futbolistas, donde se muestre el mínimo de horas de entrenamiento para cada posición y liga"
   ]
  },
  {
   "cell_type": "code",
   "execution_count": 108,
   "id": "5253780e-379c-4dd4-9540-f1b59b14bb68",
   "metadata": {
    "tags": []
   },
   "outputs": [
    {
     "data": {
      "text/html": [
       "<div>\n",
       "<style scoped>\n",
       "    .dataframe tbody tr th:only-of-type {\n",
       "        vertical-align: middle;\n",
       "    }\n",
       "\n",
       "    .dataframe tbody tr th {\n",
       "        vertical-align: top;\n",
       "    }\n",
       "\n",
       "    .dataframe thead tr th {\n",
       "        text-align: left;\n",
       "    }\n",
       "\n",
       "    .dataframe thead tr:last-of-type th {\n",
       "        text-align: right;\n",
       "    }\n",
       "</style>\n",
       "<table border=\"1\" class=\"dataframe\">\n",
       "  <thead>\n",
       "    <tr>\n",
       "      <th></th>\n",
       "      <th colspan=\"4\" halign=\"left\">horas_entrenamiento</th>\n",
       "    </tr>\n",
       "    <tr>\n",
       "      <th>liga</th>\n",
       "      <th>1</th>\n",
       "      <th>2</th>\n",
       "      <th>3</th>\n",
       "      <th>4</th>\n",
       "    </tr>\n",
       "    <tr>\n",
       "      <th>posición</th>\n",
       "      <th></th>\n",
       "      <th></th>\n",
       "      <th></th>\n",
       "      <th></th>\n",
       "    </tr>\n",
       "  </thead>\n",
       "  <tbody>\n",
       "    <tr>\n",
       "      <th>Centrocampista</th>\n",
       "      <td>22</td>\n",
       "      <td>20</td>\n",
       "      <td>18</td>\n",
       "      <td>20</td>\n",
       "    </tr>\n",
       "    <tr>\n",
       "      <th>Defensa</th>\n",
       "      <td>16</td>\n",
       "      <td>17</td>\n",
       "      <td>20</td>\n",
       "      <td>19</td>\n",
       "    </tr>\n",
       "    <tr>\n",
       "      <th>Delantero</th>\n",
       "      <td>20</td>\n",
       "      <td>23</td>\n",
       "      <td>21</td>\n",
       "      <td>22</td>\n",
       "    </tr>\n",
       "    <tr>\n",
       "      <th>Portero</th>\n",
       "      <td>19</td>\n",
       "      <td>16</td>\n",
       "      <td>17</td>\n",
       "      <td>21</td>\n",
       "    </tr>\n",
       "  </tbody>\n",
       "</table>\n",
       "</div>"
      ],
      "text/plain": [
       "               horas_entrenamiento            \n",
       "liga                             1   2   3   4\n",
       "posición                                      \n",
       "Centrocampista                  22  20  18  20\n",
       "Defensa                         16  17  20  19\n",
       "Delantero                       20  23  21  22\n",
       "Portero                         19  16  17  21"
      ]
     },
     "execution_count": 108,
     "metadata": {},
     "output_type": "execute_result"
    }
   ],
   "source": [
    "futbolistas.pivot_table( index=\"posición\", values=[\"horas_entrenamiento\"],columns=\"liga\", aggfunc=\"min\")"
   ]
  },
  {
   "cell_type": "markdown",
   "id": "586e1d13-2951-4388-b06e-57fd8236c1cd",
   "metadata": {},
   "source": [
    "## Matplotlib"
   ]
  },
  {
   "cell_type": "code",
   "execution_count": 109,
   "id": "4192f584-4739-4288-8016-88f217b4f973",
   "metadata": {
    "tags": []
   },
   "outputs": [],
   "source": [
    "import matplotlib.pyplot as plt\n",
    "import seaborn as sns"
   ]
  },
  {
   "cell_type": "markdown",
   "id": "2e2bb976-02bf-4886-8bce-d969f382fc34",
   "metadata": {},
   "source": [
    "Leer un archivo Excel llamado \"futbolistas.xlsx\" desde la carpeta \"DB\", estableciendo la columna \"Id\" como índice y parseando la columna \"Nacimiento\" como fecha"
   ]
  },
  {
   "cell_type": "code",
   "execution_count": 110,
   "id": "662f97f8-e1b0-4218-b00b-aade08c3fad6",
   "metadata": {
    "tags": []
   },
   "outputs": [
    {
     "data": {
      "text/html": [
       "<div>\n",
       "<style scoped>\n",
       "    .dataframe tbody tr th:only-of-type {\n",
       "        vertical-align: middle;\n",
       "    }\n",
       "\n",
       "    .dataframe tbody tr th {\n",
       "        vertical-align: top;\n",
       "    }\n",
       "\n",
       "    .dataframe thead th {\n",
       "        text-align: right;\n",
       "    }\n",
       "</style>\n",
       "<table border=\"1\" class=\"dataframe\">\n",
       "  <thead>\n",
       "    <tr style=\"text-align: right;\">\n",
       "      <th></th>\n",
       "      <th>Nombre</th>\n",
       "      <th>Liga</th>\n",
       "      <th>Prácticas</th>\n",
       "      <th>Horas_Entrenando</th>\n",
       "      <th>Altura</th>\n",
       "      <th>Precio</th>\n",
       "      <th>Juegos</th>\n",
       "      <th>Gimnasio</th>\n",
       "      <th>Fuma</th>\n",
       "      <th>Nacimiento</th>\n",
       "      <th>Nutriólogo</th>\n",
       "      <th>Horas_Casa</th>\n",
       "    </tr>\n",
       "    <tr>\n",
       "      <th>Id</th>\n",
       "      <th></th>\n",
       "      <th></th>\n",
       "      <th></th>\n",
       "      <th></th>\n",
       "      <th></th>\n",
       "      <th></th>\n",
       "      <th></th>\n",
       "      <th></th>\n",
       "      <th></th>\n",
       "      <th></th>\n",
       "      <th></th>\n",
       "      <th></th>\n",
       "    </tr>\n",
       "  </thead>\n",
       "  <tbody>\n",
       "    <tr>\n",
       "      <th>1</th>\n",
       "      <td>Mario Llanos</td>\n",
       "      <td>1</td>\n",
       "      <td>4</td>\n",
       "      <td>6</td>\n",
       "      <td>1.691695</td>\n",
       "      <td>4.711956e+05</td>\n",
       "      <td>12</td>\n",
       "      <td>No</td>\n",
       "      <td>Si</td>\n",
       "      <td>1998-01-25</td>\n",
       "      <td>Si</td>\n",
       "      <td>8</td>\n",
       "    </tr>\n",
       "    <tr>\n",
       "      <th>2</th>\n",
       "      <td>Marta Nathal</td>\n",
       "      <td>1</td>\n",
       "      <td>6</td>\n",
       "      <td>6</td>\n",
       "      <td>1.649811</td>\n",
       "      <td>7.872461e+05</td>\n",
       "      <td>12</td>\n",
       "      <td>Si</td>\n",
       "      <td>No</td>\n",
       "      <td>1998-01-23</td>\n",
       "      <td>Si</td>\n",
       "      <td>8</td>\n",
       "    </tr>\n",
       "    <tr>\n",
       "      <th>3</th>\n",
       "      <td>Howard Sierra</td>\n",
       "      <td>1</td>\n",
       "      <td>5</td>\n",
       "      <td>13</td>\n",
       "      <td>1.835804</td>\n",
       "      <td>1.795484e+06</td>\n",
       "      <td>10</td>\n",
       "      <td>Si</td>\n",
       "      <td>No</td>\n",
       "      <td>1998-01-24</td>\n",
       "      <td>Si</td>\n",
       "      <td>9</td>\n",
       "    </tr>\n",
       "    <tr>\n",
       "      <th>4</th>\n",
       "      <td>Luna Nava</td>\n",
       "      <td>1</td>\n",
       "      <td>3</td>\n",
       "      <td>9</td>\n",
       "      <td>1.675274</td>\n",
       "      <td>9.755637e+05</td>\n",
       "      <td>12</td>\n",
       "      <td>Si</td>\n",
       "      <td>No</td>\n",
       "      <td>1998-01-08</td>\n",
       "      <td>No</td>\n",
       "      <td>5</td>\n",
       "    </tr>\n",
       "    <tr>\n",
       "      <th>5</th>\n",
       "      <td>Eugenio Ibarra</td>\n",
       "      <td>1</td>\n",
       "      <td>3</td>\n",
       "      <td>5</td>\n",
       "      <td>1.597647</td>\n",
       "      <td>4.048235e+05</td>\n",
       "      <td>9</td>\n",
       "      <td>Si</td>\n",
       "      <td>No</td>\n",
       "      <td>1998-01-20</td>\n",
       "      <td>Si</td>\n",
       "      <td>5</td>\n",
       "    </tr>\n",
       "    <tr>\n",
       "      <th>...</th>\n",
       "      <td>...</td>\n",
       "      <td>...</td>\n",
       "      <td>...</td>\n",
       "      <td>...</td>\n",
       "      <td>...</td>\n",
       "      <td>...</td>\n",
       "      <td>...</td>\n",
       "      <td>...</td>\n",
       "      <td>...</td>\n",
       "      <td>...</td>\n",
       "      <td>...</td>\n",
       "      <td>...</td>\n",
       "    </tr>\n",
       "    <tr>\n",
       "      <th>396</th>\n",
       "      <td>Gabriel Soberón</td>\n",
       "      <td>3</td>\n",
       "      <td>2</td>\n",
       "      <td>3</td>\n",
       "      <td>1.532822</td>\n",
       "      <td>6.768828e+04</td>\n",
       "      <td>3</td>\n",
       "      <td>Si</td>\n",
       "      <td>Si</td>\n",
       "      <td>1998-12-28</td>\n",
       "      <td>Si</td>\n",
       "      <td>2</td>\n",
       "    </tr>\n",
       "    <tr>\n",
       "      <th>397</th>\n",
       "      <td>Lily Vera</td>\n",
       "      <td>3</td>\n",
       "      <td>2</td>\n",
       "      <td>6</td>\n",
       "      <td>1.637571</td>\n",
       "      <td>6.746402e+04</td>\n",
       "      <td>6</td>\n",
       "      <td>No</td>\n",
       "      <td>Si</td>\n",
       "      <td>1998-12-13</td>\n",
       "      <td>No</td>\n",
       "      <td>0</td>\n",
       "    </tr>\n",
       "    <tr>\n",
       "      <th>398</th>\n",
       "      <td>Silvana Córdova</td>\n",
       "      <td>3</td>\n",
       "      <td>2</td>\n",
       "      <td>3</td>\n",
       "      <td>1.578813</td>\n",
       "      <td>5.110220e+04</td>\n",
       "      <td>4</td>\n",
       "      <td>No</td>\n",
       "      <td>No</td>\n",
       "      <td>1998-12-26</td>\n",
       "      <td>Si</td>\n",
       "      <td>2</td>\n",
       "    </tr>\n",
       "    <tr>\n",
       "      <th>399</th>\n",
       "      <td>Ezequiel Almeda</td>\n",
       "      <td>3</td>\n",
       "      <td>1</td>\n",
       "      <td>2</td>\n",
       "      <td>1.870642</td>\n",
       "      <td>5.192207e+04</td>\n",
       "      <td>4</td>\n",
       "      <td>Si</td>\n",
       "      <td>No</td>\n",
       "      <td>1998-12-26</td>\n",
       "      <td>No</td>\n",
       "      <td>2</td>\n",
       "    </tr>\n",
       "    <tr>\n",
       "      <th>400</th>\n",
       "      <td>Fátima Andraca</td>\n",
       "      <td>3</td>\n",
       "      <td>2</td>\n",
       "      <td>2</td>\n",
       "      <td>1.706124</td>\n",
       "      <td>4.463194e+04</td>\n",
       "      <td>6</td>\n",
       "      <td>No</td>\n",
       "      <td>Si</td>\n",
       "      <td>1998-12-26</td>\n",
       "      <td>No</td>\n",
       "      <td>5</td>\n",
       "    </tr>\n",
       "  </tbody>\n",
       "</table>\n",
       "<p>400 rows × 12 columns</p>\n",
       "</div>"
      ],
      "text/plain": [
       "              Nombre  Liga  Prácticas  Horas_Entrenando    Altura  \\\n",
       "Id                                                                  \n",
       "1       Mario Llanos     1          4                 6  1.691695   \n",
       "2       Marta Nathal     1          6                 6  1.649811   \n",
       "3      Howard Sierra     1          5                13  1.835804   \n",
       "4          Luna Nava     1          3                 9  1.675274   \n",
       "5     Eugenio Ibarra     1          3                 5  1.597647   \n",
       "..               ...   ...        ...               ...       ...   \n",
       "396  Gabriel Soberón     3          2                 3  1.532822   \n",
       "397        Lily Vera     3          2                 6  1.637571   \n",
       "398  Silvana Córdova     3          2                 3  1.578813   \n",
       "399  Ezequiel Almeda     3          1                 2  1.870642   \n",
       "400   Fátima Andraca     3          2                 2  1.706124   \n",
       "\n",
       "           Precio  Juegos Gimnasio Fuma Nacimiento Nutriólogo  Horas_Casa  \n",
       "Id                                                                         \n",
       "1    4.711956e+05      12       No   Si 1998-01-25         Si           8  \n",
       "2    7.872461e+05      12       Si   No 1998-01-23         Si           8  \n",
       "3    1.795484e+06      10       Si   No 1998-01-24         Si           9  \n",
       "4    9.755637e+05      12       Si   No 1998-01-08         No           5  \n",
       "5    4.048235e+05       9       Si   No 1998-01-20         Si           5  \n",
       "..            ...     ...      ...  ...        ...        ...         ...  \n",
       "396  6.768828e+04       3       Si   Si 1998-12-28         Si           2  \n",
       "397  6.746402e+04       6       No   Si 1998-12-13         No           0  \n",
       "398  5.110220e+04       4       No   No 1998-12-26         Si           2  \n",
       "399  5.192207e+04       4       Si   No 1998-12-26         No           2  \n",
       "400  4.463194e+04       6       No   Si 1998-12-26         No           5  \n",
       "\n",
       "[400 rows x 12 columns]"
      ]
     },
     "execution_count": 110,
     "metadata": {},
     "output_type": "execute_result"
    }
   ],
   "source": [
    "futbolistas= pd.read_excel(\"C:\\\\Users\\\\Usuario\\\\Desktop\\\\CursoDataScience\\\\CursoDataScience\\\\Data\\\\futbolistas.xlsx\",index_col=\"Id\",parse_dates=[\"Nacimiento\"])\n",
    "futbolistas"
   ]
  },
  {
   "cell_type": "markdown",
   "id": "9780c3de-a73b-4955-a9f1-d6a99a64b9b9",
   "metadata": {},
   "source": [
    "Crear un gráfico de dispersión con las \"horas de entrenamiento\" en el eje x y el \"precio\" en el eje y"
   ]
  },
  {
   "cell_type": "code",
   "execution_count": 111,
   "id": "29b1779e-6df4-4bd3-a48e-f0cc1296cae0",
   "metadata": {
    "tags": []
   },
   "outputs": [
    {
     "data": {
      "image/png": "[encoded data removed]",
      "text/plain": [
       "<Figure size 640x480 with 1 Axes>"
      ]
     },
     "metadata": {},
     "output_type": "display_data"
    }
   ],
   "source": [
    "futbolistas.plot.scatter(x=\"Horas_Entrenando\",y=\"Precio\",alpha=0.5)\n",
    "plt.show()"
   ]
  },
  {
   "cell_type": "markdown",
   "id": "e3fae701-b067-4d60-b331-3b8d977ee1c6",
   "metadata": {},
   "source": [
    "Crear un gráfico de pastel con la distribución de jugadores por liga del DataFrame \"futbolistas\""
   ]
  },
  {
   "cell_type": "code",
   "execution_count": 112,
   "id": "1764f9f9-0f69-48fc-b9dd-e3bc050755d7",
   "metadata": {
    "tags": []
   },
   "outputs": [
    {
     "data": {
      "text/plain": [
       "<Axes: >"
      ]
     },
     "execution_count": 112,
     "metadata": {},
     "output_type": "execute_result"
    },
    {
     "data": {
      "image/png": "[encoded data removed]",
      "text/plain": [
       "<Figure size 640x480 with 1 Axes>"
      ]
     },
     "metadata": {},
     "output_type": "display_data"
    }
   ],
   "source": [
    "ligas=futbolistas.groupby(by=\"Liga\").size()\n",
    "ligas.plot.pie(autopct='%1.1f%%')"
   ]
  },
  {
   "cell_type": "markdown",
   "id": "4d9a5210-9341-4681-aaa0-d0ad70356d58",
   "metadata": {},
   "source": [
    "Crear una tabla pivote con las horas de entrenamiento según las prácticas y si fuman o no en el DataFrame \"futbolistas\""
   ]
  },
  {
   "cell_type": "code",
   "execution_count": 113,
   "id": "3a08f413-1996-477f-8053-419c5b9a845f",
   "metadata": {
    "tags": []
   },
   "outputs": [
    {
     "data": {
      "text/html": [
       "<div>\n",
       "<style scoped>\n",
       "    .dataframe tbody tr th:only-of-type {\n",
       "        vertical-align: middle;\n",
       "    }\n",
       "\n",
       "    .dataframe tbody tr th {\n",
       "        vertical-align: top;\n",
       "    }\n",
       "\n",
       "    .dataframe thead th {\n",
       "        text-align: right;\n",
       "    }\n",
       "</style>\n",
       "<table border=\"1\" class=\"dataframe\">\n",
       "  <thead>\n",
       "    <tr style=\"text-align: right;\">\n",
       "      <th>Fuma</th>\n",
       "      <th>No</th>\n",
       "      <th>Si</th>\n",
       "    </tr>\n",
       "    <tr>\n",
       "      <th>Prácticas</th>\n",
       "      <th></th>\n",
       "      <th></th>\n",
       "    </tr>\n",
       "  </thead>\n",
       "  <tbody>\n",
       "    <tr>\n",
       "      <th>1</th>\n",
       "      <td>2.028571</td>\n",
       "      <td>2.200000</td>\n",
       "    </tr>\n",
       "    <tr>\n",
       "      <th>2</th>\n",
       "      <td>3.730769</td>\n",
       "      <td>3.700000</td>\n",
       "    </tr>\n",
       "    <tr>\n",
       "      <th>3</th>\n",
       "      <td>5.767857</td>\n",
       "      <td>5.730769</td>\n",
       "    </tr>\n",
       "    <tr>\n",
       "      <th>4</th>\n",
       "      <td>8.152174</td>\n",
       "      <td>9.045455</td>\n",
       "    </tr>\n",
       "    <tr>\n",
       "      <th>5</th>\n",
       "      <td>9.666667</td>\n",
       "      <td>10.411765</td>\n",
       "    </tr>\n",
       "    <tr>\n",
       "      <th>6</th>\n",
       "      <td>13.842105</td>\n",
       "      <td>14.000000</td>\n",
       "    </tr>\n",
       "    <tr>\n",
       "      <th>7</th>\n",
       "      <td>16.380952</td>\n",
       "      <td>16.750000</td>\n",
       "    </tr>\n",
       "    <tr>\n",
       "      <th>8</th>\n",
       "      <td>12.400000</td>\n",
       "      <td>13.333333</td>\n",
       "    </tr>\n",
       "    <tr>\n",
       "      <th>9</th>\n",
       "      <td>21.000000</td>\n",
       "      <td>11.000000</td>\n",
       "    </tr>\n",
       "  </tbody>\n",
       "</table>\n",
       "</div>"
      ],
      "text/plain": [
       "Fuma              No         Si\n",
       "Prácticas                      \n",
       "1           2.028571   2.200000\n",
       "2           3.730769   3.700000\n",
       "3           5.767857   5.730769\n",
       "4           8.152174   9.045455\n",
       "5           9.666667  10.411765\n",
       "6          13.842105  14.000000\n",
       "7          16.380952  16.750000\n",
       "8          12.400000  13.333333\n",
       "9          21.000000  11.000000"
      ]
     },
     "execution_count": 113,
     "metadata": {},
     "output_type": "execute_result"
    }
   ],
   "source": [
    "entrenamiento=futbolistas.pivot_table( index=\"Prácticas\", values=[\"Horas_Entrenando\"],columns=\"Fuma\")\n",
    "entrenamiento=entrenamiento[\"Horas_Entrenando\"]\n",
    "entrenamiento"
   ]
  },
  {
   "cell_type": "markdown",
   "id": "4c5dd863-6fab-491f-9602-7ecd74e4170f",
   "metadata": {},
   "source": [
    "Crear un gráfico de barras con las horas de entrenamiento según las prácticas y si fuman o no"
   ]
  },
  {
   "cell_type": "code",
   "execution_count": 114,
   "id": "bd90b95a-4eae-42ca-9535-cc23cdf99b09",
   "metadata": {
    "tags": []
   },
   "outputs": [
    {
     "data": {
      "text/plain": [
       "<Axes: xlabel='Prácticas'>"
      ]
     },
     "execution_count": 114,
     "metadata": {},
     "output_type": "execute_result"
    },
    {
     "data": {
      "image/png": "[encoded data removed]",
      "text/plain": [
       "<Figure size 640x480 with 1 Axes>"
      ]
     },
     "metadata": {},
     "output_type": "display_data"
    }
   ],
   "source": [
    "entrenamiento.plot.bar()"
   ]
  },
  {
   "cell_type": "markdown",
   "id": "141bd6f1-e795-4f0d-aca8-7c5a647f042e",
   "metadata": {},
   "source": [
    "Crear un gráfico de barras con subplots para cada categoría de \"Fuma\" en la tabla pivote "
   ]
  },
  {
   "cell_type": "code",
   "execution_count": 115,
   "id": "c57f46ac-ee0f-4f10-8392-cbfad92883d9",
   "metadata": {},
   "outputs": [
    {
     "data": {
      "text/plain": [
       "Text(0.5, 0.98, 'Fumadores')"
      ]
     },
     "execution_count": 115,
     "metadata": {},
     "output_type": "execute_result"
    },
    {
     "data": {
      "image/png": "[encoded data removed]",
      "text/plain": [
       "<Figure size 1600x400 with 2 Axes>"
      ]
     },
     "metadata": {},
     "output_type": "display_data"
    }
   ],
   "source": [
    "entrenamiento.plot.bar(layout=(1,2), subplots=True, figsize=(16,4));\n",
    "plt.suptitle(\"Fumadores\")"
   ]
  },
  {
   "cell_type": "markdown",
   "id": "fa8c1c79-48df-4bd0-b7b1-a7d51e0a994c",
   "metadata": {
    "tags": []
   },
   "source": [
    "Crear un histograma de la columna 'Juegos' del DataFrame \"futbolistas\""
   ]
  },
  {
   "cell_type": "code",
   "execution_count": 116,
   "id": "9f12190f-27f3-4ffc-a4d7-c890a32adb29",
   "metadata": {
    "tags": []
   },
   "outputs": [
    {
     "data": {
      "image/png": "[encoded data removed]",
      "text/plain": [
       "<Figure size 1000x800 with 1 Axes>"
      ]
     },
     "metadata": {},
     "output_type": "display_data"
    }
   ],
   "source": [
    "futbolistas.hist(column='Juegos', bins=11, edgecolor='black', figsize=(10, 8))\n",
    "plt.suptitle('Distribución de Juegos')\n",
    "plt.show()"
   ]
  },
  {
   "cell_type": "markdown",
   "id": "648fedf7-18d8-4976-8363-a8950790868e",
   "metadata": {},
   "source": [
    "Calcular un histograma utilizando NumPy con los datos de la columna 'Juegos' del DataFrame futbolistas"
   ]
  },
  {
   "cell_type": "code",
   "execution_count": 117,
   "id": "1ac50350-cf73-45da-8e7b-d6b31796675b",
   "metadata": {},
   "outputs": [
    {
     "data": {
      "text/plain": [
       "(array([ 2, 33, 34, 42, 58, 51, 55, 56, 27, 20, 22], dtype=int64),\n",
       " array([ 1.,  2.,  3.,  4.,  5.,  6.,  7.,  8.,  9., 10., 11., 12.]))"
      ]
     },
     "execution_count": 117,
     "metadata": {},
     "output_type": "execute_result"
    }
   ],
   "source": [
    "juegos=futbolistas[\"Juegos\"]\n",
    "min_juegos=juegos.min()\n",
    "max_juegos=juegos.max()\n",
    "edges=np.linspace(min_juegos, max_juegos, 12)\n",
    "np.histogram(juegos, edges)"
   ]
  },
  {
   "cell_type": "markdown",
   "id": "69d78911-cf52-4f68-8613-ff828d0c0ff2",
   "metadata": {},
   "source": [
    "## Seaborn"
   ]
  },
  {
   "cell_type": "code",
   "execution_count": 118,
   "id": "8de07e64-d8db-462a-b766-01de96f4ea5e",
   "metadata": {},
   "outputs": [],
   "source": [
    "import seaborn as sns"
   ]
  },
  {
   "cell_type": "markdown",
   "id": "ff170daf-699e-4e7c-b6d7-576e0e336bb3",
   "metadata": {
    "tags": []
   },
   "source": [
    "Crea un diagrama de cajas utilizando \"boxplot\" para mostrar la distribución de los precios en función de si los futbolistas asisten al gimnasio o no"
   ]
  },
  {
   "cell_type": "code",
   "execution_count": 119,
   "id": "18f3159c-fbb3-456f-9af6-8efe810d1c8e",
   "metadata": {
    "tags": []
   },
   "outputs": [
    {
     "data": {
      "image/png": "[encoded data removed]",
      "text/plain": [
       "<Figure size 640x480 with 1 Axes>"
      ]
     },
     "metadata": {},
     "output_type": "display_data"
    }
   ],
   "source": [
    "sns.boxplot(data=futbolistas, x='Gimnasio', y='Precio')\n",
    "#plt.scatter(data=futbolistas, x='Gimnasio', y='Precio')\n",
    "plt.title('Distribución de Precios por Uso del Gimnasio')\n",
    "plt.xlabel('Usa Gimnasio')\n",
    "plt.ylabel('Precio');"
   ]
  },
  {
   "cell_type": "markdown",
   "id": "b81d03e1-3b9a-4de3-8bc8-172179acd03a",
   "metadata": {},
   "source": [
    "Calcula los cuartiles y los límites para el diagrama de cajas usando los datos de la columna \"Precio\" y el agrupamiento por \"Gimnasio\""
   ]
  },
  {
   "cell_type": "code",
   "execution_count": 120,
   "id": "774885ad-01ef-4a90-9803-3e3d387d65bb",
   "metadata": {
    "tags": []
   },
   "outputs": [
    {
     "data": {
      "text/html": [
       "<div>\n",
       "<style scoped>\n",
       "    .dataframe tbody tr th:only-of-type {\n",
       "        vertical-align: middle;\n",
       "    }\n",
       "\n",
       "    .dataframe tbody tr th {\n",
       "        vertical-align: top;\n",
       "    }\n",
       "\n",
       "    .dataframe thead th {\n",
       "        text-align: right;\n",
       "    }\n",
       "</style>\n",
       "<table border=\"1\" class=\"dataframe\">\n",
       "  <thead>\n",
       "    <tr style=\"text-align: right;\">\n",
       "      <th></th>\n",
       "      <th>Gimnasio</th>\n",
       "      <th>Q1</th>\n",
       "      <th>Q2</th>\n",
       "      <th>Q3</th>\n",
       "      <th>iqr</th>\n",
       "      <th>lower</th>\n",
       "      <th>upper</th>\n",
       "    </tr>\n",
       "  </thead>\n",
       "  <tbody>\n",
       "    <tr>\n",
       "      <th>0</th>\n",
       "      <td>No</td>\n",
       "      <td>272904.008530</td>\n",
       "      <td>507077.654828</td>\n",
       "      <td>9.149468e+05</td>\n",
       "      <td>642042.766829</td>\n",
       "      <td>-690160.141713</td>\n",
       "      <td>1.878011e+06</td>\n",
       "    </tr>\n",
       "    <tr>\n",
       "      <th>1</th>\n",
       "      <td>Si</td>\n",
       "      <td>340490.719648</td>\n",
       "      <td>655543.531446</td>\n",
       "      <td>1.020046e+06</td>\n",
       "      <td>679555.242362</td>\n",
       "      <td>-678842.143895</td>\n",
       "      <td>2.039379e+06</td>\n",
       "    </tr>\n",
       "  </tbody>\n",
       "</table>\n",
       "</div>"
      ],
      "text/plain": [
       "  Gimnasio             Q1             Q2            Q3            iqr  \\\n",
       "0       No  272904.008530  507077.654828  9.149468e+05  642042.766829   \n",
       "1       Si  340490.719648  655543.531446  1.020046e+06  679555.242362   \n",
       "\n",
       "           lower         upper  \n",
       "0 -690160.141713  1.878011e+06  \n",
       "1 -678842.143895  2.039379e+06  "
      ]
     },
     "execution_count": 120,
     "metadata": {},
     "output_type": "execute_result"
    }
   ],
   "source": [
    "cuartiles=futbolistas.groupby(\"Gimnasio\")[[\"Precio\"]].quantile([.25,.5,.75]).unstack().reset_index()\n",
    "cuartiles.columns=[\"Gimnasio\", \"Q1\", \"Q2\", \"Q3\"]\n",
    "cuartiles[\"iqr\"] = cuartiles[\"Q3\"] -cuartiles[\"Q1\"]\n",
    "cuartiles[\"lower\"] = cuartiles[\"Q1\"] -cuartiles[\"iqr\"]*1.5\n",
    "cuartiles[\"upper\"] = cuartiles[\"Q3\"] +cuartiles[\"iqr\"]*1.5\n",
    "cuartiles"
   ]
  },
  {
   "cell_type": "markdown",
   "id": "1fd0ffb5-01c0-43c3-a4aa-46126c74dd59",
   "metadata": {},
   "source": [
    "Crea una gráfica de puntos con jitter para mostrar la distribución de la altura por liga utilizando \"stripplot\""
   ]
  },
  {
   "cell_type": "code",
   "execution_count": 121,
   "id": "f70d8eaa-c588-4e2d-bc29-d15cc9933790",
   "metadata": {
    "tags": []
   },
   "outputs": [
    {
     "data": {
      "image/png": "[encoded data removed]",
      "text/plain": [
       "<Figure size 640x480 with 1 Axes>"
      ]
     },
     "metadata": {},
     "output_type": "display_data"
    }
   ],
   "source": [
    "\n",
    "\n",
    "sns.stripplot(data=futbolistas, x='Liga', y='Altura', jitter=True)\n",
    "plt.title('Distribución de Altura por Liga con Jitter')\n",
    "plt.show()\n"
   ]
  },
  {
   "cell_type": "markdown",
   "id": "39095926-0283-4be7-a234-6eec9692feaa",
   "metadata": {},
   "source": [
    "Calcula la matriz de correlación de las columnas numéricas del DataFrame \"futbolistas\" utilizando \"corr\""
   ]
  },
  {
   "cell_type": "code",
   "execution_count": 122,
   "id": "9b3160f1-383e-4d68-b2aa-663e8e41ba4a",
   "metadata": {},
   "outputs": [
    {
     "data": {
      "text/html": [
       "<div>\n",
       "<style scoped>\n",
       "    .dataframe tbody tr th:only-of-type {\n",
       "        vertical-align: middle;\n",
       "    }\n",
       "\n",
       "    .dataframe tbody tr th {\n",
       "        vertical-align: top;\n",
       "    }\n",
       "\n",
       "    .dataframe thead th {\n",
       "        text-align: right;\n",
       "    }\n",
       "</style>\n",
       "<table border=\"1\" class=\"dataframe\">\n",
       "  <thead>\n",
       "    <tr style=\"text-align: right;\">\n",
       "      <th></th>\n",
       "      <th>Liga</th>\n",
       "      <th>Prácticas</th>\n",
       "      <th>Horas_Entrenando</th>\n",
       "      <th>Altura</th>\n",
       "      <th>Precio</th>\n",
       "      <th>Juegos</th>\n",
       "      <th>Horas_Casa</th>\n",
       "    </tr>\n",
       "  </thead>\n",
       "  <tbody>\n",
       "    <tr>\n",
       "      <th>Liga</th>\n",
       "      <td>1.000000</td>\n",
       "      <td>-0.361737</td>\n",
       "      <td>-0.370715</td>\n",
       "      <td>-0.032321</td>\n",
       "      <td>-0.753858</td>\n",
       "      <td>-0.376605</td>\n",
       "      <td>-0.293405</td>\n",
       "    </tr>\n",
       "    <tr>\n",
       "      <th>Prácticas</th>\n",
       "      <td>-0.361737</td>\n",
       "      <td>1.000000</td>\n",
       "      <td>0.838011</td>\n",
       "      <td>-0.012429</td>\n",
       "      <td>0.578304</td>\n",
       "      <td>0.236395</td>\n",
       "      <td>0.279133</td>\n",
       "    </tr>\n",
       "    <tr>\n",
       "      <th>Horas_Entrenando</th>\n",
       "      <td>-0.370715</td>\n",
       "      <td>0.838011</td>\n",
       "      <td>1.000000</td>\n",
       "      <td>-0.027972</td>\n",
       "      <td>0.691749</td>\n",
       "      <td>0.208769</td>\n",
       "      <td>0.222710</td>\n",
       "    </tr>\n",
       "    <tr>\n",
       "      <th>Altura</th>\n",
       "      <td>-0.032321</td>\n",
       "      <td>-0.012429</td>\n",
       "      <td>-0.027972</td>\n",
       "      <td>1.000000</td>\n",
       "      <td>0.048787</td>\n",
       "      <td>0.032708</td>\n",
       "      <td>0.073725</td>\n",
       "    </tr>\n",
       "    <tr>\n",
       "      <th>Precio</th>\n",
       "      <td>-0.753858</td>\n",
       "      <td>0.578304</td>\n",
       "      <td>0.691749</td>\n",
       "      <td>0.048787</td>\n",
       "      <td>1.000000</td>\n",
       "      <td>0.320549</td>\n",
       "      <td>0.248739</td>\n",
       "    </tr>\n",
       "    <tr>\n",
       "      <th>Juegos</th>\n",
       "      <td>-0.376605</td>\n",
       "      <td>0.236395</td>\n",
       "      <td>0.208769</td>\n",
       "      <td>0.032708</td>\n",
       "      <td>0.320549</td>\n",
       "      <td>1.000000</td>\n",
       "      <td>0.314029</td>\n",
       "    </tr>\n",
       "    <tr>\n",
       "      <th>Horas_Casa</th>\n",
       "      <td>-0.293405</td>\n",
       "      <td>0.279133</td>\n",
       "      <td>0.222710</td>\n",
       "      <td>0.073725</td>\n",
       "      <td>0.248739</td>\n",
       "      <td>0.314029</td>\n",
       "      <td>1.000000</td>\n",
       "    </tr>\n",
       "  </tbody>\n",
       "</table>\n",
       "</div>"
      ],
      "text/plain": [
       "                      Liga  Prácticas  Horas_Entrenando    Altura    Precio  \\\n",
       "Liga              1.000000  -0.361737         -0.370715 -0.032321 -0.753858   \n",
       "Prácticas        -0.361737   1.000000          0.838011 -0.012429  0.578304   \n",
       "Horas_Entrenando -0.370715   0.838011          1.000000 -0.027972  0.691749   \n",
       "Altura           -0.032321  -0.012429         -0.027972  1.000000  0.048787   \n",
       "Precio           -0.753858   0.578304          0.691749  0.048787  1.000000   \n",
       "Juegos           -0.376605   0.236395          0.208769  0.032708  0.320549   \n",
       "Horas_Casa       -0.293405   0.279133          0.222710  0.073725  0.248739   \n",
       "\n",
       "                    Juegos  Horas_Casa  \n",
       "Liga             -0.376605   -0.293405  \n",
       "Prácticas         0.236395    0.279133  \n",
       "Horas_Entrenando  0.208769    0.222710  \n",
       "Altura            0.032708    0.073725  \n",
       "Precio            0.320549    0.248739  \n",
       "Juegos            1.000000    0.314029  \n",
       "Horas_Casa        0.314029    1.000000  "
      ]
     },
     "execution_count": 122,
     "metadata": {},
     "output_type": "execute_result"
    }
   ],
   "source": [
    "corr=futbolistas.corr(numeric_only =True)\n",
    "corr\n",
    "# Entre 0 y 0,10: correlación inexistente\n",
    "# Entre 0,10 y 0,29: correlación débil\n",
    "# Entre 0,30 y 0,50: correlación moderada\n",
    "# Entre 0,50 y 1,00: correlación fuerte"
   ]
  },
  {
   "cell_type": "markdown",
   "id": "4f9e7c2a-4808-4783-9f72-5fb9f9bd2a9c",
   "metadata": {},
   "source": [
    "Crea un heatmap de la matriz de correlación corr con anotaciones, utilizando una paleta de colores 'coolwarm', centrada en 0 y con líneas de separación de 0.5"
   ]
  },
  {
   "cell_type": "code",
   "execution_count": 123,
   "id": "247311e4-12ba-468d-bf40-78b67f56e316",
   "metadata": {
    "tags": []
   },
   "outputs": [
    {
     "data": {
      "image/png": "[encoded data removed]",
      "text/plain": [
       "<Figure size 1000x800 with 2 Axes>"
      ]
     },
     "metadata": {},
     "output_type": "display_data"
    }
   ],
   "source": [
    "plt.figure(figsize=(10, 8))\n",
    "sns.heatmap(corr, annot=True, cmap='coolwarm', center=0, linewidths=.5)\n",
    "plt.title('Heatmap de Matriz de Correlación')\n",
    "plt.show()"
   ]
  },
  {
   "cell_type": "markdown",
   "id": "57faab06-06e5-4820-8ef9-34862a1c461c",
   "metadata": {},
   "source": [
    "# <span style=\"color:red\">**Aprendizaje supervisado**</span>"
   ]
  },
  {
   "cell_type": "markdown",
   "id": "ab3ecd51-210f-4784-933d-82757300bf3f",
   "metadata": {},
   "source": [
    "## <span style=\"color:green\">1.0 Limpieza de datos</span>"
   ]
  },
  {
   "cell_type": "markdown",
   "id": "782342fd-2859-454e-ad29-648767937430",
   "metadata": {},
   "source": [
    "Leer el conjunto de datos a utilizar"
   ]
  },
  {
   "cell_type": "code",
   "execution_count": 140,
   "id": "f43aab9a-b6f6-4243-b3f0-34e889ab8fa8",
   "metadata": {
    "tags": []
   },
   "outputs": [
    {
     "data": {
      "text/html": [
       "<div>\n",
       "<style scoped>\n",
       "    .dataframe tbody tr th:only-of-type {\n",
       "        vertical-align: middle;\n",
       "    }\n",
       "\n",
       "    .dataframe tbody tr th {\n",
       "        vertical-align: top;\n",
       "    }\n",
       "\n",
       "    .dataframe thead th {\n",
       "        text-align: right;\n",
       "    }\n",
       "</style>\n",
       "<table border=\"1\" class=\"dataframe\">\n",
       "  <thead>\n",
       "    <tr style=\"text-align: right;\">\n",
       "      <th></th>\n",
       "      <th>Id</th>\n",
       "      <th>Nombre</th>\n",
       "      <th>Liga</th>\n",
       "      <th>Prácticas</th>\n",
       "      <th>Horas_Entrenando</th>\n",
       "      <th>Altura</th>\n",
       "      <th>Precio</th>\n",
       "      <th>Juegos</th>\n",
       "      <th>Gimnasio</th>\n",
       "      <th>Fuma</th>\n",
       "      <th>Nacimiento</th>\n",
       "      <th>Nutriólogo</th>\n",
       "      <th>Horas_Casa</th>\n",
       "    </tr>\n",
       "  </thead>\n",
       "  <tbody>\n",
       "    <tr>\n",
       "      <th>0</th>\n",
       "      <td>1</td>\n",
       "      <td>Mario Llanos</td>\n",
       "      <td>1</td>\n",
       "      <td>4</td>\n",
       "      <td>6</td>\n",
       "      <td>1.691695</td>\n",
       "      <td>4.711956e+05</td>\n",
       "      <td>12</td>\n",
       "      <td>No</td>\n",
       "      <td>Si</td>\n",
       "      <td>1998-01-25</td>\n",
       "      <td>Si</td>\n",
       "      <td>8</td>\n",
       "    </tr>\n",
       "    <tr>\n",
       "      <th>1</th>\n",
       "      <td>2</td>\n",
       "      <td>Marta Nathal</td>\n",
       "      <td>1</td>\n",
       "      <td>6</td>\n",
       "      <td>6</td>\n",
       "      <td>1.649811</td>\n",
       "      <td>7.872461e+05</td>\n",
       "      <td>12</td>\n",
       "      <td>Si</td>\n",
       "      <td>No</td>\n",
       "      <td>1998-01-23</td>\n",
       "      <td>Si</td>\n",
       "      <td>8</td>\n",
       "    </tr>\n",
       "    <tr>\n",
       "      <th>2</th>\n",
       "      <td>3</td>\n",
       "      <td>Howard Sierra</td>\n",
       "      <td>1</td>\n",
       "      <td>5</td>\n",
       "      <td>13</td>\n",
       "      <td>1.835804</td>\n",
       "      <td>1.795484e+06</td>\n",
       "      <td>10</td>\n",
       "      <td>Si</td>\n",
       "      <td>No</td>\n",
       "      <td>1998-01-24</td>\n",
       "      <td>Si</td>\n",
       "      <td>9</td>\n",
       "    </tr>\n",
       "    <tr>\n",
       "      <th>3</th>\n",
       "      <td>4</td>\n",
       "      <td>Luna Nava</td>\n",
       "      <td>1</td>\n",
       "      <td>3</td>\n",
       "      <td>9</td>\n",
       "      <td>1.675274</td>\n",
       "      <td>9.755637e+05</td>\n",
       "      <td>12</td>\n",
       "      <td>Si</td>\n",
       "      <td>No</td>\n",
       "      <td>1998-01-08</td>\n",
       "      <td>No</td>\n",
       "      <td>5</td>\n",
       "    </tr>\n",
       "    <tr>\n",
       "      <th>4</th>\n",
       "      <td>5</td>\n",
       "      <td>Eugenio Ibarra</td>\n",
       "      <td>1</td>\n",
       "      <td>3</td>\n",
       "      <td>5</td>\n",
       "      <td>1.597647</td>\n",
       "      <td>4.048235e+05</td>\n",
       "      <td>9</td>\n",
       "      <td>Si</td>\n",
       "      <td>No</td>\n",
       "      <td>1998-01-20</td>\n",
       "      <td>Si</td>\n",
       "      <td>5</td>\n",
       "    </tr>\n",
       "  </tbody>\n",
       "</table>\n",
       "</div>"
      ],
      "text/plain": [
       "   Id          Nombre  Liga  Prácticas  Horas_Entrenando    Altura  \\\n",
       "0   1    Mario Llanos     1          4                 6  1.691695   \n",
       "1   2    Marta Nathal     1          6                 6  1.649811   \n",
       "2   3   Howard Sierra     1          5                13  1.835804   \n",
       "3   4       Luna Nava     1          3                 9  1.675274   \n",
       "4   5  Eugenio Ibarra     1          3                 5  1.597647   \n",
       "\n",
       "         Precio  Juegos Gimnasio Fuma Nacimiento Nutriólogo  Horas_Casa  \n",
       "0  4.711956e+05      12       No   Si 1998-01-25         Si           8  \n",
       "1  7.872461e+05      12       Si   No 1998-01-23         Si           8  \n",
       "2  1.795484e+06      10       Si   No 1998-01-24         Si           9  \n",
       "3  9.755637e+05      12       Si   No 1998-01-08         No           5  \n",
       "4  4.048235e+05       9       Si   No 1998-01-20         Si           5  "
      ]
     },
     "execution_count": 140,
     "metadata": {},
     "output_type": "execute_result"
    }
   ],
   "source": [
    "data = pd.read_excel('C:\\\\Users\\\\Usuario\\\\Desktop\\\\CursoDataScience\\\\CursoDataScience\\\\Data\\\\futbolistas.xlsx')\n",
    "data.head()"
   ]
  },
  {
   "cell_type": "markdown",
   "id": "75640f16-0dcf-4583-9863-c6c817136ca8",
   "metadata": {},
   "source": [
    "Obtener el tamaño del dataset"
   ]
  },
  {
   "cell_type": "code",
   "execution_count": 141,
   "id": "cf3504ba-ad14-4334-978b-4cb8f0480bcd",
   "metadata": {},
   "outputs": [
    {
     "data": {
      "text/plain": [
       "(400, 13)"
      ]
     },
     "execution_count": 141,
     "metadata": {},
     "output_type": "execute_result"
    }
   ],
   "source": [
    "data.shape"
   ]
  },
  {
   "cell_type": "markdown",
   "id": "8121425a-0fc8-4c0b-8de6-631afeec810d",
   "metadata": {},
   "source": [
    "Calcular el número de datos unicos"
   ]
  },
  {
   "cell_type": "code",
   "execution_count": 142,
   "id": "029d068f-5de7-4c16-b4c2-081e2d4896ef",
   "metadata": {},
   "outputs": [
    {
     "data": {
      "text/plain": [
       "Id                  400\n",
       "Nombre              399\n",
       "Liga                  4\n",
       "Prácticas             9\n",
       "Horas_Entrenando     21\n",
       "Altura              400\n",
       "Precio              369\n",
       "Juegos               12\n",
       "Gimnasio              2\n",
       "Fuma                  2\n",
       "Nacimiento          224\n",
       "Nutriólogo            2\n",
       "Horas_Casa           10\n",
       "dtype: int64"
      ]
     },
     "execution_count": 142,
     "metadata": {},
     "output_type": "execute_result"
    }
   ],
   "source": [
    "data.nunique()"
   ]
  },
  {
   "cell_type": "markdown",
   "id": "9c30c4b5-e7e7-4692-b2ab-abc7b205be93",
   "metadata": {},
   "source": [
    "Enlistar la información de tipo de variables"
   ]
  },
  {
   "cell_type": "code",
   "execution_count": 143,
   "id": "85babc7b-4000-4dce-8f29-6e5f752d81fe",
   "metadata": {},
   "outputs": [
    {
     "name": "stdout",
     "output_type": "stream",
     "text": [
      "<class 'pandas.core.frame.DataFrame'>\n",
      "RangeIndex: 400 entries, 0 to 399\n",
      "Data columns (total 13 columns):\n",
      " #   Column            Non-Null Count  Dtype         \n",
      "---  ------            --------------  -----         \n",
      " 0   Id                400 non-null    int64         \n",
      " 1   Nombre            400 non-null    object        \n",
      " 2   Liga              400 non-null    int64         \n",
      " 3   Prácticas         400 non-null    int64         \n",
      " 4   Horas_Entrenando  400 non-null    int64         \n",
      " 5   Altura            400 non-null    float64       \n",
      " 6   Precio            400 non-null    float64       \n",
      " 7   Juegos            400 non-null    int64         \n",
      " 8   Gimnasio          400 non-null    object        \n",
      " 9   Fuma              400 non-null    object        \n",
      " 10  Nacimiento        400 non-null    datetime64[ns]\n",
      " 11  Nutriólogo        400 non-null    object        \n",
      " 12  Horas_Casa        400 non-null    int64         \n",
      "dtypes: datetime64[ns](1), float64(2), int64(6), object(4)\n",
      "memory usage: 40.8+ KB\n"
     ]
    }
   ],
   "source": [
    "data.info()"
   ]
  },
  {
   "cell_type": "markdown",
   "id": "4966dc5a-627a-4dae-8cf3-c6beda5365c4",
   "metadata": {},
   "source": [
    "Calcular la cantidad de números nulos en cada columna "
   ]
  },
  {
   "cell_type": "code",
   "execution_count": 144,
   "id": "b09d3f44-cb8a-4508-915a-4685ca687231",
   "metadata": {},
   "outputs": [
    {
     "data": {
      "text/plain": [
       "Id                  0\n",
       "Nombre              0\n",
       "Liga                0\n",
       "Prácticas           0\n",
       "Horas_Entrenando    0\n",
       "Altura              0\n",
       "Precio              0\n",
       "Juegos              0\n",
       "Gimnasio            0\n",
       "Fuma                0\n",
       "Nacimiento          0\n",
       "Nutriólogo          0\n",
       "Horas_Casa          0\n",
       "dtype: int64"
      ]
     },
     "execution_count": 144,
     "metadata": {},
     "output_type": "execute_result"
    }
   ],
   "source": [
    "data.isnull().sum()"
   ]
  },
  {
   "cell_type": "markdown",
   "id": "c9809246-2e9a-4ef0-8a8b-a042a7993fc4",
   "metadata": {},
   "source": [
    "**NOTA:** No datos nulos, la base de datos esta completa"
   ]
  },
  {
   "cell_type": "markdown",
   "id": "6020dad4-9778-452b-87f0-13edf23915d0",
   "metadata": {},
   "source": [
    "Obtener las características estadísticas"
   ]
  },
  {
   "cell_type": "code",
   "execution_count": 145,
   "id": "df1f6ed9-2c12-438f-acea-b09a01629e44",
   "metadata": {},
   "outputs": [
    {
     "data": {
      "text/html": [
       "<div>\n",
       "<style scoped>\n",
       "    .dataframe tbody tr th:only-of-type {\n",
       "        vertical-align: middle;\n",
       "    }\n",
       "\n",
       "    .dataframe tbody tr th {\n",
       "        vertical-align: top;\n",
       "    }\n",
       "\n",
       "    .dataframe thead th {\n",
       "        text-align: right;\n",
       "    }\n",
       "</style>\n",
       "<table border=\"1\" class=\"dataframe\">\n",
       "  <thead>\n",
       "    <tr style=\"text-align: right;\">\n",
       "      <th></th>\n",
       "      <th>count</th>\n",
       "      <th>mean</th>\n",
       "      <th>min</th>\n",
       "      <th>25%</th>\n",
       "      <th>50%</th>\n",
       "      <th>75%</th>\n",
       "      <th>max</th>\n",
       "      <th>std</th>\n",
       "    </tr>\n",
       "  </thead>\n",
       "  <tbody>\n",
       "    <tr>\n",
       "      <th>Id</th>\n",
       "      <td>400.0</td>\n",
       "      <td>200.5</td>\n",
       "      <td>1.0</td>\n",
       "      <td>100.75</td>\n",
       "      <td>200.5</td>\n",
       "      <td>300.25</td>\n",
       "      <td>400.0</td>\n",
       "      <td>115.614301</td>\n",
       "    </tr>\n",
       "    <tr>\n",
       "      <th>Liga</th>\n",
       "      <td>400.0</td>\n",
       "      <td>1.81</td>\n",
       "      <td>1.0</td>\n",
       "      <td>1.0</td>\n",
       "      <td>2.0</td>\n",
       "      <td>2.0</td>\n",
       "      <td>4.0</td>\n",
       "      <td>0.946647</td>\n",
       "    </tr>\n",
       "    <tr>\n",
       "      <th>Prácticas</th>\n",
       "      <td>400.0</td>\n",
       "      <td>3.5925</td>\n",
       "      <td>1.0</td>\n",
       "      <td>2.0</td>\n",
       "      <td>3.0</td>\n",
       "      <td>5.0</td>\n",
       "      <td>9.0</td>\n",
       "      <td>1.858785</td>\n",
       "    </tr>\n",
       "    <tr>\n",
       "      <th>Horas_Entrenando</th>\n",
       "      <td>400.0</td>\n",
       "      <td>7.3875</td>\n",
       "      <td>1.0</td>\n",
       "      <td>3.0</td>\n",
       "      <td>6.0</td>\n",
       "      <td>10.0</td>\n",
       "      <td>21.0</td>\n",
       "      <td>4.867399</td>\n",
       "    </tr>\n",
       "    <tr>\n",
       "      <th>Altura</th>\n",
       "      <td>400.0</td>\n",
       "      <td>1.698473</td>\n",
       "      <td>1.359921</td>\n",
       "      <td>1.630095</td>\n",
       "      <td>1.699096</td>\n",
       "      <td>1.770972</td>\n",
       "      <td>2.019116</td>\n",
       "      <td>0.10556</td>\n",
       "    </tr>\n",
       "    <tr>\n",
       "      <th>Precio</th>\n",
       "      <td>400.0</td>\n",
       "      <td>685234.170474</td>\n",
       "      <td>0.0</td>\n",
       "      <td>311339.63501</td>\n",
       "      <td>574241.957773</td>\n",
       "      <td>984607.561996</td>\n",
       "      <td>2558990.710917</td>\n",
       "      <td>548807.030961</td>\n",
       "    </tr>\n",
       "    <tr>\n",
       "      <th>Juegos</th>\n",
       "      <td>400.0</td>\n",
       "      <td>6.1575</td>\n",
       "      <td>1.0</td>\n",
       "      <td>4.0</td>\n",
       "      <td>6.0</td>\n",
       "      <td>8.0</td>\n",
       "      <td>12.0</td>\n",
       "      <td>2.559114</td>\n",
       "    </tr>\n",
       "    <tr>\n",
       "      <th>Nacimiento</th>\n",
       "      <td>400</td>\n",
       "      <td>1998-06-06 13:30:00</td>\n",
       "      <td>1998-01-01 00:00:00</td>\n",
       "      <td>1998-02-26 18:00:00</td>\n",
       "      <td>1998-05-27 12:00:00</td>\n",
       "      <td>1998-09-11 06:00:00</td>\n",
       "      <td>1998-12-28 00:00:00</td>\n",
       "      <td>NaN</td>\n",
       "    </tr>\n",
       "    <tr>\n",
       "      <th>Horas_Casa</th>\n",
       "      <td>400.0</td>\n",
       "      <td>3.7825</td>\n",
       "      <td>0.0</td>\n",
       "      <td>2.0</td>\n",
       "      <td>4.0</td>\n",
       "      <td>6.0</td>\n",
       "      <td>9.0</td>\n",
       "      <td>2.359898</td>\n",
       "    </tr>\n",
       "  </tbody>\n",
       "</table>\n",
       "</div>"
      ],
      "text/plain": [
       "                  count                 mean                  min  \\\n",
       "Id                400.0                200.5                  1.0   \n",
       "Liga              400.0                 1.81                  1.0   \n",
       "Prácticas         400.0               3.5925                  1.0   \n",
       "Horas_Entrenando  400.0               7.3875                  1.0   \n",
       "Altura            400.0             1.698473             1.359921   \n",
       "Precio            400.0        685234.170474                  0.0   \n",
       "Juegos            400.0               6.1575                  1.0   \n",
       "Nacimiento          400  1998-06-06 13:30:00  1998-01-01 00:00:00   \n",
       "Horas_Casa        400.0               3.7825                  0.0   \n",
       "\n",
       "                                  25%                  50%  \\\n",
       "Id                             100.75                200.5   \n",
       "Liga                              1.0                  2.0   \n",
       "Prácticas                         2.0                  3.0   \n",
       "Horas_Entrenando                  3.0                  6.0   \n",
       "Altura                       1.630095             1.699096   \n",
       "Precio                   311339.63501        574241.957773   \n",
       "Juegos                            4.0                  6.0   \n",
       "Nacimiento        1998-02-26 18:00:00  1998-05-27 12:00:00   \n",
       "Horas_Casa                        2.0                  4.0   \n",
       "\n",
       "                                  75%                  max            std  \n",
       "Id                             300.25                400.0     115.614301  \n",
       "Liga                              2.0                  4.0       0.946647  \n",
       "Prácticas                         5.0                  9.0       1.858785  \n",
       "Horas_Entrenando                 10.0                 21.0       4.867399  \n",
       "Altura                       1.770972             2.019116        0.10556  \n",
       "Precio                  984607.561996       2558990.710917  548807.030961  \n",
       "Juegos                            8.0                 12.0       2.559114  \n",
       "Nacimiento        1998-09-11 06:00:00  1998-12-28 00:00:00            NaN  \n",
       "Horas_Casa                        6.0                  9.0       2.359898  "
      ]
     },
     "execution_count": 145,
     "metadata": {},
     "output_type": "execute_result"
    }
   ],
   "source": [
    "\n",
    "data.describe().T"
   ]
  },
  {
   "cell_type": "markdown",
   "id": "ce48557b-da23-4961-bb5d-30f5597da5e0",
   "metadata": {},
   "source": [
    "## Columnas que tienen que ser eliminadas\n",
    "\n",
    "**Por valores Únicos**\n",
    "\n",
    "* **Nacimiento**\n",
    "* **Altura**\n",
    "* **Nombre**\n",
    "\n",
    "---\n",
    "**Por falta de lógica**\n",
    "\n",
    "**Horas_Casa**\n",
    "\n",
    "**Id** No se necesita tenemos el index\n",
    "\n",
    "---"
   ]
  },
  {
   "cell_type": "code",
   "execution_count": 146,
   "id": "3250e365-e24a-4618-bdec-e230dc187ef4",
   "metadata": {},
   "outputs": [],
   "source": [
    "# Eliminación de columnas innecesarias\n",
    "data_clean = data.drop(columns=['Nacimiento', 'Altura', 'Nombre', 'Horas_Casa', 'Id'])"
   ]
  },
  {
   "cell_type": "code",
   "execution_count": 147,
   "id": "632174c7-7ae7-4a61-bd8b-282949249fe9",
   "metadata": {},
   "outputs": [
    {
     "data": {
      "text/plain": [
       "(400, 8)"
      ]
     },
     "execution_count": 147,
     "metadata": {},
     "output_type": "execute_result"
    }
   ],
   "source": [
    "data_clean.shape"
   ]
  },
  {
   "cell_type": "markdown",
   "id": "6d14860a-936a-429e-8e6a-40171b093c40",
   "metadata": {},
   "source": [
    "## <span style=\"color:green\">1.1 Transformación de variables categóricas</span>"
   ]
  },
  {
   "cell_type": "code",
   "execution_count": 148,
   "id": "5dc45299-e535-49bb-9f03-ff21d6127608",
   "metadata": {},
   "outputs": [
    {
     "data": {
      "text/plain": [
       "['Gimnasio', 'Fuma', 'Nutriólogo']"
      ]
     },
     "execution_count": 148,
     "metadata": {},
     "output_type": "execute_result"
    }
   ],
   "source": [
    "categorics = data_clean.select_dtypes(include=['object']).columns\n",
    "lcategorics = list(categorics)\n",
    "lcategorics"
   ]
  },
  {
   "cell_type": "markdown",
   "id": "3b9b7ef7-3814-4242-9703-46cb4f30b15e",
   "metadata": {},
   "source": [
    "Convierte datos string en numéricos introduciendo variables dummy para los atributos de sexo y puerto de embarque"
   ]
  },
  {
   "cell_type": "code",
   "execution_count": 149,
   "id": "1e4bf5b3-85ff-4dd7-b106-3df509774695",
   "metadata": {},
   "outputs": [
    {
     "data": {
      "text/html": [
       "<div>\n",
       "<style scoped>\n",
       "    .dataframe tbody tr th:only-of-type {\n",
       "        vertical-align: middle;\n",
       "    }\n",
       "\n",
       "    .dataframe tbody tr th {\n",
       "        vertical-align: top;\n",
       "    }\n",
       "\n",
       "    .dataframe thead th {\n",
       "        text-align: right;\n",
       "    }\n",
       "</style>\n",
       "<table border=\"1\" class=\"dataframe\">\n",
       "  <thead>\n",
       "    <tr style=\"text-align: right;\">\n",
       "      <th></th>\n",
       "      <th>Liga</th>\n",
       "      <th>Prácticas</th>\n",
       "      <th>Horas_Entrenando</th>\n",
       "      <th>Precio</th>\n",
       "      <th>Juegos</th>\n",
       "      <th>Gimnasio_Si</th>\n",
       "      <th>Fuma_Si</th>\n",
       "      <th>Nutriólogo_Si</th>\n",
       "    </tr>\n",
       "  </thead>\n",
       "  <tbody>\n",
       "    <tr>\n",
       "      <th>0</th>\n",
       "      <td>1</td>\n",
       "      <td>4</td>\n",
       "      <td>6</td>\n",
       "      <td>4.711956e+05</td>\n",
       "      <td>12</td>\n",
       "      <td>False</td>\n",
       "      <td>True</td>\n",
       "      <td>True</td>\n",
       "    </tr>\n",
       "    <tr>\n",
       "      <th>1</th>\n",
       "      <td>1</td>\n",
       "      <td>6</td>\n",
       "      <td>6</td>\n",
       "      <td>7.872461e+05</td>\n",
       "      <td>12</td>\n",
       "      <td>True</td>\n",
       "      <td>False</td>\n",
       "      <td>True</td>\n",
       "    </tr>\n",
       "    <tr>\n",
       "      <th>2</th>\n",
       "      <td>1</td>\n",
       "      <td>5</td>\n",
       "      <td>13</td>\n",
       "      <td>1.795484e+06</td>\n",
       "      <td>10</td>\n",
       "      <td>True</td>\n",
       "      <td>False</td>\n",
       "      <td>True</td>\n",
       "    </tr>\n",
       "    <tr>\n",
       "      <th>3</th>\n",
       "      <td>1</td>\n",
       "      <td>3</td>\n",
       "      <td>9</td>\n",
       "      <td>9.755637e+05</td>\n",
       "      <td>12</td>\n",
       "      <td>True</td>\n",
       "      <td>False</td>\n",
       "      <td>False</td>\n",
       "    </tr>\n",
       "    <tr>\n",
       "      <th>4</th>\n",
       "      <td>1</td>\n",
       "      <td>3</td>\n",
       "      <td>5</td>\n",
       "      <td>4.048235e+05</td>\n",
       "      <td>9</td>\n",
       "      <td>True</td>\n",
       "      <td>False</td>\n",
       "      <td>True</td>\n",
       "    </tr>\n",
       "  </tbody>\n",
       "</table>\n",
       "</div>"
      ],
      "text/plain": [
       "   Liga  Prácticas  Horas_Entrenando        Precio  Juegos  Gimnasio_Si  \\\n",
       "0     1          4                 6  4.711956e+05      12        False   \n",
       "1     1          6                 6  7.872461e+05      12         True   \n",
       "2     1          5                13  1.795484e+06      10         True   \n",
       "3     1          3                 9  9.755637e+05      12         True   \n",
       "4     1          3                 5  4.048235e+05       9         True   \n",
       "\n",
       "   Fuma_Si  Nutriólogo_Si  \n",
       "0     True           True  \n",
       "1    False           True  \n",
       "2    False           True  \n",
       "3    False          False  \n",
       "4    False           True  "
      ]
     },
     "execution_count": 149,
     "metadata": {},
     "output_type": "execute_result"
    }
   ],
   "source": [
    "data_trans = pd.get_dummies(data_clean, columns=lcategorics, drop_first=True)\n",
    "data_trans.head()"
   ]
  },
  {
   "cell_type": "markdown",
   "id": "1a0f01e0-cfb6-4e34-9de9-a6795240d9fd",
   "metadata": {},
   "source": [
    "Comprobar que las categóricas ahora son numéricas"
   ]
  },
  {
   "cell_type": "code",
   "execution_count": 150,
   "id": "989d2ced-6a08-4de3-a410-3a379d60ac40",
   "metadata": {},
   "outputs": [
    {
     "name": "stdout",
     "output_type": "stream",
     "text": [
      "<class 'pandas.core.frame.DataFrame'>\n",
      "RangeIndex: 400 entries, 0 to 399\n",
      "Data columns (total 8 columns):\n",
      " #   Column            Non-Null Count  Dtype  \n",
      "---  ------            --------------  -----  \n",
      " 0   Liga              400 non-null    int64  \n",
      " 1   Prácticas         400 non-null    int64  \n",
      " 2   Horas_Entrenando  400 non-null    int64  \n",
      " 3   Precio            400 non-null    float64\n",
      " 4   Juegos            400 non-null    int64  \n",
      " 5   Gimnasio_Si       400 non-null    bool   \n",
      " 6   Fuma_Si           400 non-null    bool   \n",
      " 7   Nutriólogo_Si     400 non-null    bool   \n",
      "dtypes: bool(3), float64(1), int64(4)\n",
      "memory usage: 16.9 KB\n"
     ]
    }
   ],
   "source": [
    "data_trans.info()"
   ]
  },
  {
   "cell_type": "markdown",
   "id": "615a4014-bd86-4a88-bc17-14abe1f2b8fd",
   "metadata": {},
   "source": [
    "Normaliza los datos utilizando el escalador de datos"
   ]
  },
  {
   "cell_type": "code",
   "execution_count": 151,
   "id": "1eb11d8f-6f5d-4c3c-ab09-94384fca4248",
   "metadata": {},
   "outputs": [],
   "source": [
    "from sklearn.preprocessing import MinMaxScaler, StandardScaler, RobustScaler"
   ]
  },
  {
   "cell_type": "code",
   "execution_count": 152,
   "id": "0bf6180e-39dc-4c84-b309-4c1318abb50c",
   "metadata": {},
   "outputs": [
    {
     "data": {
      "text/plain": [
       "array([[-1.        ,  0.33333333,  0.        , ..., -1.        ,\n",
       "         1.        ,  1.        ],\n",
       "       [-1.        ,  1.        ,  0.        , ...,  0.        ,\n",
       "         0.        ,  1.        ],\n",
       "       [-1.        ,  0.66666667,  1.        , ...,  0.        ,\n",
       "         0.        ,  1.        ],\n",
       "       ...,\n",
       "       [ 1.        , -0.33333333, -0.42857143, ..., -1.        ,\n",
       "         0.        ,  1.        ],\n",
       "       [ 1.        , -0.66666667, -0.57142857, ...,  0.        ,\n",
       "         0.        ,  0.        ],\n",
       "       [ 1.        , -0.33333333, -0.57142857, ..., -1.        ,\n",
       "         1.        ,  0.        ]])"
      ]
     },
     "execution_count": 152,
     "metadata": {},
     "output_type": "execute_result"
    }
   ],
   "source": [
    "ataScaler = RobustScaler()\n",
    "scaler = ataScaler.fit(data_trans)\n",
    "dataScaled = scaler.transform(data_trans)\n",
    "dataScaled"
   ]
  },
  {
   "cell_type": "markdown",
   "id": "a9456959-a8be-483e-a616-2a6dc8822a3f",
   "metadata": {},
   "source": [
    "Crea un dataframe con los datos normalizados"
   ]
  },
  {
   "cell_type": "code",
   "execution_count": 153,
   "id": "f3b02717-51e7-4ea0-8bee-696116da7940",
   "metadata": {},
   "outputs": [
    {
     "data": {
      "text/html": [
       "<div>\n",
       "<style scoped>\n",
       "    .dataframe tbody tr th:only-of-type {\n",
       "        vertical-align: middle;\n",
       "    }\n",
       "\n",
       "    .dataframe tbody tr th {\n",
       "        vertical-align: top;\n",
       "    }\n",
       "\n",
       "    .dataframe thead th {\n",
       "        text-align: right;\n",
       "    }\n",
       "</style>\n",
       "<table border=\"1\" class=\"dataframe\">\n",
       "  <thead>\n",
       "    <tr style=\"text-align: right;\">\n",
       "      <th></th>\n",
       "      <th>Liga</th>\n",
       "      <th>Prácticas</th>\n",
       "      <th>Horas_Entrenando</th>\n",
       "      <th>Precio</th>\n",
       "      <th>Juegos</th>\n",
       "      <th>Gimnasio_Si</th>\n",
       "      <th>Fuma_Si</th>\n",
       "      <th>Nutriólogo_Si</th>\n",
       "    </tr>\n",
       "  </thead>\n",
       "  <tbody>\n",
       "    <tr>\n",
       "      <th>0</th>\n",
       "      <td>-1.0</td>\n",
       "      <td>0.333333</td>\n",
       "      <td>0.000000</td>\n",
       "      <td>-0.153054</td>\n",
       "      <td>1.50</td>\n",
       "      <td>-1.0</td>\n",
       "      <td>1.0</td>\n",
       "      <td>1.0</td>\n",
       "    </tr>\n",
       "    <tr>\n",
       "      <th>1</th>\n",
       "      <td>-1.0</td>\n",
       "      <td>1.000000</td>\n",
       "      <td>0.000000</td>\n",
       "      <td>0.316373</td>\n",
       "      <td>1.50</td>\n",
       "      <td>0.0</td>\n",
       "      <td>0.0</td>\n",
       "      <td>1.0</td>\n",
       "    </tr>\n",
       "    <tr>\n",
       "      <th>2</th>\n",
       "      <td>-1.0</td>\n",
       "      <td>0.666667</td>\n",
       "      <td>1.000000</td>\n",
       "      <td>1.813901</td>\n",
       "      <td>1.00</td>\n",
       "      <td>0.0</td>\n",
       "      <td>0.0</td>\n",
       "      <td>1.0</td>\n",
       "    </tr>\n",
       "    <tr>\n",
       "      <th>3</th>\n",
       "      <td>-1.0</td>\n",
       "      <td>0.000000</td>\n",
       "      <td>0.428571</td>\n",
       "      <td>0.596080</td>\n",
       "      <td>1.50</td>\n",
       "      <td>0.0</td>\n",
       "      <td>0.0</td>\n",
       "      <td>0.0</td>\n",
       "    </tr>\n",
       "    <tr>\n",
       "      <th>4</th>\n",
       "      <td>-1.0</td>\n",
       "      <td>0.000000</td>\n",
       "      <td>-0.142857</td>\n",
       "      <td>-0.251636</td>\n",
       "      <td>0.75</td>\n",
       "      <td>0.0</td>\n",
       "      <td>0.0</td>\n",
       "      <td>1.0</td>\n",
       "    </tr>\n",
       "  </tbody>\n",
       "</table>\n",
       "</div>"
      ],
      "text/plain": [
       "   Liga  Prácticas  Horas_Entrenando    Precio  Juegos  Gimnasio_Si  Fuma_Si  \\\n",
       "0  -1.0   0.333333          0.000000 -0.153054    1.50         -1.0      1.0   \n",
       "1  -1.0   1.000000          0.000000  0.316373    1.50          0.0      0.0   \n",
       "2  -1.0   0.666667          1.000000  1.813901    1.00          0.0      0.0   \n",
       "3  -1.0   0.000000          0.428571  0.596080    1.50          0.0      0.0   \n",
       "4  -1.0   0.000000         -0.142857 -0.251636    0.75          0.0      0.0   \n",
       "\n",
       "   Nutriólogo_Si  \n",
       "0            1.0  \n",
       "1            1.0  \n",
       "2            1.0  \n",
       "3            0.0  \n",
       "4            1.0  "
      ]
     },
     "execution_count": 153,
     "metadata": {},
     "output_type": "execute_result"
    }
   ],
   "source": [
    "data_f = pd.DataFrame(dataScaled)\n",
    "data_f.columns = data_trans.columns\n",
    "data_f.head()"
   ]
  },
  {
   "cell_type": "code",
   "execution_count": 154,
   "id": "8ab7dd90-f6b0-479a-a407-32a32626d379",
   "metadata": {},
   "outputs": [
    {
     "name": "stdout",
     "output_type": "stream",
     "text": [
      "<class 'pandas.core.frame.DataFrame'>\n",
      "RangeIndex: 400 entries, 0 to 399\n",
      "Data columns (total 8 columns):\n",
      " #   Column            Non-Null Count  Dtype  \n",
      "---  ------            --------------  -----  \n",
      " 0   Liga              400 non-null    float64\n",
      " 1   Prácticas         400 non-null    float64\n",
      " 2   Horas_Entrenando  400 non-null    float64\n",
      " 3   Precio            400 non-null    float64\n",
      " 4   Juegos            400 non-null    float64\n",
      " 5   Gimnasio_Si       400 non-null    float64\n",
      " 6   Fuma_Si           400 non-null    float64\n",
      " 7   Nutriólogo_Si     400 non-null    float64\n",
      "dtypes: float64(8)\n",
      "memory usage: 25.1 KB\n"
     ]
    }
   ],
   "source": [
    "data_f.info()"
   ]
  },
  {
   "cell_type": "markdown",
   "id": "bc0babbd-ba82-4c50-b227-6fa276554eeb",
   "metadata": {},
   "source": [
    "## <span style=\"color:green\">1.2 Partición de datos</span>"
   ]
  },
  {
   "cell_type": "markdown",
   "id": "02ecfa11-6edc-409d-a593-d1c14692bb95",
   "metadata": {},
   "source": [
    "Dividir el conjunto de datos en los conjuntos de entrenamiento(60%), validación (20%) y prueba (20%)"
   ]
  },
  {
   "cell_type": "code",
   "execution_count": 155,
   "id": "c1ddab68-5d85-41be-b0a8-e12d50987fe7",
   "metadata": {},
   "outputs": [],
   "source": [
    "from sklearn.model_selection import train_test_split"
   ]
  },
  {
   "cell_type": "code",
   "execution_count": 156,
   "id": "7330428e-79b1-4090-8d75-921446aaa0ef",
   "metadata": {},
   "outputs": [
    {
     "name": "stdout",
     "output_type": "stream",
     "text": [
      "Conjunto de entrenamiento = (240, 8)\n",
      "Conjunto de validación = (80, 8)\n",
      "Conjunto de prueba = (80, 8)\n"
     ]
    }
   ],
   "source": [
    "train__val_df, test_df = train_test_split(data_f, test_size=0.2, random_state=23)\n",
    "train_df, validation_df = train_test_split(train__val_df, test_size=0.25, random_state=23) # El 25% del 80% es 20% en terminos generales\n",
    "\n",
    "print('Conjunto de entrenamiento =', train_df.shape)\n",
    "print('Conjunto de validación =', validation_df.shape)\n",
    "print('Conjunto de prueba =', test_df.shape)"
   ]
  },
  {
   "cell_type": "markdown",
   "id": "15835e36-df68-48c8-bff7-9c24a14f8992",
   "metadata": {},
   "source": [
    "Separar las variables independientes (estadísticas del jugador) de la variable dependiente (Precio)"
   ]
  },
  {
   "cell_type": "code",
   "execution_count": 157,
   "id": "a1edf07f-a856-46dd-baa7-182cee9360b4",
   "metadata": {},
   "outputs": [
    {
     "data": {
      "text/html": [
       "<div>\n",
       "<style scoped>\n",
       "    .dataframe tbody tr th:only-of-type {\n",
       "        vertical-align: middle;\n",
       "    }\n",
       "\n",
       "    .dataframe tbody tr th {\n",
       "        vertical-align: top;\n",
       "    }\n",
       "\n",
       "    .dataframe thead th {\n",
       "        text-align: right;\n",
       "    }\n",
       "</style>\n",
       "<table border=\"1\" class=\"dataframe\">\n",
       "  <thead>\n",
       "    <tr style=\"text-align: right;\">\n",
       "      <th></th>\n",
       "      <th>Liga</th>\n",
       "      <th>Prácticas</th>\n",
       "      <th>Horas_Entrenando</th>\n",
       "      <th>Juegos</th>\n",
       "      <th>Gimnasio_Si</th>\n",
       "      <th>Fuma_Si</th>\n",
       "      <th>Nutriólogo_Si</th>\n",
       "    </tr>\n",
       "  </thead>\n",
       "  <tbody>\n",
       "    <tr>\n",
       "      <th>135</th>\n",
       "      <td>0.0</td>\n",
       "      <td>0.000000</td>\n",
       "      <td>-0.285714</td>\n",
       "      <td>-0.25</td>\n",
       "      <td>0.0</td>\n",
       "      <td>0.0</td>\n",
       "      <td>0.0</td>\n",
       "    </tr>\n",
       "    <tr>\n",
       "      <th>392</th>\n",
       "      <td>0.0</td>\n",
       "      <td>-0.333333</td>\n",
       "      <td>-0.142857</td>\n",
       "      <td>-0.25</td>\n",
       "      <td>-1.0</td>\n",
       "      <td>0.0</td>\n",
       "      <td>1.0</td>\n",
       "    </tr>\n",
       "    <tr>\n",
       "      <th>127</th>\n",
       "      <td>-1.0</td>\n",
       "      <td>0.333333</td>\n",
       "      <td>0.857143</td>\n",
       "      <td>-0.50</td>\n",
       "      <td>0.0</td>\n",
       "      <td>0.0</td>\n",
       "      <td>1.0</td>\n",
       "    </tr>\n",
       "    <tr>\n",
       "      <th>377</th>\n",
       "      <td>-1.0</td>\n",
       "      <td>0.666667</td>\n",
       "      <td>0.714286</td>\n",
       "      <td>0.00</td>\n",
       "      <td>0.0</td>\n",
       "      <td>0.0</td>\n",
       "      <td>1.0</td>\n",
       "    </tr>\n",
       "    <tr>\n",
       "      <th>62</th>\n",
       "      <td>0.0</td>\n",
       "      <td>0.000000</td>\n",
       "      <td>-0.285714</td>\n",
       "      <td>-0.50</td>\n",
       "      <td>0.0</td>\n",
       "      <td>0.0</td>\n",
       "      <td>1.0</td>\n",
       "    </tr>\n",
       "  </tbody>\n",
       "</table>\n",
       "</div>"
      ],
      "text/plain": [
       "     Liga  Prácticas  Horas_Entrenando  Juegos  Gimnasio_Si  Fuma_Si  \\\n",
       "135   0.0   0.000000         -0.285714   -0.25          0.0      0.0   \n",
       "392   0.0  -0.333333         -0.142857   -0.25         -1.0      0.0   \n",
       "127  -1.0   0.333333          0.857143   -0.50          0.0      0.0   \n",
       "377  -1.0   0.666667          0.714286    0.00          0.0      0.0   \n",
       "62    0.0   0.000000         -0.285714   -0.50          0.0      0.0   \n",
       "\n",
       "     Nutriólogo_Si  \n",
       "135            0.0  \n",
       "392            1.0  \n",
       "127            1.0  \n",
       "377            1.0  \n",
       "62             1.0  "
      ]
     },
     "execution_count": 157,
     "metadata": {},
     "output_type": "execute_result"
    }
   ],
   "source": [
    "\n",
    "X_train, y_train = train_df.drop(columns=['Precio'], axis = 1), train_df['Precio']\n",
    "X_valid, y_valid = validation_df.drop(columns=['Precio'], axis = 1), validation_df['Precio']\n",
    "X_test, y_test = test_df.drop(columns=['Precio'], axis = 1), test_df['Precio']\n",
    "X_train.head()"
   ]
  },
  {
   "cell_type": "code",
   "execution_count": 158,
   "id": "4575be6c-db9c-432a-a199-c3d65ecb48c6",
   "metadata": {},
   "outputs": [
    {
     "data": {
      "text/plain": [
       "135   -0.188408\n",
       "392   -0.281953\n",
       "127    0.186628\n",
       "377    1.401362\n",
       "62    -0.234585\n",
       "Name: Precio, dtype: float64"
      ]
     },
     "execution_count": 158,
     "metadata": {},
     "output_type": "execute_result"
    }
   ],
   "source": [
    "y_train.head()"
   ]
  },
  {
   "cell_type": "markdown",
   "id": "937e86bb-a1bc-4ec5-822a-3fb9c582aa94",
   "metadata": {},
   "source": [
    "## <span style=\"color:green\">1.3 Creación de modelos y evaluación</span>"
   ]
  },
  {
   "cell_type": "code",
   "execution_count": 159,
   "id": "c1acfabd-e048-4737-b5cf-9292fa9c3e0d",
   "metadata": {},
   "outputs": [],
   "source": [
    "import pandas as pd\n",
    "from sklearn.ensemble import RandomForestRegressor\n",
    "from sklearn.metrics import mean_squared_error, r2_score\n",
    "\n",
    "\n"
   ]
  },
  {
   "cell_type": "markdown",
   "id": "afd9bfe7-fba5-4c9f-89b1-17c91ac25838",
   "metadata": {},
   "source": [
    "Crear el modelo"
   ]
  },
  {
   "cell_type": "code",
   "execution_count": 160,
   "id": "585914de-b877-44d3-87d1-7d63fe0ff95c",
   "metadata": {},
   "outputs": [],
   "source": [
    "rfr_model = RandomForestRegressor()"
   ]
  },
  {
   "cell_type": "markdown",
   "id": "ae4ffd45-53b2-41a9-9a75-48810ad4acc0",
   "metadata": {},
   "source": [
    "Entrenar el modelo"
   ]
  },
  {
   "cell_type": "code",
   "execution_count": 161,
   "id": "c9272c35-2746-4a5d-8867-9ac9dc750de3",
   "metadata": {},
   "outputs": [
    {
     "data": {
      "text/html": [
       "<style>#sk-container-id-1 {\n",
       "  /* Definition of color scheme common for light and dark mode */\n",
       "  --sklearn-color-text: black;\n",
       "  --sklearn-color-line: gray;\n",
       "  /* Definition of color scheme for unfitted estimators */\n",
       "  --sklearn-color-unfitted-level-0: #fff5e6;\n",
       "  --sklearn-color-unfitted-level-1: #f6e4d2;\n",
       "  --sklearn-color-unfitted-level-2: #ffe0b3;\n",
       "  --sklearn-color-unfitted-level-3: chocolate;\n",
       "  /* Definition of color scheme for fitted estimators */\n",
       "  --sklearn-color-fitted-level-0: #f0f8ff;\n",
       "  --sklearn-color-fitted-level-1: #d4ebff;\n",
       "  --sklearn-color-fitted-level-2: #b3dbfd;\n",
       "  --sklearn-color-fitted-level-3: cornflowerblue;\n",
       "\n",
       "  /* Specific color for light theme */\n",
       "  --sklearn-color-text-on-default-background: var(--sg-text-color, var(--theme-code-foreground, var(--jp-content-font-color1, black)));\n",
       "  --sklearn-color-background: var(--sg-background-color, var(--theme-background, var(--jp-layout-color0, white)));\n",
       "  --sklearn-color-border-box: var(--sg-text-color, var(--theme-code-foreground, var(--jp-content-font-color1, black)));\n",
       "  --sklearn-color-icon: #696969;\n",
       "\n",
       "  @media (prefers-color-scheme: dark) {\n",
       "    /* Redefinition of color scheme for dark theme */\n",
       "    --sklearn-color-text-on-default-background: var(--sg-text-color, var(--theme-code-foreground, var(--jp-content-font-color1, white)));\n",
       "    --sklearn-color-background: var(--sg-background-color, var(--theme-background, var(--jp-layout-color0, #111)));\n",
       "    --sklearn-color-border-box: var(--sg-text-color, var(--theme-code-foreground, var(--jp-content-font-color1, white)));\n",
       "    --sklearn-color-icon: #878787;\n",
       "  }\n",
       "}\n",
       "\n",
       "#sk-container-id-1 {\n",
       "  color: var(--sklearn-color-text);\n",
       "}\n",
       "\n",
       "#sk-container-id-1 pre {\n",
       "  padding: 0;\n",
       "}\n",
       "\n",
       "#sk-container-id-1 input.sk-hidden--visually {\n",
       "  border: 0;\n",
       "  clip: rect(1px 1px 1px 1px);\n",
       "  clip: rect(1px, 1px, 1px, 1px);\n",
       "  height: 1px;\n",
       "  margin: -1px;\n",
       "  overflow: hidden;\n",
       "  padding: 0;\n",
       "  position: absolute;\n",
       "  width: 1px;\n",
       "}\n",
       "\n",
       "#sk-container-id-1 div.sk-dashed-wrapped {\n",
       "  border: 1px dashed var(--sklearn-color-line);\n",
       "  margin: 0 0.4em 0.5em 0.4em;\n",
       "  box-sizing: border-box;\n",
       "  padding-bottom: 0.4em;\n",
       "  background-color: var(--sklearn-color-background);\n",
       "}\n",
       "\n",
       "#sk-container-id-1 div.sk-container {\n",
       "  /* jupyter's `normalize.less` sets `[hidden] { display: none; }`\n",
       "     but bootstrap.min.css set `[hidden] { display: none !important; }`\n",
       "     so we also need the `!important` here to be able to override the\n",
       "     default hidden behavior on the sphinx rendered scikit-learn.org.\n",
       "     See: https://github.com/scikit-learn/scikit-learn/issues/21755 */\n",
       "  display: inline-block !important;\n",
       "  position: relative;\n",
       "}\n",
       "\n",
       "#sk-container-id-1 div.sk-text-repr-fallback {\n",
       "  display: none;\n",
       "}\n",
       "\n",
       "div.sk-parallel-item,\n",
       "div.sk-serial,\n",
       "div.sk-item {\n",
       "  /* draw centered vertical line to link estimators */\n",
       "  background-image: linear-gradient(var(--sklearn-color-text-on-default-background), var(--sklearn-color-text-on-default-background));\n",
       "  background-size: 2px 100%;\n",
       "  background-repeat: no-repeat;\n",
       "  background-position: center center;\n",
       "}\n",
       "\n",
       "/* Parallel-specific style estimator block */\n",
       "\n",
       "#sk-container-id-1 div.sk-parallel-item::after {\n",
       "  content: \"\";\n",
       "  width: 100%;\n",
       "  border-bottom: 2px solid var(--sklearn-color-text-on-default-background);\n",
       "  flex-grow: 1;\n",
       "}\n",
       "\n",
       "#sk-container-id-1 div.sk-parallel {\n",
       "  display: flex;\n",
       "  align-items: stretch;\n",
       "  justify-content: center;\n",
       "  background-color: var(--sklearn-color-background);\n",
       "  position: relative;\n",
       "}\n",
       "\n",
       "#sk-container-id-1 div.sk-parallel-item {\n",
       "  display: flex;\n",
       "  flex-direction: column;\n",
       "}\n",
       "\n",
       "#sk-container-id-1 div.sk-parallel-item:first-child::after {\n",
       "  align-self: flex-end;\n",
       "  width: 50%;\n",
       "}\n",
       "\n",
       "#sk-container-id-1 div.sk-parallel-item:last-child::after {\n",
       "  align-self: flex-start;\n",
       "  width: 50%;\n",
       "}\n",
       "\n",
       "#sk-container-id-1 div.sk-parallel-item:only-child::after {\n",
       "  width: 0;\n",
       "}\n",
       "\n",
       "/* Serial-specific style estimator block */\n",
       "\n",
       "#sk-container-id-1 div.sk-serial {\n",
       "  display: flex;\n",
       "  flex-direction: column;\n",
       "  align-items: center;\n",
       "  background-color: var(--sklearn-color-background);\n",
       "  padding-right: 1em;\n",
       "  padding-left: 1em;\n",
       "}\n",
       "\n",
       "\n",
       "/* Toggleable style: style used for estimator/Pipeline/ColumnTransformer box that is\n",
       "clickable and can be expanded/collapsed.\n",
       "- Pipeline and ColumnTransformer use this feature and define the default style\n",
       "- Estimators will overwrite some part of the style using the `sk-estimator` class\n",
       "*/\n",
       "\n",
       "/* Pipeline and ColumnTransformer style (default) */\n",
       "\n",
       "#sk-container-id-1 div.sk-toggleable {\n",
       "  /* Default theme specific background. It is overwritten whether we have a\n",
       "  specific estimator or a Pipeline/ColumnTransformer */\n",
       "  background-color: var(--sklearn-color-background);\n",
       "}\n",
       "\n",
       "/* Toggleable label */\n",
       "#sk-container-id-1 label.sk-toggleable__label {\n",
       "  cursor: pointer;\n",
       "  display: block;\n",
       "  width: 100%;\n",
       "  margin-bottom: 0;\n",
       "  padding: 0.5em;\n",
       "  box-sizing: border-box;\n",
       "  text-align: center;\n",
       "}\n",
       "\n",
       "#sk-container-id-1 label.sk-toggleable__label-arrow:before {\n",
       "  /* Arrow on the left of the label */\n",
       "  content: \"▸\";\n",
       "  float: left;\n",
       "  margin-right: 0.25em;\n",
       "  color: var(--sklearn-color-icon);\n",
       "}\n",
       "\n",
       "#sk-container-id-1 label.sk-toggleable__label-arrow:hover:before {\n",
       "  color: var(--sklearn-color-text);\n",
       "}\n",
       "\n",
       "/* Toggleable content - dropdown */\n",
       "\n",
       "#sk-container-id-1 div.sk-toggleable__content {\n",
       "  max-height: 0;\n",
       "  max-width: 0;\n",
       "  overflow: hidden;\n",
       "  text-align: left;\n",
       "  /* unfitted */\n",
       "  background-color: var(--sklearn-color-unfitted-level-0);\n",
       "}\n",
       "\n",
       "#sk-container-id-1 div.sk-toggleable__content.fitted {\n",
       "  /* fitted */\n",
       "  background-color: var(--sklearn-color-fitted-level-0);\n",
       "}\n",
       "\n",
       "#sk-container-id-1 div.sk-toggleable__content pre {\n",
       "  margin: 0.2em;\n",
       "  border-radius: 0.25em;\n",
       "  color: var(--sklearn-color-text);\n",
       "  /* unfitted */\n",
       "  background-color: var(--sklearn-color-unfitted-level-0);\n",
       "}\n",
       "\n",
       "#sk-container-id-1 div.sk-toggleable__content.fitted pre {\n",
       "  /* unfitted */\n",
       "  background-color: var(--sklearn-color-fitted-level-0);\n",
       "}\n",
       "\n",
       "#sk-container-id-1 input.sk-toggleable__control:checked~div.sk-toggleable__content {\n",
       "  /* Expand drop-down */\n",
       "  max-height: 200px;\n",
       "  max-width: 100%;\n",
       "  overflow: auto;\n",
       "}\n",
       "\n",
       "#sk-container-id-1 input.sk-toggleable__control:checked~label.sk-toggleable__label-arrow:before {\n",
       "  content: \"▾\";\n",
       "}\n",
       "\n",
       "/* Pipeline/ColumnTransformer-specific style */\n",
       "\n",
       "#sk-container-id-1 div.sk-label input.sk-toggleable__control:checked~label.sk-toggleable__label {\n",
       "  color: var(--sklearn-color-text);\n",
       "  background-color: var(--sklearn-color-unfitted-level-2);\n",
       "}\n",
       "\n",
       "#sk-container-id-1 div.sk-label.fitted input.sk-toggleable__control:checked~label.sk-toggleable__label {\n",
       "  background-color: var(--sklearn-color-fitted-level-2);\n",
       "}\n",
       "\n",
       "/* Estimator-specific style */\n",
       "\n",
       "/* Colorize estimator box */\n",
       "#sk-container-id-1 div.sk-estimator input.sk-toggleable__control:checked~label.sk-toggleable__label {\n",
       "  /* unfitted */\n",
       "  background-color: var(--sklearn-color-unfitted-level-2);\n",
       "}\n",
       "\n",
       "#sk-container-id-1 div.sk-estimator.fitted input.sk-toggleable__control:checked~label.sk-toggleable__label {\n",
       "  /* fitted */\n",
       "  background-color: var(--sklearn-color-fitted-level-2);\n",
       "}\n",
       "\n",
       "#sk-container-id-1 div.sk-label label.sk-toggleable__label,\n",
       "#sk-container-id-1 div.sk-label label {\n",
       "  /* The background is the default theme color */\n",
       "  color: var(--sklearn-color-text-on-default-background);\n",
       "}\n",
       "\n",
       "/* On hover, darken the color of the background */\n",
       "#sk-container-id-1 div.sk-label:hover label.sk-toggleable__label {\n",
       "  color: var(--sklearn-color-text);\n",
       "  background-color: var(--sklearn-color-unfitted-level-2);\n",
       "}\n",
       "\n",
       "/* Label box, darken color on hover, fitted */\n",
       "#sk-container-id-1 div.sk-label.fitted:hover label.sk-toggleable__label.fitted {\n",
       "  color: var(--sklearn-color-text);\n",
       "  background-color: var(--sklearn-color-fitted-level-2);\n",
       "}\n",
       "\n",
       "/* Estimator label */\n",
       "\n",
       "#sk-container-id-1 div.sk-label label {\n",
       "  font-family: monospace;\n",
       "  font-weight: bold;\n",
       "  display: inline-block;\n",
       "  line-height: 1.2em;\n",
       "}\n",
       "\n",
       "#sk-container-id-1 div.sk-label-container {\n",
       "  text-align: center;\n",
       "}\n",
       "\n",
       "/* Estimator-specific */\n",
       "#sk-container-id-1 div.sk-estimator {\n",
       "  font-family: monospace;\n",
       "  border: 1px dotted var(--sklearn-color-border-box);\n",
       "  border-radius: 0.25em;\n",
       "  box-sizing: border-box;\n",
       "  margin-bottom: 0.5em;\n",
       "  /* unfitted */\n",
       "  background-color: var(--sklearn-color-unfitted-level-0);\n",
       "}\n",
       "\n",
       "#sk-container-id-1 div.sk-estimator.fitted {\n",
       "  /* fitted */\n",
       "  background-color: var(--sklearn-color-fitted-level-0);\n",
       "}\n",
       "\n",
       "/* on hover */\n",
       "#sk-container-id-1 div.sk-estimator:hover {\n",
       "  /* unfitted */\n",
       "  background-color: var(--sklearn-color-unfitted-level-2);\n",
       "}\n",
       "\n",
       "#sk-container-id-1 div.sk-estimator.fitted:hover {\n",
       "  /* fitted */\n",
       "  background-color: var(--sklearn-color-fitted-level-2);\n",
       "}\n",
       "\n",
       "/* Specification for estimator info (e.g. \"i\" and \"?\") */\n",
       "\n",
       "/* Common style for \"i\" and \"?\" */\n",
       "\n",
       ".sk-estimator-doc-link,\n",
       "a:link.sk-estimator-doc-link,\n",
       "a:visited.sk-estimator-doc-link {\n",
       "  float: right;\n",
       "  font-size: smaller;\n",
       "  line-height: 1em;\n",
       "  font-family: monospace;\n",
       "  background-color: var(--sklearn-color-background);\n",
       "  border-radius: 1em;\n",
       "  height: 1em;\n",
       "  width: 1em;\n",
       "  text-decoration: none !important;\n",
       "  margin-left: 1ex;\n",
       "  /* unfitted */\n",
       "  border: var(--sklearn-color-unfitted-level-1) 1pt solid;\n",
       "  color: var(--sklearn-color-unfitted-level-1);\n",
       "}\n",
       "\n",
       ".sk-estimator-doc-link.fitted,\n",
       "a:link.sk-estimator-doc-link.fitted,\n",
       "a:visited.sk-estimator-doc-link.fitted {\n",
       "  /* fitted */\n",
       "  border: var(--sklearn-color-fitted-level-1) 1pt solid;\n",
       "  color: var(--sklearn-color-fitted-level-1);\n",
       "}\n",
       "\n",
       "/* On hover */\n",
       "div.sk-estimator:hover .sk-estimator-doc-link:hover,\n",
       ".sk-estimator-doc-link:hover,\n",
       "div.sk-label-container:hover .sk-estimator-doc-link:hover,\n",
       ".sk-estimator-doc-link:hover {\n",
       "  /* unfitted */\n",
       "  background-color: var(--sklearn-color-unfitted-level-3);\n",
       "  color: var(--sklearn-color-background);\n",
       "  text-decoration: none;\n",
       "}\n",
       "\n",
       "div.sk-estimator.fitted:hover .sk-estimator-doc-link.fitted:hover,\n",
       ".sk-estimator-doc-link.fitted:hover,\n",
       "div.sk-label-container:hover .sk-estimator-doc-link.fitted:hover,\n",
       ".sk-estimator-doc-link.fitted:hover {\n",
       "  /* fitted */\n",
       "  background-color: var(--sklearn-color-fitted-level-3);\n",
       "  color: var(--sklearn-color-background);\n",
       "  text-decoration: none;\n",
       "}\n",
       "\n",
       "/* Span, style for the box shown on hovering the info icon */\n",
       ".sk-estimator-doc-link span {\n",
       "  display: none;\n",
       "  z-index: 9999;\n",
       "  position: relative;\n",
       "  font-weight: normal;\n",
       "  right: .2ex;\n",
       "  padding: .5ex;\n",
       "  margin: .5ex;\n",
       "  width: min-content;\n",
       "  min-width: 20ex;\n",
       "  max-width: 50ex;\n",
       "  color: var(--sklearn-color-text);\n",
       "  box-shadow: 2pt 2pt 4pt #999;\n",
       "  /* unfitted */\n",
       "  background: var(--sklearn-color-unfitted-level-0);\n",
       "  border: .5pt solid var(--sklearn-color-unfitted-level-3);\n",
       "}\n",
       "\n",
       ".sk-estimator-doc-link.fitted span {\n",
       "  /* fitted */\n",
       "  background: var(--sklearn-color-fitted-level-0);\n",
       "  border: var(--sklearn-color-fitted-level-3);\n",
       "}\n",
       "\n",
       ".sk-estimator-doc-link:hover span {\n",
       "  display: block;\n",
       "}\n",
       "\n",
       "/* \"?\"-specific style due to the `<a>` HTML tag */\n",
       "\n",
       "#sk-container-id-1 a.estimator_doc_link {\n",
       "  float: right;\n",
       "  font-size: 1rem;\n",
       "  line-height: 1em;\n",
       "  font-family: monospace;\n",
       "  background-color: var(--sklearn-color-background);\n",
       "  border-radius: 1rem;\n",
       "  height: 1rem;\n",
       "  width: 1rem;\n",
       "  text-decoration: none;\n",
       "  /* unfitted */\n",
       "  color: var(--sklearn-color-unfitted-level-1);\n",
       "  border: var(--sklearn-color-unfitted-level-1) 1pt solid;\n",
       "}\n",
       "\n",
       "#sk-container-id-1 a.estimator_doc_link.fitted {\n",
       "  /* fitted */\n",
       "  border: var(--sklearn-color-fitted-level-1) 1pt solid;\n",
       "  color: var(--sklearn-color-fitted-level-1);\n",
       "}\n",
       "\n",
       "/* On hover */\n",
       "#sk-container-id-1 a.estimator_doc_link:hover {\n",
       "  /* unfitted */\n",
       "  background-color: var(--sklearn-color-unfitted-level-3);\n",
       "  color: var(--sklearn-color-background);\n",
       "  text-decoration: none;\n",
       "}\n",
       "\n",
       "#sk-container-id-1 a.estimator_doc_link.fitted:hover {\n",
       "  /* fitted */\n",
       "  background-color: var(--sklearn-color-fitted-level-3);\n",
       "}\n",
       "</style><div id=\"sk-container-id-1\" class=\"sk-top-container\"><div class=\"sk-text-repr-fallback\"><pre>RandomForestRegressor()</pre><b>In a Jupyter environment, please rerun this cell to show the HTML representation or trust the notebook. <br />On GitHub, the HTML representation is unable to render, please try loading this page with nbviewer.org.</b></div><div class=\"sk-container\" hidden><div class=\"sk-item\"><div class=\"sk-estimator fitted sk-toggleable\"><input class=\"sk-toggleable__control sk-hidden--visually\" id=\"sk-estimator-id-1\" type=\"checkbox\" checked><label for=\"sk-estimator-id-1\" class=\"sk-toggleable__label fitted sk-toggleable__label-arrow fitted\">&nbsp;&nbsp;RandomForestRegressor<a class=\"sk-estimator-doc-link fitted\" rel=\"noreferrer\" target=\"_blank\" href=\"https://scikit-learn.org/1.5/modules/generated/sklearn.ensemble.RandomForestRegressor.html\">?<span>Documentation for RandomForestRegressor</span></a><span class=\"sk-estimator-doc-link fitted\">i<span>Fitted</span></span></label><div class=\"sk-toggleable__content fitted\"><pre>RandomForestRegressor()</pre></div> </div></div></div></div>"
      ],
      "text/plain": [
       "RandomForestRegressor()"
      ]
     },
     "execution_count": 161,
     "metadata": {},
     "output_type": "execute_result"
    }
   ],
   "source": [
    "rfr_model.fit(X_train, y_train)"
   ]
  },
  {
   "cell_type": "markdown",
   "id": "9e1811b5-f43e-43bd-9b9a-91028aae8e83",
   "metadata": {},
   "source": [
    "Generar las predicciones"
   ]
  },
  {
   "cell_type": "markdown",
   "id": "4591e3ae-18ee-461d-914f-3abb7c63eee2",
   "metadata": {},
   "source": [
    "y_train_pred = rfr_model.predict(X_train)\n",
    "y_valid_pred = rfr_model.predict(X_valid)"
   ]
  },
  {
   "cell_type": "markdown",
   "id": "f158cfbe-a880-4982-8b6a-9dc00b6d8f5e",
   "metadata": {},
   "source": [
    "Evaluar el modelo"
   ]
  },
  {
   "cell_type": "code",
   "execution_count": 163,
   "id": "d7cf6345-afa1-43d5-95d6-3b6ce3f7b5fb",
   "metadata": {},
   "outputs": [
    {
     "name": "stdout",
     "output_type": "stream",
     "text": [
      "MSE de entrenamiento: 0.02549393051158223\n",
      "MSE de validación: 0.14592831913289503\n",
      "R2 de entrenamiento: 0.9622754423968529\n",
      "R2 de validación: 0.7528870701548436\n"
     ]
    }
   ],
   "source": [
    "y_train_pred = rfr_model.predict(X_train)\n",
    "y_valid_pred = rfr_model.predict(X_valid)\n",
    "\n",
    "train_mse = mean_squared_error(y_train, y_train_pred)\n",
    "valid_mse = mean_squared_error(y_valid, y_valid_pred)\n",
    "train_r2 = r2_score(y_train, y_train_pred)\n",
    "valid_r2 = r2_score(y_valid, y_valid_pred)\n",
    "\n",
    "print(\"MSE de entrenamiento:\", train_mse)\n",
    "print(\"MSE de validación:\", valid_mse)\n",
    "print(\"R2 de entrenamiento:\", train_r2)\n",
    "print(\"R2 de validación:\", valid_r2)"
   ]
  },
  {
   "cell_type": "markdown",
   "id": "62d6ed80-19c5-4fed-8a73-e315a114f81c",
   "metadata": {},
   "source": [
    "Crear el gráfico de Dispersión"
   ]
  },
  {
   "cell_type": "code",
   "execution_count": 164,
   "id": "11aae6c0-1081-4386-b954-648d4ae28b82",
   "metadata": {},
   "outputs": [
    {
     "data": {
      "image/png": "[encoded data removed]",
      "text/plain": [
       "<Figure size 1000x500 with 1 Axes>"
      ]
     },
     "metadata": {},
     "output_type": "display_data"
    }
   ],
   "source": [
    "plt.figure(figsize=(10, 5))\n",
    "plt.scatter(y_valid, y_valid_pred, color='blue', alpha=0.5)\n",
    "plt.plot([y_valid.min(), y_valid.max()], [y_valid.min(), y_valid.max()], color='red', linestyle='--')\n",
    "plt.xlabel('Valores Reales')\n",
    "plt.ylabel('Valores Predichos')\n",
    "plt.title('Valores Reales vs. Predichos')\n",
    "plt.show()"
   ]
  },
  {
   "cell_type": "markdown",
   "id": "acf1e606-d926-4917-8481-7f624a67f41c",
   "metadata": {},
   "source": [
    "## <span style=\"color:green\">1.4 gráfico interactivo</span>"
   ]
  },
  {
   "cell_type": "code",
   "execution_count": 165,
   "id": "4c1e6a83-e55f-4cbe-a58a-a0ba074a0a40",
   "metadata": {},
   "outputs": [],
   "source": [
    "import plotly"
   ]
  },
  {
   "cell_type": "code",
   "execution_count": 166,
   "id": "7cf2f5d2-02e6-46df-b454-352560d0577e",
   "metadata": {},
   "outputs": [],
   "source": [
    "#pip install plotly\n",
    "import plotly.express as px\n",
    "import plotly.graph_objects as go"
   ]
  },
  {
   "cell_type": "markdown",
   "id": "570193f2-5a63-4896-b8f3-38128bf4a6c2",
   "metadata": {},
   "source": [
    "Crear la gráfica de residuales"
   ]
  },
  {
   "cell_type": "code",
   "execution_count": 167,
   "id": "929bd9b7-c4dd-4d51-97bd-9548d9f1ddee",
   "metadata": {
    "tags": []
   },
   "outputs": [
    {
     "data": {
      "application/vnd.plotly.v1+json": {
       "config": {
        "plotlyServerURL": "https://plot.ly"
       },
       "data": [
        {
         "hovertemplate": "Valores Reales=%{x}<br>Residuos=%{y}<extra></extra>",
         "legendgroup": "",
         "marker": {
          "color": "#636efa",
          "symbol": "circle"
         },
         "mode": "markers",
         "name": "",
         "orientation": "v",
         "showlegend": false,
         "type": "scatter",
         "x": [
          0.8489504383716446,
          1.1023140410082675,
          -0.8529174415650205,
          -0.8529174415650205,
          0.448078379047613,
          -0.2782568937550479,
          0.987169232023594,
          -0.8529174415650205,
          1.2450047554481252,
          0.8650221110794599,
          -0.24158720970280126,
          0.12742523913120612,
          -0.3307446229592206,
          1.0417820154857225,
          0.7134483364818923,
          1.6254640865369014,
          -0.7527136226205144,
          0.2017051781137912,
          -0.8529174415650205,
          -0.08759493986899074,
          0.6595903803366279,
          1.4394875239584872,
          0.15076132249493868,
          0.35961520714010325,
          -0.22320168362872142,
          -0.7721805366809039,
          0.35147221973735765,
          1.4229895107213024,
          -0.12861123266811816,
          -0.1350332633118923,
          0.5243567657422263,
          -0.8529174415650205,
          0.03773348365814181,
          -0.7757620736619122,
          0.3803767759827551,
          -0.7608142293653581,
          0.6930489222322754,
          0.5510427664329665,
          -0.24058117400525328,
          0.16417131262294724,
          -0.3102380158065602,
          -0.8529174415650205,
          0.3163734957079522,
          -0.2752409082778299,
          -0.2879824004685477,
          -0.3508378270377486,
          0.5027207318389108,
          0.3274874445311629,
          -0.7761129953829882,
          1.750275848255174,
          0.9752005281881441,
          -0.8529174415650205,
          1.4160658631078968,
          -0.20665943329682734,
          -0.39705134882416154,
          -0.022339622247478343,
          0.9967469153559236,
          0.8109747981483754,
          -0.22800562598858867,
          -0.26319242266259685,
          0.27180656089957866,
          0.3636842646993218,
          -0.20891038678448284,
          0.10904930900877854,
          -0.7278232344922291,
          -0.6465562585322905,
          2.1419370905320645,
          -0.35373952960379346,
          1.2699900385452774,
          -0.7653011126229194,
          1.0987536731964969,
          -0.3568629576196047,
          -0.8529174415650205,
          -0.8529174415650205,
          -0.007878353525343171,
          1.7245317058981449,
          0.7194065367819533,
          0.34708182283275113,
          -0.779222691262969,
          -0.7757979681644882
         ],
         "xaxis": "x",
         "y": [
          -0.45660289143978655,
          0.624746548968691,
          -5.551115123125783e-16,
          -5.551115123125783e-16,
          0.370724091866602,
          0.028196723843944838,
          0.5640791148243322,
          -5.551115123125783e-16,
          0.9680325707625652,
          0.05026444667327701,
          -0.10217030271919905,
          0.13926204450173812,
          -0.08271545307274658,
          -0.7367867567960908,
          -0.2038464355578412,
          0.5460470484138769,
          0.0031907668892340313,
          0.9103879641266456,
          -5.551115123125783e-16,
          0.1923065520283323,
          -0.09233634232726784,
          0.20009243490130046,
          -0.051605867535236924,
          -0.08966891446484276,
          0.0583108204014989,
          -0.014590762247667866,
          0.2106554540553761,
          -0.5273556384124114,
          0.36714828186646054,
          0.11454431232066804,
          -0.17203873466465736,
          -5.551115123125783e-16,
          0.09123121352714397,
          0.005421423081592658,
          0.08007330703645266,
          -0.025817905365569827,
          0.3597285393013562,
          -0.39777999179683465,
          -0.1286249747095777,
          0.09981410323656084,
          -0.09633945883277978,
          -5.551115123125783e-16,
          -0.15131665231152977,
          0.0893928334188357,
          0.6804769377623665,
          0.09906988728843402,
          -0.5615022184484066,
          0.12979366838318956,
          0.007978751898363168,
          0.0989937361012938,
          0.8105495859945694,
          -5.551115123125783e-16,
          -0.39383848902466667,
          0.016034631067278454,
          0.09073725486740031,
          1.7010959890896344,
          -0.23148657212959978,
          -0.307327569627567,
          0.018982273754345552,
          -0.14035431492734612,
          -0.07653368171236216,
          -0.37790651804365605,
          -0.10366785891051414,
          0.08209947545095198,
          -0.015880947056604033,
          -0.04728230994459248,
          0.46158402373412377,
          0.3258478590360433,
          -0.5810268022705544,
          -0.022856597669740575,
          -0.35017174813389207,
          -0.040035553500390175,
          -5.551115123125783e-16,
          -5.551115123125783e-16,
          0.09923814434610556,
          -0.7574613379629205,
          -0.5275218884068211,
          0.672488322697601,
          0.0007752895625733336,
          -0.012993297780010793
         ],
         "yaxis": "y"
        }
       ],
       "layout": {
        "legend": {
         "tracegroupgap": 0
        },
        "shapes": [
         {
          "line": {
           "color": "Red",
           "dash": "dash"
          },
          "type": "line",
          "x0": -0.8529174415650205,
          "x1": 2.1419370905320645,
          "y0": 0,
          "y1": 0
         }
        ],
        "template": {
         "data": {
          "bar": [
           {
            "error_x": {
             "color": "#2a3f5f"
            },
            "error_y": {
             "color": "#2a3f5f"
            },
            "marker": {
             "line": {
              "color": "#E5ECF6",
              "width": 0.5
             },
             "pattern": {
              "fillmode": "overlay",
              "size": 10,
              "solidity": 0.2
             }
            },
            "type": "bar"
           }
          ],
          "barpolar": [
           {
            "marker": {
             "line": {
              "color": "#E5ECF6",
              "width": 0.5
             },
             "pattern": {
              "fillmode": "overlay",
              "size": 10,
              "solidity": 0.2
             }
            },
            "type": "barpolar"
           }
          ],
          "carpet": [
           {
            "aaxis": {
             "endlinecolor": "#2a3f5f",
             "gridcolor": "white",
             "linecolor": "white",
             "minorgridcolor": "white",
             "startlinecolor": "#2a3f5f"
            },
            "baxis": {
             "endlinecolor": "#2a3f5f",
             "gridcolor": "white",
             "linecolor": "white",
             "minorgridcolor": "white",
             "startlinecolor": "#2a3f5f"
            },
            "type": "carpet"
           }
          ],
          "choropleth": [
           {
            "colorbar": {
             "outlinewidth": 0,
             "ticks": ""
            },
            "type": "choropleth"
           }
          ],
          "contour": [
           {
            "colorbar": {
             "outlinewidth": 0,
             "ticks": ""
            },
            "colorscale": [
             [
              0,
              "#0d0887"
             ],
             [
              0.1111111111111111,
              "#46039f"
             ],
             [
              0.2222222222222222,
              "#7201a8"
             ],
             [
              0.3333333333333333,
              "#9c179e"
             ],
             [
              0.4444444444444444,
              "#bd3786"
             ],
             [
              0.5555555555555556,
              "#d8576b"
             ],
             [
              0.6666666666666666,
              "#ed7953"
             ],
             [
              0.7777777777777778,
              "#fb9f3a"
             ],
             [
              0.8888888888888888,
              "#fdca26"
             ],
             [
              1,
              "#f0f921"
             ]
            ],
            "type": "contour"
           }
          ],
          "contourcarpet": [
           {
            "colorbar": {
             "outlinewidth": 0,
             "ticks": ""
            },
            "type": "contourcarpet"
           }
          ],
          "heatmap": [
           {
            "colorbar": {
             "outlinewidth": 0,
             "ticks": ""
            },
            "colorscale": [
             [
              0,
              "#0d0887"
             ],
             [
              0.1111111111111111,
              "#46039f"
             ],
             [
              0.2222222222222222,
              "#7201a8"
             ],
             [
              0.3333333333333333,
              "#9c179e"
             ],
             [
              0.4444444444444444,
              "#bd3786"
             ],
             [
              0.5555555555555556,
              "#d8576b"
             ],
             [
              0.6666666666666666,
              "#ed7953"
             ],
             [
              0.7777777777777778,
              "#fb9f3a"
             ],
             [
              0.8888888888888888,
              "#fdca26"
             ],
             [
              1,
              "#f0f921"
             ]
            ],
            "type": "heatmap"
           }
          ],
          "heatmapgl": [
           {
            "colorbar": {
             "outlinewidth": 0,
             "ticks": ""
            },
            "colorscale": [
             [
              0,
              "#0d0887"
             ],
             [
              0.1111111111111111,
              "#46039f"
             ],
             [
              0.2222222222222222,
              "#7201a8"
             ],
             [
              0.3333333333333333,
              "#9c179e"
             ],
             [
              0.4444444444444444,
              "#bd3786"
             ],
             [
              0.5555555555555556,
              "#d8576b"
             ],
             [
              0.6666666666666666,
              "#ed7953"
             ],
             [
              0.7777777777777778,
              "#fb9f3a"
             ],
             [
              0.8888888888888888,
              "#fdca26"
             ],
             [
              1,
              "#f0f921"
             ]
            ],
            "type": "heatmapgl"
           }
          ],
          "histogram": [
           {
            "marker": {
             "pattern": {
              "fillmode": "overlay",
              "size": 10,
              "solidity": 0.2
             }
            },
            "type": "histogram"
           }
          ],
          "histogram2d": [
           {
            "colorbar": {
             "outlinewidth": 0,
             "ticks": ""
            },
            "colorscale": [
             [
              0,
              "#0d0887"
             ],
             [
              0.1111111111111111,
              "#46039f"
             ],
             [
              0.2222222222222222,
              "#7201a8"
             ],
             [
              0.3333333333333333,
              "#9c179e"
             ],
             [
              0.4444444444444444,
              "#bd3786"
             ],
             [
              0.5555555555555556,
              "#d8576b"
             ],
             [
              0.6666666666666666,
              "#ed7953"
             ],
             [
              0.7777777777777778,
              "#fb9f3a"
             ],
             [
              0.8888888888888888,
              "#fdca26"
             ],
             [
              1,
              "#f0f921"
             ]
            ],
            "type": "histogram2d"
           }
          ],
          "histogram2dcontour": [
           {
            "colorbar": {
             "outlinewidth": 0,
             "ticks": ""
            },
            "colorscale": [
             [
              0,
              "#0d0887"
             ],
             [
              0.1111111111111111,
              "#46039f"
             ],
             [
              0.2222222222222222,
              "#7201a8"
             ],
             [
              0.3333333333333333,
              "#9c179e"
             ],
             [
              0.4444444444444444,
              "#bd3786"
             ],
             [
              0.5555555555555556,
              "#d8576b"
             ],
             [
              0.6666666666666666,
              "#ed7953"
             ],
             [
              0.7777777777777778,
              "#fb9f3a"
             ],
             [
              0.8888888888888888,
              "#fdca26"
             ],
             [
              1,
              "#f0f921"
             ]
            ],
            "type": "histogram2dcontour"
           }
          ],
          "mesh3d": [
           {
            "colorbar": {
             "outlinewidth": 0,
             "ticks": ""
            },
            "type": "mesh3d"
           }
          ],
          "parcoords": [
           {
            "line": {
             "colorbar": {
              "outlinewidth": 0,
              "ticks": ""
             }
            },
            "type": "parcoords"
           }
          ],
          "pie": [
           {
            "automargin": true,
            "type": "pie"
           }
          ],
          "scatter": [
           {
            "fillpattern": {
             "fillmode": "overlay",
             "size": 10,
             "solidity": 0.2
            },
            "type": "scatter"
           }
          ],
          "scatter3d": [
           {
            "line": {
             "colorbar": {
              "outlinewidth": 0,
              "ticks": ""
             }
            },
            "marker": {
             "colorbar": {
              "outlinewidth": 0,
              "ticks": ""
             }
            },
            "type": "scatter3d"
           }
          ],
          "scattercarpet": [
           {
            "marker": {
             "colorbar": {
              "outlinewidth": 0,
              "ticks": ""
             }
            },
            "type": "scattercarpet"
           }
          ],
          "scattergeo": [
           {
            "marker": {
             "colorbar": {
              "outlinewidth": 0,
              "ticks": ""
             }
            },
            "type": "scattergeo"
           }
          ],
          "scattergl": [
           {
            "marker": {
             "colorbar": {
              "outlinewidth": 0,
              "ticks": ""
             }
            },
            "type": "scattergl"
           }
          ],
          "scattermapbox": [
           {
            "marker": {
             "colorbar": {
              "outlinewidth": 0,
              "ticks": ""
             }
            },
            "type": "scattermapbox"
           }
          ],
          "scatterpolar": [
           {
            "marker": {
             "colorbar": {
              "outlinewidth": 0,
              "ticks": ""
             }
            },
            "type": "scatterpolar"
           }
          ],
          "scatterpolargl": [
           {
            "marker": {
             "colorbar": {
              "outlinewidth": 0,
              "ticks": ""
             }
            },
            "type": "scatterpolargl"
           }
          ],
          "scatterternary": [
           {
            "marker": {
             "colorbar": {
              "outlinewidth": 0,
              "ticks": ""
             }
            },
            "type": "scatterternary"
           }
          ],
          "surface": [
           {
            "colorbar": {
             "outlinewidth": 0,
             "ticks": ""
            },
            "colorscale": [
             [
              0,
              "#0d0887"
             ],
             [
              0.1111111111111111,
              "#46039f"
             ],
             [
              0.2222222222222222,
              "#7201a8"
             ],
             [
              0.3333333333333333,
              "#9c179e"
             ],
             [
              0.4444444444444444,
              "#bd3786"
             ],
             [
              0.5555555555555556,
              "#d8576b"
             ],
             [
              0.6666666666666666,
              "#ed7953"
             ],
             [
              0.7777777777777778,
              "#fb9f3a"
             ],
             [
              0.8888888888888888,
              "#fdca26"
             ],
             [
              1,
              "#f0f921"
             ]
            ],
            "type": "surface"
           }
          ],
          "table": [
           {
            "cells": {
             "fill": {
              "color": "#EBF0F8"
             },
             "line": {
              "color": "white"
             }
            },
            "header": {
             "fill": {
              "color": "#C8D4E3"
             },
             "line": {
              "color": "white"
             }
            },
            "type": "table"
           }
          ]
         },
         "layout": {
          "annotationdefaults": {
           "arrowcolor": "#2a3f5f",
           "arrowhead": 0,
           "arrowwidth": 1
          },
          "autotypenumbers": "strict",
          "coloraxis": {
           "colorbar": {
            "outlinewidth": 0,
            "ticks": ""
           }
          },
          "colorscale": {
           "diverging": [
            [
             0,
             "#8e0152"
            ],
            [
             0.1,
             "#c51b7d"
            ],
            [
             0.2,
             "#de77ae"
            ],
            [
             0.3,
             "#f1b6da"
            ],
            [
             0.4,
             "#fde0ef"
            ],
            [
             0.5,
             "#f7f7f7"
            ],
            [
             0.6,
             "#e6f5d0"
            ],
            [
             0.7,
             "#b8e186"
            ],
            [
             0.8,
             "#7fbc41"
            ],
            [
             0.9,
             "#4d9221"
            ],
            [
             1,
             "#276419"
            ]
           ],
           "sequential": [
            [
             0,
             "#0d0887"
            ],
            [
             0.1111111111111111,
             "#46039f"
            ],
            [
             0.2222222222222222,
             "#7201a8"
            ],
            [
             0.3333333333333333,
             "#9c179e"
            ],
            [
             0.4444444444444444,
             "#bd3786"
            ],
            [
             0.5555555555555556,
             "#d8576b"
            ],
            [
             0.6666666666666666,
             "#ed7953"
            ],
            [
             0.7777777777777778,
             "#fb9f3a"
            ],
            [
             0.8888888888888888,
             "#fdca26"
            ],
            [
             1,
             "#f0f921"
            ]
           ],
           "sequentialminus": [
            [
             0,
             "#0d0887"
            ],
            [
             0.1111111111111111,
             "#46039f"
            ],
            [
             0.2222222222222222,
             "#7201a8"
            ],
            [
             0.3333333333333333,
             "#9c179e"
            ],
            [
             0.4444444444444444,
             "#bd3786"
            ],
            [
             0.5555555555555556,
             "#d8576b"
            ],
            [
             0.6666666666666666,
             "#ed7953"
            ],
            [
             0.7777777777777778,
             "#fb9f3a"
            ],
            [
             0.8888888888888888,
             "#fdca26"
            ],
            [
             1,
             "#f0f921"
            ]
           ]
          },
          "colorway": [
           "#636efa",
           "#EF553B",
           "#00cc96",
           "#ab63fa",
           "#FFA15A",
           "#19d3f3",
           "#FF6692",
           "#B6E880",
           "#FF97FF",
           "#FECB52"
          ],
          "font": {
           "color": "#2a3f5f"
          },
          "geo": {
           "bgcolor": "white",
           "lakecolor": "white",
           "landcolor": "#E5ECF6",
           "showlakes": true,
           "showland": true,
           "subunitcolor": "white"
          },
          "hoverlabel": {
           "align": "left"
          },
          "hovermode": "closest",
          "mapbox": {
           "style": "light"
          },
          "paper_bgcolor": "white",
          "plot_bgcolor": "#E5ECF6",
          "polar": {
           "angularaxis": {
            "gridcolor": "white",
            "linecolor": "white",
            "ticks": ""
           },
           "bgcolor": "#E5ECF6",
           "radialaxis": {
            "gridcolor": "white",
            "linecolor": "white",
            "ticks": ""
           }
          },
          "scene": {
           "xaxis": {
            "backgroundcolor": "#E5ECF6",
            "gridcolor": "white",
            "gridwidth": 2,
            "linecolor": "white",
            "showbackground": true,
            "ticks": "",
            "zerolinecolor": "white"
           },
           "yaxis": {
            "backgroundcolor": "#E5ECF6",
            "gridcolor": "white",
            "gridwidth": 2,
            "linecolor": "white",
            "showbackground": true,
            "ticks": "",
            "zerolinecolor": "white"
           },
           "zaxis": {
            "backgroundcolor": "#E5ECF6",
            "gridcolor": "white",
            "gridwidth": 2,
            "linecolor": "white",
            "showbackground": true,
            "ticks": "",
            "zerolinecolor": "white"
           }
          },
          "shapedefaults": {
           "line": {
            "color": "#2a3f5f"
           }
          },
          "ternary": {
           "aaxis": {
            "gridcolor": "white",
            "linecolor": "white",
            "ticks": ""
           },
           "baxis": {
            "gridcolor": "white",
            "linecolor": "white",
            "ticks": ""
           },
           "bgcolor": "#E5ECF6",
           "caxis": {
            "gridcolor": "white",
            "linecolor": "white",
            "ticks": ""
           }
          },
          "title": {
           "x": 0.05
          },
          "xaxis": {
           "automargin": true,
           "gridcolor": "white",
           "linecolor": "white",
           "ticks": "",
           "title": {
            "standoff": 15
           },
           "zerolinecolor": "white",
           "zerolinewidth": 2
          },
          "yaxis": {
           "automargin": true,
           "gridcolor": "white",
           "linecolor": "white",
           "ticks": "",
           "title": {
            "standoff": 15
           },
           "zerolinecolor": "white",
           "zerolinewidth": 2
          }
         }
        },
        "title": {
         "text": "Curva de Residuos"
        },
        "xaxis": {
         "anchor": "y",
         "domain": [
          0,
          1
         ],
         "title": {
          "text": "Valores Reales"
         }
        },
        "yaxis": {
         "anchor": "x",
         "domain": [
          0,
          1
         ],
         "title": {
          "text": "Residuos"
         }
        }
       }
      }
     },
     "metadata": {},
     "output_type": "display_data"
    }
   ],
   "source": [
    "residuals = y_valid_pred - y_valid\n",
    "fig_residuals = px.scatter(x=y_valid, y=residuals, labels={'x': 'Valores Reales', 'y': 'Residuos'}, title='Curva de Residuos')\n",
    "fig_residuals.add_shape(type='line', x0=y_valid.min(), y0=0, x1=y_valid.max(), y1=0, line=dict(color='Red', dash='dash'))\n",
    "fig_residuals.show()"
   ]
  }
 ],
 "metadata": {
  "kernelspec": {
   "display_name": "base",
   "language": "python",
   "name": "python3"
  },
  "language_info": {
   "codemirror_mode": {
    "name": "ipython",
    "version": 3
   },
   "file_extension": ".py",
   "mimetype": "text/x-python",
   "name": "python",
   "nbconvert_exporter": "python",
   "pygments_lexer": "ipython3",
   "version": "3.12.7"
  }
 },
 "nbformat": 4,
 "nbformat_minor": 5
}
